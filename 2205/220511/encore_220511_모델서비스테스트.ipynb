{
 "cells": [
  {
   "cell_type": "code",
   "execution_count": 17,
   "id": "d0339c31-6cca-4e97-ad8c-de8932fc35a3",
   "metadata": {},
   "outputs": [],
   "source": [
    "import requests\n",
    "from PIL import Image\n",
    "import matplotlib.pyplot as plt\n",
    "from io import BytesIO\n",
    "import base64"
   ]
  },
  {
   "cell_type": "code",
   "execution_count": 18,
   "id": "c5e21d8b-1ded-40f8-8f00-4972bf5ac17f",
   "metadata": {},
   "outputs": [],
   "source": [
    "url  = \"http://52.79.105.4:8000/predict/\""
   ]
  },
  {
   "cell_type": "code",
   "execution_count": 20,
   "id": "a6359001-4c19-4a45-8641-0bdae2ad1be7",
   "metadata": {},
   "outputs": [],
   "source": [
    "with open('../pictu/앵무새test.jpg', 'rb') as img:\n",
    "    base64_string = base64.b64encode(img.read())"
   ]
  },
  {
   "cell_type": "code",
   "execution_count": 21,
   "id": "b75939fb-52eb-424a-a3f5-f1667d00ec71",
   "metadata": {},
   "outputs": [],
   "source": [
    "data = {'image' : base64_string}"
   ]
  },
  {
   "cell_type": "code",
   "execution_count": 22,
   "id": "292aee5a-b2aa-41a8-a242-702f655ba47b",
   "metadata": {},
   "outputs": [],
   "source": [
    "r = requests.post(url, data = data)"
   ]
  },
  {
   "cell_type": "code",
   "execution_count": 23,
   "id": "7fef5906",
   "metadata": {},
   "outputs": [
    {
     "data": {
      "text/plain": [
       "'{\"type\":\"bird\"}'"
      ]
     },
     "execution_count": 23,
     "metadata": {},
     "output_type": "execute_result"
    }
   ],
   "source": [
    "r.text"
   ]
  },
  {
   "cell_type": "code",
   "execution_count": 13,
   "id": "3af8b744",
   "metadata": {},
   "outputs": [],
   "source": [
    "with open('../pictu/강아지test.jpg', 'rb') as img:\n",
    "    base64_string = base64.b64encode(img.read())"
   ]
  },
  {
   "cell_type": "code",
   "execution_count": 14,
   "id": "ffce263b",
   "metadata": {},
   "outputs": [],
   "source": [
    "data = {'image' : base64_string}"
   ]
  },
  {
   "cell_type": "code",
   "execution_count": 15,
   "id": "16a8c19d",
   "metadata": {},
   "outputs": [],
   "source": [
    "r = requests.post(url, data = data)"
   ]
  },
  {
   "cell_type": "code",
   "execution_count": 16,
   "id": "02bcf437",
   "metadata": {},
   "outputs": [
    {
     "data": {
      "text/plain": [
       "'{\"breed\":\"golden_retriever\"}'"
      ]
     },
     "execution_count": 16,
     "metadata": {},
     "output_type": "execute_result"
    }
   ],
   "source": [
    "r.text"
   ]
  },
  {
   "cell_type": "code",
   "execution_count": null,
   "id": "73f64db2",
   "metadata": {},
   "outputs": [],
   "source": []
  }
 ],
 "metadata": {
  "kernelspec": {
   "display_name": "Python 3 (ipykernel)",
   "language": "python",
   "name": "python3"
  },
  "language_info": {
   "codemirror_mode": {
    "name": "ipython",
    "version": 3
   },
   "file_extension": ".py",
   "mimetype": "text/x-python",
   "name": "python",
   "nbconvert_exporter": "python",
   "pygments_lexer": "ipython3",
   "version": "3.9.7"
  }
 },
 "nbformat": 4,
 "nbformat_minor": 5
}
