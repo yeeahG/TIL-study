{
 "cells": [
  {
   "cell_type": "code",
   "execution_count": 2,
   "id": "36794572-fb83-4909-a4b2-1e906bddb8e9",
   "metadata": {},
   "outputs": [],
   "source": [
    "from keras.models import model_from_json\n",
    "import numpy as np\n",
    "import scipy.misc\n",
    "from tensorflow.keras.models import model_from_json\n",
    "from tensorflow.keras.optimizers import SGD\n",
    "from PIL import Image"
   ]
  },
  {
   "cell_type": "code",
   "execution_count": 3,
   "id": "6a9d4027-5d64-4340-b24d-5f6cfd412f66",
   "metadata": {},
   "outputs": [],
   "source": [
    "with open(\"./model/model.json\", \"r\") as f:\n",
    "    model = model_from_json(f.read())"
   ]
  },
  {
   "cell_type": "code",
   "execution_count": 4,
   "id": "ff877a60-6c60-4734-a6c2-fc31e32c671d",
   "metadata": {},
   "outputs": [],
   "source": [
    "model.load_weights('./model/model.h5')"
   ]
  },
  {
   "cell_type": "code",
   "execution_count": 5,
   "id": "6447dc0a-4be0-41d8-8437-5eb4819dad35",
   "metadata": {},
   "outputs": [],
   "source": [
    "label = {0 : \"airplane\",\n",
    "        1 : \"automobile\",\n",
    "        2 : \"bird\",\n",
    "        3 : \"cat\",\n",
    "        4 : \"deer\",\n",
    "        5 : \"dog\",\n",
    "        6 : \"frog\",\n",
    "        7 : \"horse\",\n",
    "        8 : \"ship\",\n",
    "        9 : \"truck\",}"
   ]
  },
  {
   "cell_type": "code",
   "execution_count": 7,
   "id": "c5115490-3e2f-4d89-afda-5c4bacbd8e0a",
   "metadata": {},
   "outputs": [],
   "source": [
    "optim = SGD()\n",
    "model.compile(loss='categorical_crossentropy', optimizer=optim, metrics=['accuracy'])"
   ]
  },
  {
   "cell_type": "code",
   "execution_count": 23,
   "id": "fa1e0730-c331-4822-a312-5196980d58ee",
   "metadata": {},
   "outputs": [],
   "source": [
    "image = Image.open(\"./pic/ultra-icv.jpg\").resize(size=(32, 32)) \n",
    "my_image = np.array(image, dtype=float) / 255\n",
    "my_image = my_image.reshape(-1,32,32,3)"
   ]
  },
  {
   "cell_type": "code",
   "execution_count": 24,
   "id": "47ede8d4-bc0c-478f-b55d-024a7847301d",
   "metadata": {},
   "outputs": [
    {
     "data": {
      "image/png": "[encoded data removed]",
      "text/plain": [
       "<PIL.Image.Image image mode=RGB size=32x32 at 0x21014DCD4C0>"
      ]
     },
     "execution_count": 24,
     "metadata": {},
     "output_type": "execute_result"
    }
   ],
   "source": [
    "image"
   ]
  },
  {
   "cell_type": "code",
   "execution_count": 25,
   "id": "40edd719-177b-4d2d-b9e5-3151b529a6e5",
   "metadata": {},
   "outputs": [
    {
     "data": {
      "text/plain": [
       "(1, 32, 32, 3)"
      ]
     },
     "execution_count": 25,
     "metadata": {},
     "output_type": "execute_result"
    }
   ],
   "source": [
    "my_image.shape"
   ]
  },
  {
   "cell_type": "code",
   "execution_count": 26,
   "id": "5e3cde46-2f8c-4a86-8479-d4cdf64e5794",
   "metadata": {},
   "outputs": [
    {
     "data": {
      "text/plain": [
       "'truck'"
      ]
     },
     "execution_count": 26,
     "metadata": {},
     "output_type": "execute_result"
    }
   ],
   "source": [
    "label[np.argmax(model.predict(my_image))]"
   ]
  },
  {
   "cell_type": "code",
   "execution_count": null,
   "id": "bd8b4eed-00f3-4abf-b09f-6ebeccad194e",
   "metadata": {},
   "outputs": [],
   "source": []
  }
 ],
 "metadata": {
  "kernelspec": {
   "display_name": "Python 3 (ipykernel)",
   "language": "python",
   "name": "python3"
  },
  "language_info": {
   "codemirror_mode": {
    "name": "ipython",
    "version": 3
   },
   "file_extension": ".py",
   "mimetype": "text/x-python",
   "name": "python",
   "nbconvert_exporter": "python",
   "pygments_lexer": "ipython3",
   "version": "3.9.7"
  }
 },
 "nbformat": 4,
 "nbformat_minor": 5
}
