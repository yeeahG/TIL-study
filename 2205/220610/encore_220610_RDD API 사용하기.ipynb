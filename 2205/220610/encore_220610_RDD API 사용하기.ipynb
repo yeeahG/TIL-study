{
 "cells": [
  {
   "cell_type": "markdown",
   "id": "32a2cfd5",
   "metadata": {},
   "source": [
    "# RDD API 사용하기"
   ]
  },
  {
   "cell_type": "code",
   "execution_count": 1,
   "id": "a8300a42",
   "metadata": {},
   "outputs": [],
   "source": [
    "from pyspark import SparkConf, SparkContext"
   ]
  },
  {
   "cell_type": "code",
   "execution_count": 2,
   "id": "08a9a819",
   "metadata": {},
   "outputs": [],
   "source": [
    "from pyspark.sql.types import StructType,StructField, StringType, IntegerType\n",
    "myschema = StructType([\n",
    "         StructField('id', StringType(), True),\n",
    "         StructField('name', StringType(), True),\n",
    "         StructField('age', IntegerType(), True),\n",
    "         StructField('count', IntegerType(), True)\n",
    "         ])"
   ]
  },
  {
   "cell_type": "code",
   "execution_count": 3,
   "id": "4f88bdb5",
   "metadata": {},
   "outputs": [],
   "source": [
    "df = spark.read.format(\"csv\")\\\n",
    "    .schema(myschema)\\\n",
    "  .option(\"header\", \"false\")\\\n",
    "  .load(\"./fakefriends.csv\")"
   ]
  },
  {
   "cell_type": "code",
   "execution_count": 4,
   "id": "f6b11b01",
   "metadata": {},
   "outputs": [
    {
     "data": {
      "text/plain": [
       "StructType(List(StructField(id,StringType,true),StructField(name,StringType,true),StructField(age,IntegerType,true),StructField(count,IntegerType,true)))"
      ]
     },
     "execution_count": 4,
     "metadata": {},
     "output_type": "execute_result"
    }
   ],
   "source": [
    "df.schema"
   ]
  },
  {
   "cell_type": "code",
   "execution_count": 5,
   "id": "75113fb5",
   "metadata": {},
   "outputs": [
    {
     "name": "stderr",
     "output_type": "stream",
     "text": [
      "\r",
      "[Stage 0:>                                                          (0 + 1) / 1]\r"
     ]
    },
    {
     "name": "stdout",
     "output_type": "stream",
     "text": [
      "+---+--------+---+-----+\n",
      "| id|    name|age|count|\n",
      "+---+--------+---+-----+\n",
      "|  0|    Will| 33|  385|\n",
      "|  1|Jean-Luc| 26|    2|\n",
      "|  2|    Hugh| 55|  221|\n",
      "+---+--------+---+-----+\n",
      "only showing top 3 rows\n",
      "\n"
     ]
    },
    {
     "name": "stderr",
     "output_type": "stream",
     "text": [
      "\r",
      "                                                                                \r"
     ]
    }
   ],
   "source": [
    "df.show(3)"
   ]
  },
  {
   "cell_type": "code",
   "execution_count": 6,
   "id": "172afaae",
   "metadata": {},
   "outputs": [
    {
     "name": "stderr",
     "output_type": "stream",
     "text": [
      "\r",
      "[Stage 1:>                                                          (0 + 1) / 1]\r"
     ]
    },
    {
     "name": "stdout",
     "output_type": "stream",
     "text": [
      "+---+--------+------------------+\n",
      "|age|avg(age)|        avg(count)|\n",
      "+---+--------+------------------+\n",
      "| 31|    31.0|            267.25|\n",
      "| 65|    65.0|             298.2|\n",
      "| 53|    53.0|222.85714285714286|\n",
      "| 34|    34.0|             245.5|\n",
      "| 28|    28.0|             209.1|\n",
      "| 26|    26.0|242.05882352941177|\n",
      "| 27|    27.0|           228.125|\n",
      "| 44|    44.0| 282.1666666666667|\n",
      "| 22|    22.0|206.42857142857142|\n",
      "| 47|    47.0|233.22222222222223|\n",
      "| 52|    52.0| 340.6363636363636|\n",
      "| 40|    40.0| 250.8235294117647|\n",
      "| 20|    20.0|             165.0|\n",
      "| 57|    57.0| 258.8333333333333|\n",
      "| 54|    54.0| 278.0769230769231|\n",
      "| 48|    48.0|             281.4|\n",
      "| 19|    19.0|213.27272727272728|\n",
      "| 64|    64.0| 281.3333333333333|\n",
      "| 41|    41.0|268.55555555555554|\n",
      "| 43|    43.0|230.57142857142858|\n",
      "| 37|    37.0|249.33333333333334|\n",
      "| 61|    61.0|256.22222222222223|\n",
      "| 35|    35.0|           211.625|\n",
      "| 55|    55.0|295.53846153846155|\n",
      "| 59|    59.0|             220.0|\n",
      "| 39|    39.0|169.28571428571428|\n",
      "| 23|    23.0|             246.3|\n",
      "| 49|    49.0|184.66666666666666|\n",
      "| 51|    51.0|302.14285714285717|\n",
      "| 69|    69.0|             235.2|\n",
      "| 63|    63.0|             384.0|\n",
      "| 50|    50.0|             254.6|\n",
      "| 45|    45.0|309.53846153846155|\n",
      "| 38|    38.0|193.53333333333333|\n",
      "| 25|    25.0|197.45454545454547|\n",
      "| 24|    24.0|             233.8|\n",
      "| 62|    62.0|220.76923076923077|\n",
      "| 29|    29.0|215.91666666666666|\n",
      "| 21|    21.0|           350.875|\n",
      "| 60|    60.0|202.71428571428572|\n",
      "| 32|    32.0| 207.9090909090909|\n",
      "| 56|    56.0| 306.6666666666667|\n",
      "| 58|    58.0|116.54545454545455|\n",
      "| 33|    33.0| 325.3333333333333|\n",
      "| 68|    68.0|             269.6|\n",
      "| 42|    42.0|             303.5|\n",
      "| 30|    30.0| 235.8181818181818|\n",
      "| 66|    66.0|276.44444444444446|\n",
      "| 67|    67.0|           214.625|\n",
      "| 46|    46.0|223.69230769230768|\n",
      "+---+--------+------------------+\n",
      "only showing top 50 rows\n",
      "\n"
     ]
    },
    {
     "name": "stderr",
     "output_type": "stream",
     "text": [
      "\r",
      "                                                                                \r"
     ]
    }
   ],
   "source": [
    "df.groupby('age').mean().show(50)"
   ]
  },
  {
   "cell_type": "code",
   "execution_count": 7,
   "id": "5d6e4413",
   "metadata": {},
   "outputs": [
    {
     "name": "stdout",
     "output_type": "stream",
     "text": [
      "+---+----------+\n",
      "|age|sum(count)|\n",
      "+---+----------+\n",
      "| 18|      2747|\n",
      "| 19|      2346|\n",
      "| 20|       825|\n",
      "| 21|      2807|\n",
      "| 22|      1445|\n",
      "| 23|      2463|\n",
      "| 24|      1169|\n",
      "| 25|      2172|\n",
      "| 26|      4115|\n",
      "| 27|      1825|\n",
      "| 28|      2091|\n",
      "| 29|      2591|\n",
      "| 30|      2594|\n",
      "| 31|      2138|\n",
      "| 32|      2287|\n",
      "| 33|      3904|\n",
      "| 34|      1473|\n",
      "| 35|      1693|\n",
      "| 36|      2466|\n",
      "| 37|      2244|\n",
      "| 38|      2903|\n",
      "| 39|      1185|\n",
      "| 40|      4264|\n",
      "| 41|      2417|\n",
      "| 42|      1821|\n",
      "| 43|      1614|\n",
      "| 44|      3386|\n",
      "| 45|      4024|\n",
      "| 46|      2908|\n",
      "| 47|      2099|\n",
      "| 48|      2814|\n",
      "| 49|      1108|\n",
      "| 50|      1273|\n",
      "| 51|      2115|\n",
      "| 52|      3747|\n",
      "| 53|      1560|\n",
      "| 54|      3615|\n",
      "| 55|      3842|\n",
      "| 56|      1840|\n",
      "| 57|      3106|\n",
      "| 58|      1282|\n",
      "| 59|      1980|\n",
      "| 60|      1419|\n",
      "| 61|      2306|\n",
      "| 62|      2870|\n",
      "| 63|      1536|\n",
      "| 64|      3376|\n",
      "| 65|      1491|\n",
      "| 66|      2488|\n",
      "| 67|      3434|\n",
      "| 68|      2696|\n",
      "| 69|      2352|\n",
      "+---+----------+\n",
      "\n"
     ]
    }
   ],
   "source": [
    "df.groupby('age').sum('count').sort('age').show(1000)"
   ]
  },
  {
   "cell_type": "code",
   "execution_count": 13,
   "id": "b784d5b8",
   "metadata": {},
   "outputs": [
    {
     "name": "stderr",
     "output_type": "stream",
     "text": [
      "\r",
      "[Stage 9:>                                                          (0 + 1) / 1]\r"
     ]
    },
    {
     "name": "stdout",
     "output_type": "stream",
     "text": [
      "+---+--------+------------------+\n",
      "|age|avg(age)|        avg(count)|\n",
      "+---+--------+------------------+\n",
      "| 18|    18.0|           343.375|\n",
      "| 19|    19.0|213.27272727272728|\n",
      "| 20|    20.0|             165.0|\n",
      "| 21|    21.0|           350.875|\n",
      "| 22|    22.0|206.42857142857142|\n",
      "| 23|    23.0|             246.3|\n",
      "| 24|    24.0|             233.8|\n",
      "| 25|    25.0|197.45454545454547|\n",
      "| 26|    26.0|242.05882352941177|\n",
      "| 27|    27.0|           228.125|\n",
      "| 28|    28.0|             209.1|\n",
      "| 29|    29.0|215.91666666666666|\n",
      "| 30|    30.0| 235.8181818181818|\n",
      "| 31|    31.0|            267.25|\n",
      "| 32|    32.0| 207.9090909090909|\n",
      "| 33|    33.0| 325.3333333333333|\n",
      "| 34|    34.0|             245.5|\n",
      "| 35|    35.0|           211.625|\n",
      "| 36|    36.0|             246.6|\n",
      "| 37|    37.0|249.33333333333334|\n",
      "| 38|    38.0|193.53333333333333|\n",
      "| 39|    39.0|169.28571428571428|\n",
      "| 40|    40.0| 250.8235294117647|\n",
      "| 41|    41.0|268.55555555555554|\n",
      "| 42|    42.0|             303.5|\n",
      "| 43|    43.0|230.57142857142858|\n",
      "| 44|    44.0| 282.1666666666667|\n",
      "| 45|    45.0|309.53846153846155|\n",
      "| 46|    46.0|223.69230769230768|\n",
      "| 47|    47.0|233.22222222222223|\n",
      "| 48|    48.0|             281.4|\n",
      "| 49|    49.0|184.66666666666666|\n",
      "| 50|    50.0|             254.6|\n",
      "| 51|    51.0|302.14285714285717|\n",
      "| 52|    52.0| 340.6363636363636|\n",
      "| 53|    53.0|222.85714285714286|\n",
      "| 54|    54.0| 278.0769230769231|\n",
      "| 55|    55.0|295.53846153846155|\n",
      "| 56|    56.0| 306.6666666666667|\n",
      "| 57|    57.0| 258.8333333333333|\n",
      "| 58|    58.0|116.54545454545455|\n",
      "| 59|    59.0|             220.0|\n",
      "| 60|    60.0|202.71428571428572|\n",
      "| 61|    61.0|256.22222222222223|\n",
      "| 62|    62.0|220.76923076923077|\n",
      "| 63|    63.0|             384.0|\n",
      "| 64|    64.0| 281.3333333333333|\n",
      "| 65|    65.0|             298.2|\n",
      "| 66|    66.0|276.44444444444446|\n",
      "| 67|    67.0|           214.625|\n",
      "| 68|    68.0|             269.6|\n",
      "| 69|    69.0|             235.2|\n",
      "+---+--------+------------------+\n",
      "\n"
     ]
    },
    {
     "name": "stderr",
     "output_type": "stream",
     "text": [
      "\r",
      "                                                                                \r"
     ]
    }
   ],
   "source": [
    "df.groupby('age').mean().sort('age').show(1000)"
   ]
  },
  {
   "cell_type": "code",
   "execution_count": null,
   "id": "4fee09b8",
   "metadata": {},
   "outputs": [],
   "source": []
  },
  {
   "cell_type": "code",
   "execution_count": null,
   "id": "b7bd319e",
   "metadata": {},
   "outputs": [],
   "source": []
  },
  {
   "cell_type": "code",
   "execution_count": null,
   "id": "a6105d20",
   "metadata": {},
   "outputs": [],
   "source": []
  },
  {
   "cell_type": "code",
   "execution_count": null,
   "id": "d6ee1554",
   "metadata": {},
   "outputs": [],
   "source": []
  },
  {
   "cell_type": "code",
   "execution_count": 8,
   "id": "be341413",
   "metadata": {},
   "outputs": [],
   "source": [
    "sc = SparkContext.getOrCreate();"
   ]
  },
  {
   "cell_type": "code",
   "execution_count": 9,
   "id": "e25b0c9a",
   "metadata": {},
   "outputs": [],
   "source": [
    "#/user/hadoop/fakefriends.csv\n",
    "lines = sc.textFile(\"./fakefriends.csv\")"
   ]
  },
  {
   "cell_type": "code",
   "execution_count": 10,
   "id": "7eb6e4f5",
   "metadata": {},
   "outputs": [
    {
     "data": {
      "text/plain": [
       "./fakefriends.csv MapPartitionsRDD[20] at textFile at NativeMethodAccessorImpl.java:0"
      ]
     },
     "execution_count": 10,
     "metadata": {},
     "output_type": "execute_result"
    }
   ],
   "source": [
    "lines"
   ]
  },
  {
   "cell_type": "code",
   "execution_count": 11,
   "id": "83ff9071",
   "metadata": {},
   "outputs": [],
   "source": [
    "def parseLine(line):\n",
    "    fields = line.split(',')\n",
    "    age = int(fields[2])\n",
    "    numFriends = int(fields[3])\n",
    "    return (age, numFriends)"
   ]
  },
  {
   "cell_type": "markdown",
   "id": "7ee093e6",
   "metadata": {},
   "source": [
    "### map\n",
    "* map 메서드는 주어진 입력을 원하는 값으로 반환하는 함수를 명시하고 레코드별로 적용\n",
    "\n",
    "### mapValues\n",
    "* 생성된 key-value 셋을 사용해 데이터에서 키를 제외하고 값(value)만 추출"
   ]
  },
  {
   "cell_type": "code",
   "execution_count": 12,
   "id": "a94d32bb",
   "metadata": {},
   "outputs": [
    {
     "name": "stderr",
     "output_type": "stream",
     "text": [
      "\r",
      "[Stage 7:>                                                          (0 + 2) / 2]\r"
     ]
    },
    {
     "name": "stdout",
     "output_type": "stream",
     "text": [
      "(60, 202.71428571428572)\n",
      "(32, 207.9090909090909)\n",
      "(68, 269.6)\n",
      "(38, 193.53333333333333)\n",
      "(40, 250.8235294117647)\n",
      "(66, 276.44444444444446)\n",
      "(26, 242.05882352941177)\n",
      "(44, 282.1666666666667)\n",
      "(64, 281.3333333333333)\n",
      "(54, 278.0769230769231)\n",
      "(46, 223.69230769230768)\n",
      "(30, 235.8181818181818)\n",
      "(56, 306.6666666666667)\n",
      "(62, 220.76923076923077)\n",
      "(28, 209.1)\n",
      "(36, 246.6)\n",
      "(58, 116.54545454545455)\n",
      "(20, 165.0)\n",
      "(18, 343.375)\n",
      "(52, 340.6363636363636)\n",
      "(48, 281.4)\n",
      "(22, 206.42857142857142)\n",
      "(50, 254.6)\n",
      "(24, 233.8)\n",
      "(42, 303.5)\n",
      "(34, 245.5)\n",
      "(33, 325.3333333333333)\n",
      "(55, 295.53846153846155)\n",
      "(59, 220.0)\n",
      "(37, 249.33333333333334)\n",
      "(27, 228.125)\n",
      "(53, 222.85714285714286)\n",
      "(57, 258.8333333333333)\n",
      "(43, 230.57142857142858)\n",
      "(35, 211.625)\n",
      "(45, 309.53846153846155)\n",
      "(67, 214.625)\n",
      "(19, 213.27272727272728)\n",
      "(51, 302.14285714285717)\n",
      "(25, 197.45454545454547)\n",
      "(21, 350.875)\n",
      "(49, 184.66666666666666)\n",
      "(39, 169.28571428571428)\n",
      "(31, 267.25)\n",
      "(41, 268.55555555555554)\n",
      "(69, 235.2)\n",
      "(65, 298.2)\n",
      "(61, 256.22222222222223)\n",
      "(29, 215.91666666666666)\n",
      "(47, 233.22222222222223)\n",
      "(63, 384.0)\n",
      "(23, 246.3)\n"
     ]
    },
    {
     "name": "stderr",
     "output_type": "stream",
     "text": [
      "\r",
      "                                                                                \r"
     ]
    }
   ],
   "source": [
    "rdd = lines.map(parseLine)\n",
    "totalsByAge = rdd.mapValues(lambda x: (x, 1)).reduceByKey(lambda x, y: (x[0] + y[0], x[1] + y[1]))\n",
    "averagesByAge = totalsByAge.mapValues(lambda x: x[0] / x[1])\n",
    "results = averagesByAge.collect()\n",
    "for result in results:\n",
    "    print(result)"
   ]
  },
  {
   "cell_type": "code",
   "execution_count": null,
   "id": "11478727",
   "metadata": {},
   "outputs": [],
   "source": []
  },
  {
   "cell_type": "code",
   "execution_count": null,
   "id": "2bbd393a",
   "metadata": {},
   "outputs": [],
   "source": []
  }
 ],
 "metadata": {
  "kernelspec": {
   "display_name": "Python 3 (ipykernel)",
   "language": "python",
   "name": "python3"
  },
  "language_info": {
   "codemirror_mode": {
    "name": "ipython",
    "version": 3
   },
   "file_extension": ".py",
   "mimetype": "text/x-python",
   "name": "python",
   "nbconvert_exporter": "python",
   "pygments_lexer": "ipython3",
   "version": "3.8.13"
  }
 },
 "nbformat": 4,
 "nbformat_minor": 5
}
