{
 "cells": [
  {
   "cell_type": "code",
   "execution_count": 1,
   "id": "8e7eccff",
   "metadata": {},
   "outputs": [
    {
     "name": "stderr",
     "output_type": "stream",
     "text": [
      "                                                                                \r"
     ]
    }
   ],
   "source": [
    "master = spark.read.format(\"csv\")\\\n",
    "  .option(\"header\", \"false\")\\\n",
    "  .load(\"/sqoop/stock_master/*\")"
   ]
  },
  {
   "cell_type": "code",
   "execution_count": 2,
   "id": "ef0c29a5",
   "metadata": {},
   "outputs": [
    {
     "name": "stderr",
     "output_type": "stream",
     "text": [
      "\r",
      "[Stage 1:>                                                          (0 + 1) / 1]\r"
     ]
    },
    {
     "name": "stdout",
     "output_type": "stream",
     "text": [
      "+-------+--------------+------------+------+----------+----------+----------+\n",
      "|    _c0|           _c1|         _c2|   _c3|       _c4|       _c5|       _c6|\n",
      "+-------+--------------+------------+------+----------+----------+----------+\n",
      "|A098120|마이크로컨텍솔|KR7098120009|KOSDAQ|2008-09-23|    보통주|2022-01-23|\n",
      "|A131100|  스카이이앤엠|KR7131100000|KOSDAQ|2011-06-14|    보통주|2022-01-23|\n",
      "|A009520|    포스코엠텍|KR7009520008|KOSDAQ|1997-11-10|    보통주|2022-01-23|\n",
      "|A095570|    AJ네트웍스|KR7095570008| KOSPI|2015-08-21|    보통주|2022-01-23|\n",
      "|A006840|      AK홀딩스|KR7006840003| KOSPI|1999-08-11|    보통주|2022-01-23|\n",
      "|A282330|     BGF리테일|KR7282330000| KOSPI|2017-12-08|    보통주|2022-01-23|\n",
      "|A027410|           BGF|KR7027410000| KOSPI|2014-05-19|    보통주|2022-01-23|\n",
      "|A138930|   BNK금융지주|KR7138930003| KOSPI|2011-03-30|    보통주|2022-01-23|\n",
      "|A001465|         BYC우|KR7001461003| KOSPI|1989-09-05|구형우선주|2022-01-23|\n",
      "|A001460|           BYC|KR7001460005| KOSPI|1975-06-02|    보통주|2022-01-23|\n",
      "|A001045|          CJ우|KR7001041003| KOSPI|1989-08-18|구형우선주|2022-01-23|\n",
      "|A00104K|   CJ4우(전환)|KR700104K010| KOSPI|2019-08-09|신형우선주|2022-01-23|\n",
      "|A001040|            CJ|KR7001040005| KOSPI|1973-06-29|    보통주|2022-01-23|\n",
      "|A011155|   CJ씨푸드1우|KR7011151008| KOSPI|1990-01-13|구형우선주|2022-01-23|\n",
      "|A011150|      CJ씨푸드|KR7011150000| KOSPI|1988-11-26|    보통주|2022-01-23|\n",
      "|A058820|       CMG제약|KR7058820002|KOSDAQ|2001-08-31|    보통주|2022-01-23|\n",
      "|A000590|      CS홀딩스|KR7000590000| KOSPI|1975-12-22|    보통주|2022-01-23|\n",
      "|A012030|            DB|KR7012030003| KOSPI|1993-01-06|    보통주|2022-01-23|\n",
      "|A016610|    DB금융투자|KR7016610008| KOSPI|1988-06-27|    보통주|2022-01-23|\n",
      "|A005830|    DB손해보험|KR7005830005| KOSPI|1973-06-28|    보통주|2022-01-23|\n",
      "+-------+--------------+------------+------+----------+----------+----------+\n",
      "only showing top 20 rows\n",
      "\n"
     ]
    },
    {
     "name": "stderr",
     "output_type": "stream",
     "text": [
      "\r",
      "                                                                                \r"
     ]
    }
   ],
   "source": [
    "master.show()"
   ]
  },
  {
   "cell_type": "code",
   "execution_count": 3,
   "id": "a8f95a08",
   "metadata": {},
   "outputs": [],
   "source": [
    "week = spark.read.format(\"csv\")\\\n",
    "  .option(\"header\", \"false\")\\\n",
    "  .load(\"/sqoop/naver_week_table3/*\")"
   ]
  },
  {
   "cell_type": "code",
   "execution_count": 4,
   "id": "41bf7bff",
   "metadata": {},
   "outputs": [
    {
     "name": "stdout",
     "output_type": "stream",
     "text": [
      "+-------+----------+----+----+----+----+------+\n",
      "|    _c0|       _c1| _c2| _c3| _c4| _c5|   _c6|\n",
      "+-------+----------+----+----+----+----+------+\n",
      "|A000020|2002-11-22|1350|1386|1342|1366|107861|\n",
      "|A000020|2002-11-29|1372|1412|1354|1390|124102|\n",
      "|A000020|2002-12-06|1412|1424|1380|1394|145479|\n",
      "|A000020|2002-12-13|1386|1466|1380|1404|214833|\n",
      "|A000020|2002-12-20|1400|1410|1376|1376| 98433|\n",
      "|A000020|2002-12-27|1384|1406|1310|1332| 80960|\n",
      "|A000020|2003-01-03|1330|1352|1284|1346| 80887|\n",
      "|A000020|2003-01-10|1334|1348|1296|1308|121400|\n",
      "|A000020|2003-01-17|1294|1348|1294|1320| 89108|\n",
      "|A000020|2003-01-24|1320|1342|1308|1320|100885|\n",
      "|A000020|2003-01-30|1308|1340|1270|1288| 67522|\n",
      "|A000020|2003-02-07|1282|1316|1282|1282| 42551|\n",
      "|A000020|2003-02-14|1266|1322|1262|1310|127853|\n",
      "|A000020|2003-02-21|1336|1366|1316|1316| 71314|\n",
      "|A000020|2003-02-28|1320|1344|1304|1314| 71280|\n",
      "|A000020|2003-03-07|1314|1338|1244|1246| 68690|\n",
      "|A000020|2003-03-14|1240|1242|1182|1222| 70757|\n",
      "|A000020|2003-03-21|1220|1290|1190|1290|148157|\n",
      "|A000020|2003-03-28|1296|1326|1222|1228|357964|\n",
      "|A000020|2003-04-04|1206|1316|1162|1242|367749|\n",
      "+-------+----------+----+----+----+----+------+\n",
      "only showing top 20 rows\n",
      "\n"
     ]
    }
   ],
   "source": [
    "week.show()"
   ]
  },
  {
   "cell_type": "code",
   "execution_count": 5,
   "id": "4a1581b5",
   "metadata": {},
   "outputs": [],
   "source": [
    "from pyspark.sql.types import StructField, StructType, StringType, LongType, DateType\n",
    "myManualSchema = StructType([\n",
    "  StructField(\"st_id\", StringType(), True),\n",
    "  StructField(\"st_name\", StringType(), True),\n",
    "  StructField(\"st_kr\", StringType(), True), \n",
    "  StructField(\"st_market\", StringType(), True),\n",
    "  StructField(\"list_dd\", DateType(), True),\n",
    "  StructField(\"kind_stkcert_tp_nm\", StringType(), True),\n",
    "  StructField(\"create_date\", DateType(), True)\n",
    "])"
   ]
  },
  {
   "cell_type": "code",
   "execution_count": 6,
   "id": "46cc1287",
   "metadata": {},
   "outputs": [],
   "source": [
    "master = spark.read.format(\"csv\")\\\n",
    "  .schema(myManualSchema)\\\n",
    "  .option(\"header\", \"false\")\\\n",
    "  .load(\"/sqoop/stock_master/*\")"
   ]
  },
  {
   "cell_type": "code",
   "execution_count": 7,
   "id": "65b0211f",
   "metadata": {},
   "outputs": [
    {
     "name": "stdout",
     "output_type": "stream",
     "text": [
      "+-------+--------------+------------+---------+----------+------------------+-----------+\n",
      "|  st_id|       st_name|       st_kr|st_market|   list_dd|kind_stkcert_tp_nm|create_date|\n",
      "+-------+--------------+------------+---------+----------+------------------+-----------+\n",
      "|A098120|마이크로컨텍솔|KR7098120009|   KOSDAQ|2008-09-23|            보통주| 2022-01-23|\n",
      "|A131100|  스카이이앤엠|KR7131100000|   KOSDAQ|2011-06-14|            보통주| 2022-01-23|\n",
      "|A009520|    포스코엠텍|KR7009520008|   KOSDAQ|1997-11-10|            보통주| 2022-01-23|\n",
      "|A095570|    AJ네트웍스|KR7095570008|    KOSPI|2015-08-21|            보통주| 2022-01-23|\n",
      "|A006840|      AK홀딩스|KR7006840003|    KOSPI|1999-08-11|            보통주| 2022-01-23|\n",
      "|A282330|     BGF리테일|KR7282330000|    KOSPI|2017-12-08|            보통주| 2022-01-23|\n",
      "|A027410|           BGF|KR7027410000|    KOSPI|2014-05-19|            보통주| 2022-01-23|\n",
      "|A138930|   BNK금융지주|KR7138930003|    KOSPI|2011-03-30|            보통주| 2022-01-23|\n",
      "|A001465|         BYC우|KR7001461003|    KOSPI|1989-09-05|        구형우선주| 2022-01-23|\n",
      "|A001460|           BYC|KR7001460005|    KOSPI|1975-06-02|            보통주| 2022-01-23|\n",
      "|A001045|          CJ우|KR7001041003|    KOSPI|1989-08-18|        구형우선주| 2022-01-23|\n",
      "|A00104K|   CJ4우(전환)|KR700104K010|    KOSPI|2019-08-09|        신형우선주| 2022-01-23|\n",
      "|A001040|            CJ|KR7001040005|    KOSPI|1973-06-29|            보통주| 2022-01-23|\n",
      "|A011155|   CJ씨푸드1우|KR7011151008|    KOSPI|1990-01-13|        구형우선주| 2022-01-23|\n",
      "|A011150|      CJ씨푸드|KR7011150000|    KOSPI|1988-11-26|            보통주| 2022-01-23|\n",
      "|A058820|       CMG제약|KR7058820002|   KOSDAQ|2001-08-31|            보통주| 2022-01-23|\n",
      "|A000590|      CS홀딩스|KR7000590000|    KOSPI|1975-12-22|            보통주| 2022-01-23|\n",
      "|A012030|            DB|KR7012030003|    KOSPI|1993-01-06|            보통주| 2022-01-23|\n",
      "|A016610|    DB금융투자|KR7016610008|    KOSPI|1988-06-27|            보통주| 2022-01-23|\n",
      "|A005830|    DB손해보험|KR7005830005|    KOSPI|1973-06-28|            보통주| 2022-01-23|\n",
      "+-------+--------------+------------+---------+----------+------------------+-----------+\n",
      "only showing top 20 rows\n",
      "\n"
     ]
    }
   ],
   "source": [
    "master.show()"
   ]
  },
  {
   "cell_type": "code",
   "execution_count": 8,
   "id": "0612a494",
   "metadata": {},
   "outputs": [],
   "source": [
    "from pyspark.sql.types import IntegerType\n",
    "myManualSchema_week = StructType([\n",
    "  StructField(\"st_id\", StringType(), True),\n",
    "  StructField(\"st_week\", DateType(), True),\n",
    "  StructField(\"st_open\", IntegerType(), True), \n",
    "  StructField(\"st_high\", IntegerType(), True),\n",
    "  StructField(\"st_low\", IntegerType(), True),\n",
    "  StructField(\"st_close\", IntegerType(), True),\n",
    "  StructField(\"st_trade\", IntegerType(), True)\n",
    "])"
   ]
  },
  {
   "cell_type": "code",
   "execution_count": 9,
   "id": "f8000599",
   "metadata": {},
   "outputs": [],
   "source": [
    "week = spark.read.format(\"csv\")\\\n",
    "  .schema(myManualSchema_week)\\\n",
    "  .option(\"header\", \"false\")\\\n",
    "  .load(\"/sqoop/naver_week_table3/*\")"
   ]
  },
  {
   "cell_type": "code",
   "execution_count": 10,
   "id": "2787601e",
   "metadata": {},
   "outputs": [
    {
     "name": "stdout",
     "output_type": "stream",
     "text": [
      "+-------+----------+-------+-------+------+--------+--------+\n",
      "|  st_id|   st_week|st_open|st_high|st_low|st_close|st_trade|\n",
      "+-------+----------+-------+-------+------+--------+--------+\n",
      "|A000020|2002-11-22|   1350|   1386|  1342|    1366|  107861|\n",
      "|A000020|2002-11-29|   1372|   1412|  1354|    1390|  124102|\n",
      "|A000020|2002-12-06|   1412|   1424|  1380|    1394|  145479|\n",
      "|A000020|2002-12-13|   1386|   1466|  1380|    1404|  214833|\n",
      "|A000020|2002-12-20|   1400|   1410|  1376|    1376|   98433|\n",
      "|A000020|2002-12-27|   1384|   1406|  1310|    1332|   80960|\n",
      "|A000020|2003-01-03|   1330|   1352|  1284|    1346|   80887|\n",
      "|A000020|2003-01-10|   1334|   1348|  1296|    1308|  121400|\n",
      "|A000020|2003-01-17|   1294|   1348|  1294|    1320|   89108|\n",
      "|A000020|2003-01-24|   1320|   1342|  1308|    1320|  100885|\n",
      "|A000020|2003-01-30|   1308|   1340|  1270|    1288|   67522|\n",
      "|A000020|2003-02-07|   1282|   1316|  1282|    1282|   42551|\n",
      "|A000020|2003-02-14|   1266|   1322|  1262|    1310|  127853|\n",
      "|A000020|2003-02-21|   1336|   1366|  1316|    1316|   71314|\n",
      "|A000020|2003-02-28|   1320|   1344|  1304|    1314|   71280|\n",
      "|A000020|2003-03-07|   1314|   1338|  1244|    1246|   68690|\n",
      "|A000020|2003-03-14|   1240|   1242|  1182|    1222|   70757|\n",
      "|A000020|2003-03-21|   1220|   1290|  1190|    1290|  148157|\n",
      "|A000020|2003-03-28|   1296|   1326|  1222|    1228|  357964|\n",
      "|A000020|2003-04-04|   1206|   1316|  1162|    1242|  367749|\n",
      "+-------+----------+-------+-------+------+--------+--------+\n",
      "only showing top 20 rows\n",
      "\n"
     ]
    }
   ],
   "source": [
    "week.show()"
   ]
  },
  {
   "cell_type": "markdown",
   "id": "1874c906",
   "metadata": {},
   "source": [
    "1. 두 테이블을 조인한다\n",
    "2. hdfs 저장\n",
    "(pig)\n",
    "\n",
    "------------\n",
    "1. spark에서 mysql 접속해서 위와 동일 작업"
   ]
  },
  {
   "cell_type": "code",
   "execution_count": 11,
   "id": "1fa7f71b",
   "metadata": {},
   "outputs": [],
   "source": [
    "# 조인 \n",
    "joinexpression = master['st_id'] == week['st_id']"
   ]
  },
  {
   "cell_type": "code",
   "execution_count": 12,
   "id": "53e8ed55",
   "metadata": {},
   "outputs": [],
   "source": [
    "# https://spark.apache.org/docs/3.1.1/api/python/reference/api/pyspark.sql.DataFrame.join.html\n",
    "jointype = 'inner'\n",
    "rt = week.join(master, joinexpression, jointype).drop(master.st_id)"
   ]
  },
  {
   "cell_type": "code",
   "execution_count": 13,
   "id": "f1a70a7d",
   "metadata": {
    "scrolled": true
   },
   "outputs": [
    {
     "name": "stdout",
     "output_type": "stream",
     "text": [
      "+-------+----------+-------+-------+------+--------+--------+--------+------------+---------+----------+------------------+-----------+\n",
      "|  st_id|   st_week|st_open|st_high|st_low|st_close|st_trade| st_name|       st_kr|st_market|   list_dd|kind_stkcert_tp_nm|create_date|\n",
      "+-------+----------+-------+-------+------+--------+--------+--------+------------+---------+----------+------------------+-----------+\n",
      "|A000020|2002-11-22|   1350|   1386|  1342|    1366|  107861|동화약품|KR7000020008|    KOSPI|1976-03-24|            보통주| 2022-01-23|\n",
      "|A000020|2002-11-29|   1372|   1412|  1354|    1390|  124102|동화약품|KR7000020008|    KOSPI|1976-03-24|            보통주| 2022-01-23|\n",
      "|A000020|2002-12-06|   1412|   1424|  1380|    1394|  145479|동화약품|KR7000020008|    KOSPI|1976-03-24|            보통주| 2022-01-23|\n",
      "|A000020|2002-12-13|   1386|   1466|  1380|    1404|  214833|동화약품|KR7000020008|    KOSPI|1976-03-24|            보통주| 2022-01-23|\n",
      "|A000020|2002-12-20|   1400|   1410|  1376|    1376|   98433|동화약품|KR7000020008|    KOSPI|1976-03-24|            보통주| 2022-01-23|\n",
      "|A000020|2002-12-27|   1384|   1406|  1310|    1332|   80960|동화약품|KR7000020008|    KOSPI|1976-03-24|            보통주| 2022-01-23|\n",
      "|A000020|2003-01-03|   1330|   1352|  1284|    1346|   80887|동화약품|KR7000020008|    KOSPI|1976-03-24|            보통주| 2022-01-23|\n",
      "|A000020|2003-01-10|   1334|   1348|  1296|    1308|  121400|동화약품|KR7000020008|    KOSPI|1976-03-24|            보통주| 2022-01-23|\n",
      "|A000020|2003-01-17|   1294|   1348|  1294|    1320|   89108|동화약품|KR7000020008|    KOSPI|1976-03-24|            보통주| 2022-01-23|\n",
      "|A000020|2003-01-24|   1320|   1342|  1308|    1320|  100885|동화약품|KR7000020008|    KOSPI|1976-03-24|            보통주| 2022-01-23|\n",
      "|A000020|2003-01-30|   1308|   1340|  1270|    1288|   67522|동화약품|KR7000020008|    KOSPI|1976-03-24|            보통주| 2022-01-23|\n",
      "|A000020|2003-02-07|   1282|   1316|  1282|    1282|   42551|동화약품|KR7000020008|    KOSPI|1976-03-24|            보통주| 2022-01-23|\n",
      "|A000020|2003-02-14|   1266|   1322|  1262|    1310|  127853|동화약품|KR7000020008|    KOSPI|1976-03-24|            보통주| 2022-01-23|\n",
      "|A000020|2003-02-21|   1336|   1366|  1316|    1316|   71314|동화약품|KR7000020008|    KOSPI|1976-03-24|            보통주| 2022-01-23|\n",
      "|A000020|2003-02-28|   1320|   1344|  1304|    1314|   71280|동화약품|KR7000020008|    KOSPI|1976-03-24|            보통주| 2022-01-23|\n",
      "|A000020|2003-03-07|   1314|   1338|  1244|    1246|   68690|동화약품|KR7000020008|    KOSPI|1976-03-24|            보통주| 2022-01-23|\n",
      "|A000020|2003-03-14|   1240|   1242|  1182|    1222|   70757|동화약품|KR7000020008|    KOSPI|1976-03-24|            보통주| 2022-01-23|\n",
      "|A000020|2003-03-21|   1220|   1290|  1190|    1290|  148157|동화약품|KR7000020008|    KOSPI|1976-03-24|            보통주| 2022-01-23|\n",
      "|A000020|2003-03-28|   1296|   1326|  1222|    1228|  357964|동화약품|KR7000020008|    KOSPI|1976-03-24|            보통주| 2022-01-23|\n",
      "|A000020|2003-04-04|   1206|   1316|  1162|    1242|  367749|동화약품|KR7000020008|    KOSPI|1976-03-24|            보통주| 2022-01-23|\n",
      "+-------+----------+-------+-------+------+--------+--------+--------+------------+---------+----------+------------------+-----------+\n",
      "only showing top 20 rows\n",
      "\n"
     ]
    }
   ],
   "source": [
    "rt.show()"
   ]
  },
  {
   "cell_type": "code",
   "execution_count": 14,
   "id": "0f129b6f",
   "metadata": {},
   "outputs": [
    {
     "name": "stderr",
     "output_type": "stream",
     "text": [
      "                                                                                \r"
     ]
    }
   ],
   "source": [
    "rt.write.csv(\"hdfs:///data/mystock\")"
   ]
  },
  {
   "cell_type": "code",
   "execution_count": 17,
   "id": "c5a9c6a5",
   "metadata": {},
   "outputs": [
    {
     "ename": "Py4JJavaError",
     "evalue": "An error occurred while calling o89.load.\n: java.lang.ClassNotFoundException: com.mysql.cj.jdbc.Driver\n\tat java.net.URLClassLoader.findClass(URLClassLoader.java:387)\n\tat java.lang.ClassLoader.loadClass(ClassLoader.java:418)\n\tat java.lang.ClassLoader.loadClass(ClassLoader.java:351)\n\tat org.apache.spark.sql.execution.datasources.jdbc.DriverRegistry$.register(DriverRegistry.scala:46)\n\tat org.apache.spark.sql.execution.datasources.jdbc.JDBCOptions.$anonfun$driverClass$1(JDBCOptions.scala:101)\n\tat org.apache.spark.sql.execution.datasources.jdbc.JDBCOptions.$anonfun$driverClass$1$adapted(JDBCOptions.scala:101)\n\tat scala.Option.foreach(Option.scala:407)\n\tat org.apache.spark.sql.execution.datasources.jdbc.JDBCOptions.<init>(JDBCOptions.scala:101)\n\tat org.apache.spark.sql.execution.datasources.jdbc.JDBCOptions.<init>(JDBCOptions.scala:39)\n\tat org.apache.spark.sql.execution.datasources.jdbc.JdbcRelationProvider.createRelation(JdbcRelationProvider.scala:33)\n\tat org.apache.spark.sql.execution.datasources.DataSource.resolveRelation(DataSource.scala:350)\n\tat org.apache.spark.sql.DataFrameReader.loadV1Source(DataFrameReader.scala:274)\n\tat org.apache.spark.sql.DataFrameReader.$anonfun$load$3(DataFrameReader.scala:245)\n\tat scala.Option.getOrElse(Option.scala:189)\n\tat org.apache.spark.sql.DataFrameReader.load(DataFrameReader.scala:245)\n\tat org.apache.spark.sql.DataFrameReader.load(DataFrameReader.scala:174)\n\tat sun.reflect.NativeMethodAccessorImpl.invoke0(Native Method)\n\tat sun.reflect.NativeMethodAccessorImpl.invoke(NativeMethodAccessorImpl.java:62)\n\tat sun.reflect.DelegatingMethodAccessorImpl.invoke(DelegatingMethodAccessorImpl.java:43)\n\tat java.lang.reflect.Method.invoke(Method.java:498)\n\tat py4j.reflection.MethodInvoker.invoke(MethodInvoker.java:244)\n\tat py4j.reflection.ReflectionEngine.invoke(ReflectionEngine.java:357)\n\tat py4j.Gateway.invoke(Gateway.java:282)\n\tat py4j.commands.AbstractCommand.invokeMethod(AbstractCommand.java:132)\n\tat py4j.commands.CallCommand.execute(CallCommand.java:79)\n\tat py4j.ClientServerConnection.waitForCommands(ClientServerConnection.java:182)\n\tat py4j.ClientServerConnection.run(ClientServerConnection.java:106)\n\tat java.lang.Thread.run(Thread.java:750)\n",
     "output_type": "error",
     "traceback": [
      "\u001b[0;31m---------------------------------------------------------------------------\u001b[0m",
      "\u001b[0;31mPy4JJavaError\u001b[0m                             Traceback (most recent call last)",
      "Input \u001b[0;32mIn [17]\u001b[0m, in \u001b[0;36m<cell line: 2>\u001b[0;34m()\u001b[0m\n\u001b[1;32m      1\u001b[0m \u001b[38;5;66;03m# db에서 바로 가져오기 \u001b[39;00m\n\u001b[0;32m----> 2\u001b[0m master_db \u001b[38;5;241m=\u001b[39m \u001b[43mspark\u001b[49m\u001b[38;5;241;43m.\u001b[39;49m\u001b[43mread\u001b[49m\u001b[38;5;241;43m.\u001b[39;49m\u001b[43mformat\u001b[49m\u001b[43m(\u001b[49m\u001b[38;5;124;43m\"\u001b[39;49m\u001b[38;5;124;43mjdbc\u001b[39;49m\u001b[38;5;124;43m\"\u001b[39;49m\u001b[43m)\u001b[49m\u001b[43m\\\u001b[49m\n\u001b[1;32m      3\u001b[0m \u001b[43m      \u001b[49m\u001b[38;5;241;43m.\u001b[39;49m\u001b[43moption\u001b[49m\u001b[43m(\u001b[49m\u001b[38;5;124;43m\"\u001b[39;49m\u001b[38;5;124;43murl\u001b[39;49m\u001b[38;5;124;43m\"\u001b[39;49m\u001b[43m,\u001b[49m\u001b[38;5;124;43m\"\u001b[39;49m\u001b[38;5;124;43mjdbc:mysql://namenode:3306/stock\u001b[39;49m\u001b[38;5;124;43m\"\u001b[39;49m\u001b[43m)\u001b[49m\u001b[43m\\\u001b[49m\n\u001b[1;32m      4\u001b[0m \u001b[43m      \u001b[49m\u001b[38;5;241;43m.\u001b[39;49m\u001b[43moption\u001b[49m\u001b[43m(\u001b[49m\u001b[38;5;124;43m\"\u001b[39;49m\u001b[38;5;124;43mdriver\u001b[39;49m\u001b[38;5;124;43m\"\u001b[39;49m\u001b[43m,\u001b[49m\u001b[38;5;124;43m\"\u001b[39;49m\u001b[38;5;124;43mcom.mysql.cj.jdbc.Driver\u001b[39;49m\u001b[38;5;124;43m\"\u001b[39;49m\u001b[43m)\u001b[49m\u001b[43m\\\u001b[49m\n\u001b[1;32m      5\u001b[0m \u001b[43m      \u001b[49m\u001b[38;5;241;43m.\u001b[39;49m\u001b[43moption\u001b[49m\u001b[43m(\u001b[49m\u001b[38;5;124;43m\"\u001b[39;49m\u001b[38;5;124;43mdbtable\u001b[39;49m\u001b[38;5;124;43m\"\u001b[39;49m\u001b[43m,\u001b[49m\u001b[38;5;124;43m\"\u001b[39;49m\u001b[38;5;124;43mstock_master\u001b[39;49m\u001b[38;5;124;43m\"\u001b[39;49m\u001b[43m)\u001b[49m\u001b[43m\\\u001b[49m\n\u001b[1;32m      6\u001b[0m \u001b[43m      \u001b[49m\u001b[38;5;241;43m.\u001b[39;49m\u001b[43moption\u001b[49m\u001b[43m(\u001b[49m\u001b[38;5;124;43m\"\u001b[39;49m\u001b[38;5;124;43muser\u001b[39;49m\u001b[38;5;124;43m\"\u001b[39;49m\u001b[43m,\u001b[49m\u001b[38;5;124;43m\"\u001b[39;49m\u001b[38;5;124;43mroot\u001b[39;49m\u001b[38;5;124;43m\"\u001b[39;49m\u001b[43m)\u001b[49m\u001b[38;5;241;43m.\u001b[39;49m\u001b[43moption\u001b[49m\u001b[43m(\u001b[49m\u001b[38;5;124;43m\"\u001b[39;49m\u001b[38;5;124;43mpassword\u001b[39;49m\u001b[38;5;124;43m\"\u001b[39;49m\u001b[43m,\u001b[49m\u001b[38;5;124;43m\"\u001b[39;49m\u001b[38;5;124;43m1234\u001b[39;49m\u001b[38;5;124;43m\"\u001b[39;49m\u001b[43m)\u001b[49m\u001b[38;5;241;43m.\u001b[39;49m\u001b[43mload\u001b[49m\u001b[43m(\u001b[49m\u001b[43m)\u001b[49m\n",
      "File \u001b[0;32m~/spark/python/pyspark/sql/readwriter.py:164\u001b[0m, in \u001b[0;36mDataFrameReader.load\u001b[0;34m(self, path, format, schema, **options)\u001b[0m\n\u001b[1;32m    162\u001b[0m     \u001b[38;5;28;01mreturn\u001b[39;00m \u001b[38;5;28mself\u001b[39m\u001b[38;5;241m.\u001b[39m_df(\u001b[38;5;28mself\u001b[39m\u001b[38;5;241m.\u001b[39m_jreader\u001b[38;5;241m.\u001b[39mload(\u001b[38;5;28mself\u001b[39m\u001b[38;5;241m.\u001b[39m_spark\u001b[38;5;241m.\u001b[39m_sc\u001b[38;5;241m.\u001b[39m_jvm\u001b[38;5;241m.\u001b[39mPythonUtils\u001b[38;5;241m.\u001b[39mtoSeq(path)))\n\u001b[1;32m    163\u001b[0m \u001b[38;5;28;01melse\u001b[39;00m:\n\u001b[0;32m--> 164\u001b[0m     \u001b[38;5;28;01mreturn\u001b[39;00m \u001b[38;5;28mself\u001b[39m\u001b[38;5;241m.\u001b[39m_df(\u001b[38;5;28;43mself\u001b[39;49m\u001b[38;5;241;43m.\u001b[39;49m\u001b[43m_jreader\u001b[49m\u001b[38;5;241;43m.\u001b[39;49m\u001b[43mload\u001b[49m\u001b[43m(\u001b[49m\u001b[43m)\u001b[49m)\n",
      "File \u001b[0;32m~/spark/python/lib/py4j-0.10.9.3-src.zip/py4j/java_gateway.py:1321\u001b[0m, in \u001b[0;36mJavaMember.__call__\u001b[0;34m(self, *args)\u001b[0m\n\u001b[1;32m   1315\u001b[0m command \u001b[38;5;241m=\u001b[39m proto\u001b[38;5;241m.\u001b[39mCALL_COMMAND_NAME \u001b[38;5;241m+\u001b[39m\\\n\u001b[1;32m   1316\u001b[0m     \u001b[38;5;28mself\u001b[39m\u001b[38;5;241m.\u001b[39mcommand_header \u001b[38;5;241m+\u001b[39m\\\n\u001b[1;32m   1317\u001b[0m     args_command \u001b[38;5;241m+\u001b[39m\\\n\u001b[1;32m   1318\u001b[0m     proto\u001b[38;5;241m.\u001b[39mEND_COMMAND_PART\n\u001b[1;32m   1320\u001b[0m answer \u001b[38;5;241m=\u001b[39m \u001b[38;5;28mself\u001b[39m\u001b[38;5;241m.\u001b[39mgateway_client\u001b[38;5;241m.\u001b[39msend_command(command)\n\u001b[0;32m-> 1321\u001b[0m return_value \u001b[38;5;241m=\u001b[39m \u001b[43mget_return_value\u001b[49m\u001b[43m(\u001b[49m\n\u001b[1;32m   1322\u001b[0m \u001b[43m    \u001b[49m\u001b[43manswer\u001b[49m\u001b[43m,\u001b[49m\u001b[43m \u001b[49m\u001b[38;5;28;43mself\u001b[39;49m\u001b[38;5;241;43m.\u001b[39;49m\u001b[43mgateway_client\u001b[49m\u001b[43m,\u001b[49m\u001b[43m \u001b[49m\u001b[38;5;28;43mself\u001b[39;49m\u001b[38;5;241;43m.\u001b[39;49m\u001b[43mtarget_id\u001b[49m\u001b[43m,\u001b[49m\u001b[43m \u001b[49m\u001b[38;5;28;43mself\u001b[39;49m\u001b[38;5;241;43m.\u001b[39;49m\u001b[43mname\u001b[49m\u001b[43m)\u001b[49m\n\u001b[1;32m   1324\u001b[0m \u001b[38;5;28;01mfor\u001b[39;00m temp_arg \u001b[38;5;129;01min\u001b[39;00m temp_args:\n\u001b[1;32m   1325\u001b[0m     temp_arg\u001b[38;5;241m.\u001b[39m_detach()\n",
      "File \u001b[0;32m~/spark/python/pyspark/sql/utils.py:111\u001b[0m, in \u001b[0;36mcapture_sql_exception.<locals>.deco\u001b[0;34m(*a, **kw)\u001b[0m\n\u001b[1;32m    109\u001b[0m \u001b[38;5;28;01mdef\u001b[39;00m \u001b[38;5;21mdeco\u001b[39m(\u001b[38;5;241m*\u001b[39ma, \u001b[38;5;241m*\u001b[39m\u001b[38;5;241m*\u001b[39mkw):\n\u001b[1;32m    110\u001b[0m     \u001b[38;5;28;01mtry\u001b[39;00m:\n\u001b[0;32m--> 111\u001b[0m         \u001b[38;5;28;01mreturn\u001b[39;00m \u001b[43mf\u001b[49m\u001b[43m(\u001b[49m\u001b[38;5;241;43m*\u001b[39;49m\u001b[43ma\u001b[49m\u001b[43m,\u001b[49m\u001b[43m \u001b[49m\u001b[38;5;241;43m*\u001b[39;49m\u001b[38;5;241;43m*\u001b[39;49m\u001b[43mkw\u001b[49m\u001b[43m)\u001b[49m\n\u001b[1;32m    112\u001b[0m     \u001b[38;5;28;01mexcept\u001b[39;00m py4j\u001b[38;5;241m.\u001b[39mprotocol\u001b[38;5;241m.\u001b[39mPy4JJavaError \u001b[38;5;28;01mas\u001b[39;00m e:\n\u001b[1;32m    113\u001b[0m         converted \u001b[38;5;241m=\u001b[39m convert_exception(e\u001b[38;5;241m.\u001b[39mjava_exception)\n",
      "File \u001b[0;32m~/spark/python/lib/py4j-0.10.9.3-src.zip/py4j/protocol.py:326\u001b[0m, in \u001b[0;36mget_return_value\u001b[0;34m(answer, gateway_client, target_id, name)\u001b[0m\n\u001b[1;32m    324\u001b[0m value \u001b[38;5;241m=\u001b[39m OUTPUT_CONVERTER[\u001b[38;5;28mtype\u001b[39m](answer[\u001b[38;5;241m2\u001b[39m:], gateway_client)\n\u001b[1;32m    325\u001b[0m \u001b[38;5;28;01mif\u001b[39;00m answer[\u001b[38;5;241m1\u001b[39m] \u001b[38;5;241m==\u001b[39m REFERENCE_TYPE:\n\u001b[0;32m--> 326\u001b[0m     \u001b[38;5;28;01mraise\u001b[39;00m Py4JJavaError(\n\u001b[1;32m    327\u001b[0m         \u001b[38;5;124m\"\u001b[39m\u001b[38;5;124mAn error occurred while calling \u001b[39m\u001b[38;5;132;01m{0}\u001b[39;00m\u001b[38;5;132;01m{1}\u001b[39;00m\u001b[38;5;132;01m{2}\u001b[39;00m\u001b[38;5;124m.\u001b[39m\u001b[38;5;130;01m\\n\u001b[39;00m\u001b[38;5;124m\"\u001b[39m\u001b[38;5;241m.\u001b[39m\n\u001b[1;32m    328\u001b[0m         \u001b[38;5;28mformat\u001b[39m(target_id, \u001b[38;5;124m\"\u001b[39m\u001b[38;5;124m.\u001b[39m\u001b[38;5;124m\"\u001b[39m, name), value)\n\u001b[1;32m    329\u001b[0m \u001b[38;5;28;01melse\u001b[39;00m:\n\u001b[1;32m    330\u001b[0m     \u001b[38;5;28;01mraise\u001b[39;00m Py4JError(\n\u001b[1;32m    331\u001b[0m         \u001b[38;5;124m\"\u001b[39m\u001b[38;5;124mAn error occurred while calling \u001b[39m\u001b[38;5;132;01m{0}\u001b[39;00m\u001b[38;5;132;01m{1}\u001b[39;00m\u001b[38;5;132;01m{2}\u001b[39;00m\u001b[38;5;124m. Trace:\u001b[39m\u001b[38;5;130;01m\\n\u001b[39;00m\u001b[38;5;132;01m{3}\u001b[39;00m\u001b[38;5;130;01m\\n\u001b[39;00m\u001b[38;5;124m\"\u001b[39m\u001b[38;5;241m.\u001b[39m\n\u001b[1;32m    332\u001b[0m         \u001b[38;5;28mformat\u001b[39m(target_id, \u001b[38;5;124m\"\u001b[39m\u001b[38;5;124m.\u001b[39m\u001b[38;5;124m\"\u001b[39m, name, value))\n",
      "\u001b[0;31mPy4JJavaError\u001b[0m: An error occurred while calling o89.load.\n: java.lang.ClassNotFoundException: com.mysql.cj.jdbc.Driver\n\tat java.net.URLClassLoader.findClass(URLClassLoader.java:387)\n\tat java.lang.ClassLoader.loadClass(ClassLoader.java:418)\n\tat java.lang.ClassLoader.loadClass(ClassLoader.java:351)\n\tat org.apache.spark.sql.execution.datasources.jdbc.DriverRegistry$.register(DriverRegistry.scala:46)\n\tat org.apache.spark.sql.execution.datasources.jdbc.JDBCOptions.$anonfun$driverClass$1(JDBCOptions.scala:101)\n\tat org.apache.spark.sql.execution.datasources.jdbc.JDBCOptions.$anonfun$driverClass$1$adapted(JDBCOptions.scala:101)\n\tat scala.Option.foreach(Option.scala:407)\n\tat org.apache.spark.sql.execution.datasources.jdbc.JDBCOptions.<init>(JDBCOptions.scala:101)\n\tat org.apache.spark.sql.execution.datasources.jdbc.JDBCOptions.<init>(JDBCOptions.scala:39)\n\tat org.apache.spark.sql.execution.datasources.jdbc.JdbcRelationProvider.createRelation(JdbcRelationProvider.scala:33)\n\tat org.apache.spark.sql.execution.datasources.DataSource.resolveRelation(DataSource.scala:350)\n\tat org.apache.spark.sql.DataFrameReader.loadV1Source(DataFrameReader.scala:274)\n\tat org.apache.spark.sql.DataFrameReader.$anonfun$load$3(DataFrameReader.scala:245)\n\tat scala.Option.getOrElse(Option.scala:189)\n\tat org.apache.spark.sql.DataFrameReader.load(DataFrameReader.scala:245)\n\tat org.apache.spark.sql.DataFrameReader.load(DataFrameReader.scala:174)\n\tat sun.reflect.NativeMethodAccessorImpl.invoke0(Native Method)\n\tat sun.reflect.NativeMethodAccessorImpl.invoke(NativeMethodAccessorImpl.java:62)\n\tat sun.reflect.DelegatingMethodAccessorImpl.invoke(DelegatingMethodAccessorImpl.java:43)\n\tat java.lang.reflect.Method.invoke(Method.java:498)\n\tat py4j.reflection.MethodInvoker.invoke(MethodInvoker.java:244)\n\tat py4j.reflection.ReflectionEngine.invoke(ReflectionEngine.java:357)\n\tat py4j.Gateway.invoke(Gateway.java:282)\n\tat py4j.commands.AbstractCommand.invokeMethod(AbstractCommand.java:132)\n\tat py4j.commands.CallCommand.execute(CallCommand.java:79)\n\tat py4j.ClientServerConnection.waitForCommands(ClientServerConnection.java:182)\n\tat py4j.ClientServerConnection.run(ClientServerConnection.java:106)\n\tat java.lang.Thread.run(Thread.java:750)\n"
     ]
    }
   ],
   "source": [
    "# db에서 바로 가져오기 \n",
    "master_db = spark.read.format(\"jdbc\")\\\n",
    "      .option(\"url\",\"jdbc:mysql://namenode:3306/stock\")\\\n",
    "      .option(\"driver\",\"com.mysql.cj.jdbc.Driver\")\\\n",
    "      .option(\"dbtable\",\"stock_master\")\\\n",
    "      .option(\"user\",\"root\").option(\"password\",\"1234\").load()"
   ]
  },
  {
   "cell_type": "code",
   "execution_count": null,
   "id": "97bb04e8",
   "metadata": {},
   "outputs": [],
   "source": []
  }
 ],
 "metadata": {
  "kernelspec": {
   "display_name": "Python 3 (ipykernel)",
   "language": "python",
   "name": "python3"
  },
  "language_info": {
   "codemirror_mode": {
    "name": "ipython",
    "version": 3
   },
   "file_extension": ".py",
   "mimetype": "text/x-python",
   "name": "python",
   "nbconvert_exporter": "python",
   "pygments_lexer": "ipython3",
   "version": "3.8.13"
  }
 },
 "nbformat": 4,
 "nbformat_minor": 5
}
