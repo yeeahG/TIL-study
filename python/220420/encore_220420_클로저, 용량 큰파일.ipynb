{
 "cells": [
  {
   "cell_type": "markdown",
   "id": "2a1d524a",
   "metadata": {},
   "source": [
    "## 클로저"
   ]
  },
  {
   "cell_type": "markdown",
   "id": "41c6c9fb",
   "metadata": {},
   "source": [
    "- 함수에 관한 정보를 간직하고 있는 데이터\n",
    "- 내부함수가 외부함수의 지역변수를 사용하며, 외부함수의 지역변수를 사용하는 내부함수가 소멸될 때까지 외부함수의 정보가 소멸되지 않는 특성"
   ]
  },
  {
   "cell_type": "code",
   "execution_count": 2,
   "id": "36fa4274",
   "metadata": {},
   "outputs": [],
   "source": [
    "def outer():\n",
    "    msg = \"Hi\"\n",
    "    \n",
    "    def inner():\n",
    "        print(msg)\n",
    "        \n",
    "    return inner"
   ]
  },
  {
   "cell_type": "code",
   "execution_count": 3,
   "id": "1641237b",
   "metadata": {},
   "outputs": [],
   "source": [
    "res = outer()"
   ]
  },
  {
   "cell_type": "code",
   "execution_count": 4,
   "id": "75a8d169",
   "metadata": {},
   "outputs": [
    {
     "name": "stdout",
     "output_type": "stream",
     "text": [
      "Hi\n"
     ]
    }
   ],
   "source": [
    "res()"
   ]
  },
  {
   "cell_type": "code",
   "execution_count": 7,
   "id": "3cdc62ce",
   "metadata": {},
   "outputs": [],
   "source": [
    "import pandas as pd"
   ]
  },
  {
   "cell_type": "markdown",
   "id": "3134469e",
   "metadata": {},
   "source": [
    "### 용량 큰파일 열때 이렇게 하면 안됨"
   ]
  },
  {
   "cell_type": "code",
   "execution_count": null,
   "id": "31897256",
   "metadata": {},
   "outputs": [],
   "source": [
    "df = pd.read_csv(\"./all_csv_files.csv\")"
   ]
  },
  {
   "cell_type": "code",
   "execution_count": null,
   "id": "5886c2cb",
   "metadata": {},
   "outputs": [],
   "source": []
  },
  {
   "cell_type": "code",
   "execution_count": null,
   "id": "aedd1063",
   "metadata": {},
   "outputs": [],
   "source": [
    "f = open(\"./all_csv_files.csv\")"
   ]
  },
  {
   "cell_type": "code",
   "execution_count": null,
   "id": "6262cc8d",
   "metadata": {},
   "outputs": [],
   "source": [
    "f.readline()"
   ]
  },
  {
   "cell_type": "code",
   "execution_count": null,
   "id": "c327738a",
   "metadata": {},
   "outputs": [],
   "source": [
    "for "
   ]
  },
  {
   "cell_type": "markdown",
   "id": "045c257f",
   "metadata": {},
   "source": [
    "### ↓↓ 이렇게해야 메모리 안터짐"
   ]
  },
  {
   "cell_type": "code",
   "execution_count": null,
   "id": "eac0d2c9",
   "metadata": {},
   "outputs": [],
   "source": [
    "with open(\"./all_csv_files.csv\", \"r\") as f:\n",
    "    for idx, x in enumerate(f):\n",
    "        pass"
   ]
  }
 ],
 "metadata": {
  "kernelspec": {
   "display_name": "Python 3 (ipykernel)",
   "language": "python",
   "name": "python3"
  },
  "language_info": {
   "codemirror_mode": {
    "name": "ipython",
    "version": 3
   },
   "file_extension": ".py",
   "mimetype": "text/x-python",
   "name": "python",
   "nbconvert_exporter": "python",
   "pygments_lexer": "ipython3",
   "version": "3.9.7"
  }
 },
 "nbformat": 4,
 "nbformat_minor": 5
}
