{
 "cells": [
  {
   "cell_type": "markdown",
   "id": "7a37646a",
   "metadata": {},
   "source": [
    "범주형 자료란? 관측 결과가 몇 개의 범주 또는 항목의 형태로 나타나는 자료를 말한다."
   ]
  },
  {
   "cell_type": "code",
   "execution_count": 1,
   "id": "f88a8c75",
   "metadata": {},
   "outputs": [],
   "source": [
    "from sklearn.preprocessing import LabelEncoder"
   ]
  },
  {
   "cell_type": "code",
   "execution_count": 2,
   "id": "2893bfc5",
   "metadata": {},
   "outputs": [],
   "source": [
    "items = ['TV', '냉장고', '세탁기', '컴퓨터', '선풍기',  '선풍기', '믹서', '믹서']"
   ]
  },
  {
   "cell_type": "code",
   "execution_count": 3,
   "id": "22b7caec",
   "metadata": {},
   "outputs": [],
   "source": [
    "encoder = LabelEncoder()\n",
    "encoder.fit(items)\n",
    "labels = encoder.transform(items)"
   ]
  },
  {
   "cell_type": "code",
   "execution_count": 4,
   "id": "24f63d1a",
   "metadata": {},
   "outputs": [
    {
     "name": "stdout",
     "output_type": "stream",
     "text": [
      "인코딩 변환 결과 :  [0 1 4 5 3 3 2 2]\n"
     ]
    }
   ],
   "source": [
    "print(\"인코딩 변환 결과 : \", labels)"
   ]
  },
  {
   "cell_type": "code",
   "execution_count": 5,
   "id": "d41be7a5",
   "metadata": {},
   "outputs": [
    {
     "data": {
      "text/plain": [
       "array(['TV', '냉장고', '믹서', '선풍기', '세탁기', '컴퓨터'], dtype='<U3')"
      ]
     },
     "execution_count": 5,
     "metadata": {},
     "output_type": "execute_result"
    }
   ],
   "source": [
    "encoder.classes_"
   ]
  },
  {
   "cell_type": "code",
   "execution_count": 6,
   "id": "ff779e6e",
   "metadata": {},
   "outputs": [],
   "source": [
    "encoder2 = LabelEncoder()\n",
    "encoder2.fit(['남자', '여자'])\n",
    "labels2 = encoder2.transform(['남자', '여자'])"
   ]
  },
  {
   "cell_type": "code",
   "execution_count": 7,
   "id": "481f0fc3",
   "metadata": {},
   "outputs": [
    {
     "data": {
      "text/plain": [
       "array([0, 1])"
      ]
     },
     "execution_count": 7,
     "metadata": {},
     "output_type": "execute_result"
    }
   ],
   "source": [
    "labels2"
   ]
  },
  {
   "cell_type": "code",
   "execution_count": 8,
   "id": "733047c4",
   "metadata": {},
   "outputs": [],
   "source": [
    "from sklearn.preprocessing import OneHotEncoder"
   ]
  },
  {
   "cell_type": "code",
   "execution_count": 9,
   "id": "8ffc320f",
   "metadata": {},
   "outputs": [],
   "source": [
    "import numpy as np"
   ]
  },
  {
   "cell_type": "code",
   "execution_count": null,
   "id": "af85258c",
   "metadata": {},
   "outputs": [],
   "source": []
  },
  {
   "cell_type": "code",
   "execution_count": 10,
   "id": "c5a59ab6",
   "metadata": {},
   "outputs": [
    {
     "data": {
      "text/plain": [
       "array([['TV'],\n",
       "       ['냉장고'],\n",
       "       ['세탁기'],\n",
       "       ['컴퓨터'],\n",
       "       ['선풍기'],\n",
       "       ['선풍기'],\n",
       "       ['믹서'],\n",
       "       ['믹서']], dtype='<U3')"
      ]
     },
     "execution_count": 10,
     "metadata": {},
     "output_type": "execute_result"
    }
   ],
   "source": [
    "items_reshape = np.array(items).reshape(-1,1)\n",
    "items_reshape"
   ]
  },
  {
   "cell_type": "code",
   "execution_count": 11,
   "id": "893588fb",
   "metadata": {
    "scrolled": true
   },
   "outputs": [],
   "source": [
    "one_encoder = OneHotEncoder()\n",
    "one_encoder.fit(items_reshape)\n",
    "oh_labels = one_encoder.transform(items_reshape)"
   ]
  },
  {
   "cell_type": "code",
   "execution_count": 12,
   "id": "58e6ee5c",
   "metadata": {},
   "outputs": [
    {
     "data": {
      "text/plain": [
       "array([[1., 0., 0., 0., 0., 0.],\n",
       "       [0., 1., 0., 0., 0., 0.],\n",
       "       [0., 0., 0., 0., 1., 0.],\n",
       "       [0., 0., 0., 0., 0., 1.],\n",
       "       [0., 0., 0., 1., 0., 0.],\n",
       "       [0., 0., 0., 1., 0., 0.],\n",
       "       [0., 0., 1., 0., 0., 0.],\n",
       "       [0., 0., 1., 0., 0., 0.]])"
      ]
     },
     "execution_count": 12,
     "metadata": {},
     "output_type": "execute_result"
    }
   ],
   "source": [
    "oh_labels.toarray()"
   ]
  },
  {
   "cell_type": "code",
   "execution_count": 13,
   "id": "8812f612",
   "metadata": {},
   "outputs": [
    {
     "data": {
      "text/plain": [
       "(8, 6)"
      ]
     },
     "execution_count": 13,
     "metadata": {},
     "output_type": "execute_result"
    }
   ],
   "source": [
    "oh_labels.toarray().shape"
   ]
  },
  {
   "cell_type": "code",
   "execution_count": 14,
   "id": "38539c8f",
   "metadata": {},
   "outputs": [
    {
     "data": {
      "text/plain": [
       "8"
      ]
     },
     "execution_count": 14,
     "metadata": {},
     "output_type": "execute_result"
    }
   ],
   "source": [
    "items.__len__()"
   ]
  },
  {
   "cell_type": "code",
   "execution_count": 15,
   "id": "160286bf",
   "metadata": {},
   "outputs": [
    {
     "data": {
      "text/plain": [
       "6"
      ]
     },
     "execution_count": 15,
     "metadata": {},
     "output_type": "execute_result"
    }
   ],
   "source": [
    "set(items).__len__() # 유니크한 값"
   ]
  },
  {
   "cell_type": "code",
   "execution_count": 16,
   "id": "8628ae1d",
   "metadata": {},
   "outputs": [],
   "source": [
    "import pandas as pd"
   ]
  },
  {
   "cell_type": "code",
   "execution_count": 17,
   "id": "bc223996",
   "metadata": {},
   "outputs": [
    {
     "data": {
      "text/html": [
       "<div>\n",
       "<style scoped>\n",
       "    .dataframe tbody tr th:only-of-type {\n",
       "        vertical-align: middle;\n",
       "    }\n",
       "\n",
       "    .dataframe tbody tr th {\n",
       "        vertical-align: top;\n",
       "    }\n",
       "\n",
       "    .dataframe thead th {\n",
       "        text-align: right;\n",
       "    }\n",
       "</style>\n",
       "<table border=\"1\" class=\"dataframe\">\n",
       "  <thead>\n",
       "    <tr style=\"text-align: right;\">\n",
       "      <th></th>\n",
       "      <th>itmes</th>\n",
       "    </tr>\n",
       "  </thead>\n",
       "  <tbody>\n",
       "    <tr>\n",
       "      <th>0</th>\n",
       "      <td>TV</td>\n",
       "    </tr>\n",
       "    <tr>\n",
       "      <th>1</th>\n",
       "      <td>냉장고</td>\n",
       "    </tr>\n",
       "    <tr>\n",
       "      <th>2</th>\n",
       "      <td>세탁기</td>\n",
       "    </tr>\n",
       "    <tr>\n",
       "      <th>3</th>\n",
       "      <td>컴퓨터</td>\n",
       "    </tr>\n",
       "    <tr>\n",
       "      <th>4</th>\n",
       "      <td>선풍기</td>\n",
       "    </tr>\n",
       "    <tr>\n",
       "      <th>5</th>\n",
       "      <td>선풍기</td>\n",
       "    </tr>\n",
       "    <tr>\n",
       "      <th>6</th>\n",
       "      <td>믹서</td>\n",
       "    </tr>\n",
       "    <tr>\n",
       "      <th>7</th>\n",
       "      <td>믹서</td>\n",
       "    </tr>\n",
       "  </tbody>\n",
       "</table>\n",
       "</div>"
      ],
      "text/plain": [
       "  itmes\n",
       "0    TV\n",
       "1   냉장고\n",
       "2   세탁기\n",
       "3   컴퓨터\n",
       "4   선풍기\n",
       "5   선풍기\n",
       "6    믹서\n",
       "7    믹서"
      ]
     },
     "execution_count": 17,
     "metadata": {},
     "output_type": "execute_result"
    }
   ],
   "source": [
    "df = pd.DataFrame({\"itmes\" : items})\n",
    "df"
   ]
  },
  {
   "cell_type": "code",
   "execution_count": 18,
   "id": "f836da21",
   "metadata": {},
   "outputs": [
    {
     "data": {
      "text/html": [
       "<div>\n",
       "<style scoped>\n",
       "    .dataframe tbody tr th:only-of-type {\n",
       "        vertical-align: middle;\n",
       "    }\n",
       "\n",
       "    .dataframe tbody tr th {\n",
       "        vertical-align: top;\n",
       "    }\n",
       "\n",
       "    .dataframe thead th {\n",
       "        text-align: right;\n",
       "    }\n",
       "</style>\n",
       "<table border=\"1\" class=\"dataframe\">\n",
       "  <thead>\n",
       "    <tr style=\"text-align: right;\">\n",
       "      <th></th>\n",
       "      <th>itmes_TV</th>\n",
       "      <th>itmes_냉장고</th>\n",
       "      <th>itmes_믹서</th>\n",
       "      <th>itmes_선풍기</th>\n",
       "      <th>itmes_세탁기</th>\n",
       "      <th>itmes_컴퓨터</th>\n",
       "    </tr>\n",
       "  </thead>\n",
       "  <tbody>\n",
       "    <tr>\n",
       "      <th>0</th>\n",
       "      <td>1</td>\n",
       "      <td>0</td>\n",
       "      <td>0</td>\n",
       "      <td>0</td>\n",
       "      <td>0</td>\n",
       "      <td>0</td>\n",
       "    </tr>\n",
       "    <tr>\n",
       "      <th>1</th>\n",
       "      <td>0</td>\n",
       "      <td>1</td>\n",
       "      <td>0</td>\n",
       "      <td>0</td>\n",
       "      <td>0</td>\n",
       "      <td>0</td>\n",
       "    </tr>\n",
       "    <tr>\n",
       "      <th>2</th>\n",
       "      <td>0</td>\n",
       "      <td>0</td>\n",
       "      <td>0</td>\n",
       "      <td>0</td>\n",
       "      <td>1</td>\n",
       "      <td>0</td>\n",
       "    </tr>\n",
       "    <tr>\n",
       "      <th>3</th>\n",
       "      <td>0</td>\n",
       "      <td>0</td>\n",
       "      <td>0</td>\n",
       "      <td>0</td>\n",
       "      <td>0</td>\n",
       "      <td>1</td>\n",
       "    </tr>\n",
       "    <tr>\n",
       "      <th>4</th>\n",
       "      <td>0</td>\n",
       "      <td>0</td>\n",
       "      <td>0</td>\n",
       "      <td>1</td>\n",
       "      <td>0</td>\n",
       "      <td>0</td>\n",
       "    </tr>\n",
       "    <tr>\n",
       "      <th>5</th>\n",
       "      <td>0</td>\n",
       "      <td>0</td>\n",
       "      <td>0</td>\n",
       "      <td>1</td>\n",
       "      <td>0</td>\n",
       "      <td>0</td>\n",
       "    </tr>\n",
       "    <tr>\n",
       "      <th>6</th>\n",
       "      <td>0</td>\n",
       "      <td>0</td>\n",
       "      <td>1</td>\n",
       "      <td>0</td>\n",
       "      <td>0</td>\n",
       "      <td>0</td>\n",
       "    </tr>\n",
       "    <tr>\n",
       "      <th>7</th>\n",
       "      <td>0</td>\n",
       "      <td>0</td>\n",
       "      <td>1</td>\n",
       "      <td>0</td>\n",
       "      <td>0</td>\n",
       "      <td>0</td>\n",
       "    </tr>\n",
       "  </tbody>\n",
       "</table>\n",
       "</div>"
      ],
      "text/plain": [
       "   itmes_TV  itmes_냉장고  itmes_믹서  itmes_선풍기  itmes_세탁기  itmes_컴퓨터\n",
       "0         1          0         0          0          0          0\n",
       "1         0          1         0          0          0          0\n",
       "2         0          0         0          0          1          0\n",
       "3         0          0         0          0          0          1\n",
       "4         0          0         0          1          0          0\n",
       "5         0          0         0          1          0          0\n",
       "6         0          0         1          0          0          0\n",
       "7         0          0         1          0          0          0"
      ]
     },
     "execution_count": 18,
     "metadata": {},
     "output_type": "execute_result"
    }
   ],
   "source": [
    "pd.get_dummies(df) # 원핫인코더 처럼 됨."
   ]
  },
  {
   "cell_type": "code",
   "execution_count": 19,
   "id": "7b519cf3",
   "metadata": {},
   "outputs": [
    {
     "data": {
      "text/html": [
       "<div>\n",
       "<style scoped>\n",
       "    .dataframe tbody tr th:only-of-type {\n",
       "        vertical-align: middle;\n",
       "    }\n",
       "\n",
       "    .dataframe tbody tr th {\n",
       "        vertical-align: top;\n",
       "    }\n",
       "\n",
       "    .dataframe thead th {\n",
       "        text-align: right;\n",
       "    }\n",
       "</style>\n",
       "<table border=\"1\" class=\"dataframe\">\n",
       "  <thead>\n",
       "    <tr style=\"text-align: right;\">\n",
       "      <th></th>\n",
       "      <th>PassengerId</th>\n",
       "      <th>Survived</th>\n",
       "      <th>Pclass</th>\n",
       "      <th>Name</th>\n",
       "      <th>Sex</th>\n",
       "      <th>Age</th>\n",
       "      <th>SibSp</th>\n",
       "      <th>Parch</th>\n",
       "      <th>Ticket</th>\n",
       "      <th>Fare</th>\n",
       "      <th>Cabin</th>\n",
       "      <th>Embarked</th>\n",
       "    </tr>\n",
       "  </thead>\n",
       "  <tbody>\n",
       "    <tr>\n",
       "      <th>0</th>\n",
       "      <td>1</td>\n",
       "      <td>0</td>\n",
       "      <td>3</td>\n",
       "      <td>Braund, Mr. Owen Harris</td>\n",
       "      <td>male</td>\n",
       "      <td>22.0</td>\n",
       "      <td>1</td>\n",
       "      <td>0</td>\n",
       "      <td>A/5 21171</td>\n",
       "      <td>7.2500</td>\n",
       "      <td>NaN</td>\n",
       "      <td>S</td>\n",
       "    </tr>\n",
       "    <tr>\n",
       "      <th>1</th>\n",
       "      <td>2</td>\n",
       "      <td>1</td>\n",
       "      <td>1</td>\n",
       "      <td>Cumings, Mrs. John Bradley (Florence Briggs Th...</td>\n",
       "      <td>female</td>\n",
       "      <td>38.0</td>\n",
       "      <td>1</td>\n",
       "      <td>0</td>\n",
       "      <td>PC 17599</td>\n",
       "      <td>71.2833</td>\n",
       "      <td>C85</td>\n",
       "      <td>C</td>\n",
       "    </tr>\n",
       "    <tr>\n",
       "      <th>2</th>\n",
       "      <td>3</td>\n",
       "      <td>1</td>\n",
       "      <td>3</td>\n",
       "      <td>Heikkinen, Miss. Laina</td>\n",
       "      <td>female</td>\n",
       "      <td>26.0</td>\n",
       "      <td>0</td>\n",
       "      <td>0</td>\n",
       "      <td>STON/O2. 3101282</td>\n",
       "      <td>7.9250</td>\n",
       "      <td>NaN</td>\n",
       "      <td>S</td>\n",
       "    </tr>\n",
       "    <tr>\n",
       "      <th>3</th>\n",
       "      <td>4</td>\n",
       "      <td>1</td>\n",
       "      <td>1</td>\n",
       "      <td>Futrelle, Mrs. Jacques Heath (Lily May Peel)</td>\n",
       "      <td>female</td>\n",
       "      <td>35.0</td>\n",
       "      <td>1</td>\n",
       "      <td>0</td>\n",
       "      <td>113803</td>\n",
       "      <td>53.1000</td>\n",
       "      <td>C123</td>\n",
       "      <td>S</td>\n",
       "    </tr>\n",
       "    <tr>\n",
       "      <th>4</th>\n",
       "      <td>5</td>\n",
       "      <td>0</td>\n",
       "      <td>3</td>\n",
       "      <td>Allen, Mr. William Henry</td>\n",
       "      <td>male</td>\n",
       "      <td>35.0</td>\n",
       "      <td>0</td>\n",
       "      <td>0</td>\n",
       "      <td>373450</td>\n",
       "      <td>8.0500</td>\n",
       "      <td>NaN</td>\n",
       "      <td>S</td>\n",
       "    </tr>\n",
       "    <tr>\n",
       "      <th>...</th>\n",
       "      <td>...</td>\n",
       "      <td>...</td>\n",
       "      <td>...</td>\n",
       "      <td>...</td>\n",
       "      <td>...</td>\n",
       "      <td>...</td>\n",
       "      <td>...</td>\n",
       "      <td>...</td>\n",
       "      <td>...</td>\n",
       "      <td>...</td>\n",
       "      <td>...</td>\n",
       "      <td>...</td>\n",
       "    </tr>\n",
       "    <tr>\n",
       "      <th>886</th>\n",
       "      <td>887</td>\n",
       "      <td>0</td>\n",
       "      <td>2</td>\n",
       "      <td>Montvila, Rev. Juozas</td>\n",
       "      <td>male</td>\n",
       "      <td>27.0</td>\n",
       "      <td>0</td>\n",
       "      <td>0</td>\n",
       "      <td>211536</td>\n",
       "      <td>13.0000</td>\n",
       "      <td>NaN</td>\n",
       "      <td>S</td>\n",
       "    </tr>\n",
       "    <tr>\n",
       "      <th>887</th>\n",
       "      <td>888</td>\n",
       "      <td>1</td>\n",
       "      <td>1</td>\n",
       "      <td>Graham, Miss. Margaret Edith</td>\n",
       "      <td>female</td>\n",
       "      <td>19.0</td>\n",
       "      <td>0</td>\n",
       "      <td>0</td>\n",
       "      <td>112053</td>\n",
       "      <td>30.0000</td>\n",
       "      <td>B42</td>\n",
       "      <td>S</td>\n",
       "    </tr>\n",
       "    <tr>\n",
       "      <th>888</th>\n",
       "      <td>889</td>\n",
       "      <td>0</td>\n",
       "      <td>3</td>\n",
       "      <td>Johnston, Miss. Catherine Helen \"Carrie\"</td>\n",
       "      <td>female</td>\n",
       "      <td>NaN</td>\n",
       "      <td>1</td>\n",
       "      <td>2</td>\n",
       "      <td>W./C. 6607</td>\n",
       "      <td>23.4500</td>\n",
       "      <td>NaN</td>\n",
       "      <td>S</td>\n",
       "    </tr>\n",
       "    <tr>\n",
       "      <th>889</th>\n",
       "      <td>890</td>\n",
       "      <td>1</td>\n",
       "      <td>1</td>\n",
       "      <td>Behr, Mr. Karl Howell</td>\n",
       "      <td>male</td>\n",
       "      <td>26.0</td>\n",
       "      <td>0</td>\n",
       "      <td>0</td>\n",
       "      <td>111369</td>\n",
       "      <td>30.0000</td>\n",
       "      <td>C148</td>\n",
       "      <td>C</td>\n",
       "    </tr>\n",
       "    <tr>\n",
       "      <th>890</th>\n",
       "      <td>891</td>\n",
       "      <td>0</td>\n",
       "      <td>3</td>\n",
       "      <td>Dooley, Mr. Patrick</td>\n",
       "      <td>male</td>\n",
       "      <td>32.0</td>\n",
       "      <td>0</td>\n",
       "      <td>0</td>\n",
       "      <td>370376</td>\n",
       "      <td>7.7500</td>\n",
       "      <td>NaN</td>\n",
       "      <td>Q</td>\n",
       "    </tr>\n",
       "  </tbody>\n",
       "</table>\n",
       "<p>891 rows × 12 columns</p>\n",
       "</div>"
      ],
      "text/plain": [
       "     PassengerId  Survived  Pclass  \\\n",
       "0              1         0       3   \n",
       "1              2         1       1   \n",
       "2              3         1       3   \n",
       "3              4         1       1   \n",
       "4              5         0       3   \n",
       "..           ...       ...     ...   \n",
       "886          887         0       2   \n",
       "887          888         1       1   \n",
       "888          889         0       3   \n",
       "889          890         1       1   \n",
       "890          891         0       3   \n",
       "\n",
       "                                                  Name     Sex   Age  SibSp  \\\n",
       "0                              Braund, Mr. Owen Harris    male  22.0      1   \n",
       "1    Cumings, Mrs. John Bradley (Florence Briggs Th...  female  38.0      1   \n",
       "2                               Heikkinen, Miss. Laina  female  26.0      0   \n",
       "3         Futrelle, Mrs. Jacques Heath (Lily May Peel)  female  35.0      1   \n",
       "4                             Allen, Mr. William Henry    male  35.0      0   \n",
       "..                                                 ...     ...   ...    ...   \n",
       "886                              Montvila, Rev. Juozas    male  27.0      0   \n",
       "887                       Graham, Miss. Margaret Edith  female  19.0      0   \n",
       "888           Johnston, Miss. Catherine Helen \"Carrie\"  female   NaN      1   \n",
       "889                              Behr, Mr. Karl Howell    male  26.0      0   \n",
       "890                                Dooley, Mr. Patrick    male  32.0      0   \n",
       "\n",
       "     Parch            Ticket     Fare Cabin Embarked  \n",
       "0        0         A/5 21171   7.2500   NaN        S  \n",
       "1        0          PC 17599  71.2833   C85        C  \n",
       "2        0  STON/O2. 3101282   7.9250   NaN        S  \n",
       "3        0            113803  53.1000  C123        S  \n",
       "4        0            373450   8.0500   NaN        S  \n",
       "..     ...               ...      ...   ...      ...  \n",
       "886      0            211536  13.0000   NaN        S  \n",
       "887      0            112053  30.0000   B42        S  \n",
       "888      2        W./C. 6607  23.4500   NaN        S  \n",
       "889      0            111369  30.0000  C148        C  \n",
       "890      0            370376   7.7500   NaN        Q  \n",
       "\n",
       "[891 rows x 12 columns]"
      ]
     },
     "execution_count": 19,
     "metadata": {},
     "output_type": "execute_result"
    }
   ],
   "source": [
    "titanic_df = pd.read_csv(\"./data/titanic_train.csv\")\n",
    "titanic_df"
   ]
  },
  {
   "cell_type": "code",
   "execution_count": 23,
   "id": "d533ed83",
   "metadata": {},
   "outputs": [
    {
     "name": "stdout",
     "output_type": "stream",
     "text": [
      "<class 'pandas.core.frame.DataFrame'>\n",
      "RangeIndex: 891 entries, 0 to 890\n",
      "Data columns (total 12 columns):\n",
      " #   Column       Non-Null Count  Dtype  \n",
      "---  ------       --------------  -----  \n",
      " 0   PassengerId  891 non-null    int64  \n",
      " 1   Survived     891 non-null    int64  \n",
      " 2   Pclass       891 non-null    int64  \n",
      " 3   Name         891 non-null    object \n",
      " 4   Sex          891 non-null    object \n",
      " 5   Age          714 non-null    float64\n",
      " 6   SibSp        891 non-null    int64  \n",
      " 7   Parch        891 non-null    int64  \n",
      " 8   Ticket       891 non-null    object \n",
      " 9   Fare         891 non-null    float64\n",
      " 10  Cabin        204 non-null    object \n",
      " 11  Embarked     889 non-null    object \n",
      "dtypes: float64(2), int64(5), object(5)\n",
      "memory usage: 83.7+ KB\n"
     ]
    }
   ],
   "source": [
    "titanic_df.info()"
   ]
  },
  {
   "cell_type": "code",
   "execution_count": 22,
   "id": "c2ac0f92",
   "metadata": {},
   "outputs": [
    {
     "data": {
      "text/plain": [
       "PassengerId      0\n",
       "Survived         0\n",
       "Pclass           0\n",
       "Name             0\n",
       "Sex              0\n",
       "Age            177\n",
       "SibSp            0\n",
       "Parch            0\n",
       "Ticket           0\n",
       "Fare             0\n",
       "Cabin          687\n",
       "Embarked         2\n",
       "dtype: int64"
      ]
     },
     "execution_count": 22,
     "metadata": {},
     "output_type": "execute_result"
    }
   ],
   "source": [
    "titanic_df.isnull().sum()"
   ]
  },
  {
   "cell_type": "code",
   "execution_count": 24,
   "id": "06cb4721",
   "metadata": {},
   "outputs": [
    {
     "data": {
      "text/plain": [
       "29.69911764705882"
      ]
     },
     "execution_count": 24,
     "metadata": {},
     "output_type": "execute_result"
    }
   ],
   "source": [
    "titanic_df[\"Age\"].mean()"
   ]
  },
  {
   "cell_type": "markdown",
   "id": "925d89b5",
   "metadata": {},
   "source": [
    "## 결측치 처리"
   ]
  },
  {
   "cell_type": "code",
   "execution_count": 52,
   "id": "2d921b68",
   "metadata": {},
   "outputs": [],
   "source": [
    "titanic_df[\"Age\"].fillna(titanic_df[\"Age\"].mean(), inplace=True)"
   ]
  },
  {
   "cell_type": "code",
   "execution_count": 53,
   "id": "0869efc0",
   "metadata": {},
   "outputs": [
    {
     "data": {
      "text/plain": [
       "0      22.000000\n",
       "1      38.000000\n",
       "2      26.000000\n",
       "3      35.000000\n",
       "4      35.000000\n",
       "         ...    \n",
       "886    27.000000\n",
       "887    19.000000\n",
       "888    29.699118\n",
       "889    26.000000\n",
       "890    32.000000\n",
       "Name: Age, Length: 891, dtype: float64"
      ]
     },
     "execution_count": 53,
     "metadata": {},
     "output_type": "execute_result"
    }
   ],
   "source": [
    "titanic_df[\"Age\"]"
   ]
  },
  {
   "cell_type": "code",
   "execution_count": 54,
   "id": "f2a7bf31",
   "metadata": {},
   "outputs": [],
   "source": [
    "titanic_df[\"Cabin\"].fillna(\"N\", inplace=True)"
   ]
  },
  {
   "cell_type": "code",
   "execution_count": 263,
   "id": "6ee3f9df",
   "metadata": {},
   "outputs": [],
   "source": [
    "titanic_df['Embarked'].fillna(\"N\", inplace=True)"
   ]
  },
  {
   "cell_type": "code",
   "execution_count": 264,
   "id": "6aa6ffc2",
   "metadata": {},
   "outputs": [
    {
     "data": {
      "text/plain": [
       "0"
      ]
     },
     "execution_count": 264,
     "metadata": {},
     "output_type": "execute_result"
    }
   ],
   "source": [
    "titanic_df.isnull().sum().sum()"
   ]
  },
  {
   "cell_type": "markdown",
   "id": "f83501b6",
   "metadata": {},
   "source": [
    "## 데이터 탐색"
   ]
  },
  {
   "cell_type": "code",
   "execution_count": 57,
   "id": "ae27a242",
   "metadata": {},
   "outputs": [
    {
     "data": {
      "text/plain": [
       "male      577\n",
       "female    314\n",
       "Name: Sex, dtype: int64"
      ]
     },
     "execution_count": 57,
     "metadata": {},
     "output_type": "execute_result"
    }
   ],
   "source": [
    "titanic_df['Sex'].value_counts()"
   ]
  },
  {
   "cell_type": "code",
   "execution_count": 58,
   "id": "7f739e93",
   "metadata": {},
   "outputs": [
    {
     "data": {
      "text/plain": [
       "N              687\n",
       "C23 C25 C27      4\n",
       "G6               4\n",
       "B96 B98          4\n",
       "C22 C26          3\n",
       "              ... \n",
       "E34              1\n",
       "C7               1\n",
       "C54              1\n",
       "E36              1\n",
       "C148             1\n",
       "Name: Cabin, Length: 148, dtype: int64"
      ]
     },
     "execution_count": 58,
     "metadata": {},
     "output_type": "execute_result"
    }
   ],
   "source": [
    "titanic_df['Cabin'].value_counts()"
   ]
  },
  {
   "cell_type": "code",
   "execution_count": 40,
   "id": "cef1e0a9",
   "metadata": {},
   "outputs": [
    {
     "data": {
      "text/plain": [
       "S    644\n",
       "C    168\n",
       "Q     77\n",
       "Name: Embarked, dtype: int64"
      ]
     },
     "execution_count": 40,
     "metadata": {},
     "output_type": "execute_result"
    }
   ],
   "source": [
    "titanic_df['Embarked'].value_counts()"
   ]
  },
  {
   "cell_type": "code",
   "execution_count": 65,
   "id": "d5a2c19b",
   "metadata": {},
   "outputs": [
    {
     "data": {
      "text/plain": [
       "0      N\n",
       "1      C\n",
       "2      N\n",
       "3      C\n",
       "4      N\n",
       "      ..\n",
       "886    N\n",
       "887    B\n",
       "888    N\n",
       "889    C\n",
       "890    N\n",
       "Name: Cabin, Length: 891, dtype: object"
      ]
     },
     "execution_count": 65,
     "metadata": {},
     "output_type": "execute_result"
    }
   ],
   "source": [
    "titanic_df[\"Cabin\"].apply(lambda x : x[:1]) # 나"
   ]
  },
  {
   "cell_type": "code",
   "execution_count": 161,
   "id": "41084b59",
   "metadata": {},
   "outputs": [
    {
     "data": {
      "text/plain": [
       "0      N\n",
       "1      C\n",
       "2      N\n",
       "3      C\n",
       "4      N\n",
       "      ..\n",
       "886    N\n",
       "887    B\n",
       "888    N\n",
       "889    C\n",
       "890    N\n",
       "Name: Cabin, Length: 891, dtype: object"
      ]
     },
     "execution_count": 161,
     "metadata": {},
     "output_type": "execute_result"
    }
   ],
   "source": [
    "titanic_df[\"Cabin\"].str[0] # 강사님"
   ]
  },
  {
   "cell_type": "markdown",
   "id": "49ce148b",
   "metadata": {},
   "source": [
    "### 성별에 따른 생존여부?"
   ]
  },
  {
   "cell_type": "code",
   "execution_count": 45,
   "id": "7332e477",
   "metadata": {},
   "outputs": [
    {
     "data": {
      "text/html": [
       "<div>\n",
       "<style scoped>\n",
       "    .dataframe tbody tr th:only-of-type {\n",
       "        vertical-align: middle;\n",
       "    }\n",
       "\n",
       "    .dataframe tbody tr th {\n",
       "        vertical-align: top;\n",
       "    }\n",
       "\n",
       "    .dataframe thead th {\n",
       "        text-align: right;\n",
       "    }\n",
       "</style>\n",
       "<table border=\"1\" class=\"dataframe\">\n",
       "  <thead>\n",
       "    <tr style=\"text-align: right;\">\n",
       "      <th></th>\n",
       "      <th>Sex</th>\n",
       "      <th>Survived</th>\n",
       "    </tr>\n",
       "  </thead>\n",
       "  <tbody>\n",
       "    <tr>\n",
       "      <th>383</th>\n",
       "      <td>female</td>\n",
       "      <td>1</td>\n",
       "    </tr>\n",
       "    <tr>\n",
       "      <th>218</th>\n",
       "      <td>female</td>\n",
       "      <td>1</td>\n",
       "    </tr>\n",
       "    <tr>\n",
       "      <th>609</th>\n",
       "      <td>female</td>\n",
       "      <td>1</td>\n",
       "    </tr>\n",
       "    <tr>\n",
       "      <th>216</th>\n",
       "      <td>female</td>\n",
       "      <td>1</td>\n",
       "    </tr>\n",
       "    <tr>\n",
       "      <th>215</th>\n",
       "      <td>female</td>\n",
       "      <td>1</td>\n",
       "    </tr>\n",
       "    <tr>\n",
       "      <th>...</th>\n",
       "      <td>...</td>\n",
       "      <td>...</td>\n",
       "    </tr>\n",
       "    <tr>\n",
       "      <th>371</th>\n",
       "      <td>male</td>\n",
       "      <td>0</td>\n",
       "    </tr>\n",
       "    <tr>\n",
       "      <th>372</th>\n",
       "      <td>male</td>\n",
       "      <td>0</td>\n",
       "    </tr>\n",
       "    <tr>\n",
       "      <th>373</th>\n",
       "      <td>male</td>\n",
       "      <td>0</td>\n",
       "    </tr>\n",
       "    <tr>\n",
       "      <th>360</th>\n",
       "      <td>male</td>\n",
       "      <td>0</td>\n",
       "    </tr>\n",
       "    <tr>\n",
       "      <th>890</th>\n",
       "      <td>male</td>\n",
       "      <td>0</td>\n",
       "    </tr>\n",
       "  </tbody>\n",
       "</table>\n",
       "<p>891 rows × 2 columns</p>\n",
       "</div>"
      ],
      "text/plain": [
       "        Sex  Survived\n",
       "383  female         1\n",
       "218  female         1\n",
       "609  female         1\n",
       "216  female         1\n",
       "215  female         1\n",
       "..      ...       ...\n",
       "371    male         0\n",
       "372    male         0\n",
       "373    male         0\n",
       "360    male         0\n",
       "890    male         0\n",
       "\n",
       "[891 rows x 2 columns]"
      ]
     },
     "execution_count": 45,
     "metadata": {},
     "output_type": "execute_result"
    }
   ],
   "source": [
    "titanic_df[['Sex', 'Survived']].sort_values(by=['Sex'])"
   ]
  },
  {
   "cell_type": "markdown",
   "id": "c54e3342",
   "metadata": {},
   "source": [
    "### 내가한거"
   ]
  },
  {
   "cell_type": "code",
   "execution_count": 50,
   "id": "8cb793db",
   "metadata": {},
   "outputs": [
    {
     "data": {
      "text/html": [
       "<div>\n",
       "<style scoped>\n",
       "    .dataframe tbody tr th:only-of-type {\n",
       "        vertical-align: middle;\n",
       "    }\n",
       "\n",
       "    .dataframe tbody tr th {\n",
       "        vertical-align: top;\n",
       "    }\n",
       "\n",
       "    .dataframe thead th {\n",
       "        text-align: right;\n",
       "    }\n",
       "</style>\n",
       "<table border=\"1\" class=\"dataframe\">\n",
       "  <thead>\n",
       "    <tr style=\"text-align: right;\">\n",
       "      <th></th>\n",
       "      <th>Survived</th>\n",
       "    </tr>\n",
       "    <tr>\n",
       "      <th>Sex</th>\n",
       "      <th></th>\n",
       "    </tr>\n",
       "  </thead>\n",
       "  <tbody>\n",
       "    <tr>\n",
       "      <th>female</th>\n",
       "      <td>233</td>\n",
       "    </tr>\n",
       "    <tr>\n",
       "      <th>male</th>\n",
       "      <td>109</td>\n",
       "    </tr>\n",
       "  </tbody>\n",
       "</table>\n",
       "</div>"
      ],
      "text/plain": [
       "        Survived\n",
       "Sex             \n",
       "female       233\n",
       "male         109"
      ]
     },
     "execution_count": 50,
     "metadata": {},
     "output_type": "execute_result"
    }
   ],
   "source": [
    "titanic_df[['Sex', 'Survived']].sort_values(by=['Sex']).groupby(['Sex']).sum()"
   ]
  },
  {
   "cell_type": "markdown",
   "id": "7ca97fe0",
   "metadata": {},
   "source": [
    "### 강사님이 하신거"
   ]
  },
  {
   "cell_type": "code",
   "execution_count": 48,
   "id": "7aea4e2e",
   "metadata": {},
   "outputs": [
    {
     "data": {
      "text/html": [
       "<div>\n",
       "<style scoped>\n",
       "    .dataframe tbody tr th:only-of-type {\n",
       "        vertical-align: middle;\n",
       "    }\n",
       "\n",
       "    .dataframe tbody tr th {\n",
       "        vertical-align: top;\n",
       "    }\n",
       "\n",
       "    .dataframe thead th {\n",
       "        text-align: right;\n",
       "    }\n",
       "</style>\n",
       "<table border=\"1\" class=\"dataframe\">\n",
       "  <thead>\n",
       "    <tr style=\"text-align: right;\">\n",
       "      <th></th>\n",
       "      <th></th>\n",
       "      <th>Survived</th>\n",
       "    </tr>\n",
       "    <tr>\n",
       "      <th>Sex</th>\n",
       "      <th>Survived</th>\n",
       "      <th></th>\n",
       "    </tr>\n",
       "  </thead>\n",
       "  <tbody>\n",
       "    <tr>\n",
       "      <th rowspan=\"2\" valign=\"top\">female</th>\n",
       "      <th>0</th>\n",
       "      <td>81</td>\n",
       "    </tr>\n",
       "    <tr>\n",
       "      <th>1</th>\n",
       "      <td>233</td>\n",
       "    </tr>\n",
       "    <tr>\n",
       "      <th rowspan=\"2\" valign=\"top\">male</th>\n",
       "      <th>0</th>\n",
       "      <td>468</td>\n",
       "    </tr>\n",
       "    <tr>\n",
       "      <th>1</th>\n",
       "      <td>109</td>\n",
       "    </tr>\n",
       "  </tbody>\n",
       "</table>\n",
       "</div>"
      ],
      "text/plain": [
       "                 Survived\n",
       "Sex    Survived          \n",
       "female 0               81\n",
       "       1              233\n",
       "male   0              468\n",
       "       1              109"
      ]
     },
     "execution_count": 48,
     "metadata": {},
     "output_type": "execute_result"
    }
   ],
   "source": [
    "titanic_df.groupby(['Sex', 'Survived'])[['Survived']].count()"
   ]
  },
  {
   "cell_type": "code",
   "execution_count": 87,
   "id": "b32d83dc",
   "metadata": {},
   "outputs": [
    {
     "data": {
      "text/plain": [
       "0.7420382165605095"
      ]
     },
     "execution_count": 87,
     "metadata": {},
     "output_type": "execute_result"
    }
   ],
   "source": [
    "233 / (233 + 81)"
   ]
  },
  {
   "cell_type": "code",
   "execution_count": 89,
   "id": "cb995332",
   "metadata": {},
   "outputs": [
    {
     "data": {
      "text/plain": [
       "0.18890814558058924"
      ]
     },
     "execution_count": 89,
     "metadata": {},
     "output_type": "execute_result"
    }
   ],
   "source": [
    "109 / (468+109)"
   ]
  },
  {
   "cell_type": "code",
   "execution_count": 88,
   "id": "05cf4145",
   "metadata": {},
   "outputs": [
    {
     "data": {
      "text/html": [
       "<div>\n",
       "<style scoped>\n",
       "    .dataframe tbody tr th:only-of-type {\n",
       "        vertical-align: middle;\n",
       "    }\n",
       "\n",
       "    .dataframe tbody tr th {\n",
       "        vertical-align: top;\n",
       "    }\n",
       "\n",
       "    .dataframe thead th {\n",
       "        text-align: right;\n",
       "    }\n",
       "</style>\n",
       "<table border=\"1\" class=\"dataframe\">\n",
       "  <thead>\n",
       "    <tr style=\"text-align: right;\">\n",
       "      <th></th>\n",
       "      <th></th>\n",
       "      <th>Survived</th>\n",
       "    </tr>\n",
       "    <tr>\n",
       "      <th>Sex</th>\n",
       "      <th>Survived</th>\n",
       "      <th></th>\n",
       "    </tr>\n",
       "  </thead>\n",
       "  <tbody>\n",
       "    <tr>\n",
       "      <th rowspan=\"2\" valign=\"top\">female</th>\n",
       "      <th>0</th>\n",
       "      <td>81</td>\n",
       "    </tr>\n",
       "    <tr>\n",
       "      <th>1</th>\n",
       "      <td>233</td>\n",
       "    </tr>\n",
       "    <tr>\n",
       "      <th rowspan=\"2\" valign=\"top\">male</th>\n",
       "      <th>0</th>\n",
       "      <td>468</td>\n",
       "    </tr>\n",
       "    <tr>\n",
       "      <th>1</th>\n",
       "      <td>109</td>\n",
       "    </tr>\n",
       "  </tbody>\n",
       "</table>\n",
       "</div>"
      ],
      "text/plain": [
       "                 Survived\n",
       "Sex    Survived          \n",
       "female 0               81\n",
       "       1              233\n",
       "male   0              468\n",
       "       1              109"
      ]
     },
     "execution_count": 88,
     "metadata": {},
     "output_type": "execute_result"
    }
   ],
   "source": [
    "titanic_df.groupby(['Sex', 'Survived'])[['Survived']].count()"
   ]
  },
  {
   "cell_type": "code",
   "execution_count": 60,
   "id": "d1f8ec90",
   "metadata": {},
   "outputs": [],
   "source": [
    "import seaborn as sns"
   ]
  },
  {
   "cell_type": "code",
   "execution_count": 61,
   "id": "ea79405a",
   "metadata": {},
   "outputs": [
    {
     "data": {
      "text/plain": [
       "<AxesSubplot:>"
      ]
     },
     "execution_count": 61,
     "metadata": {},
     "output_type": "execute_result"
    },
    {
     "data": {
      "image/png": "[encoded data removed]",
      "text/plain": [
       "<Figure size 432x288 with 1 Axes>"
      ]
     },
     "metadata": {
      "needs_background": "light"
     },
     "output_type": "display_data"
    }
   ],
   "source": [
    "sns.barplot(data = titanic_df)"
   ]
  },
  {
   "cell_type": "code",
   "execution_count": 62,
   "id": "26c8f3d4",
   "metadata": {},
   "outputs": [
    {
     "data": {
      "text/plain": [
       "<AxesSubplot:xlabel='Pclass', ylabel='Survived'>"
      ]
     },
     "execution_count": 62,
     "metadata": {},
     "output_type": "execute_result"
    },
    {
     "data": {
      "image/png": "[encoded data removed]",
      "text/plain": [
       "<Figure size 432x288 with 1 Axes>"
      ]
     },
     "metadata": {
      "needs_background": "light"
     },
     "output_type": "display_data"
    }
   ],
   "source": [
    "sns.barplot(x = 'Pclass', y='Survived', data = titanic_df)"
   ]
  },
  {
   "cell_type": "code",
   "execution_count": 66,
   "id": "838e88eb",
   "metadata": {},
   "outputs": [
    {
     "data": {
      "text/plain": [
       "<AxesSubplot:xlabel='Sex', ylabel='Survived'>"
      ]
     },
     "execution_count": 66,
     "metadata": {},
     "output_type": "execute_result"
    },
    {
     "data": {
      "image/png": "[encoded data removed]",
      "text/plain": [
       "<Figure size 432x288 with 1 Axes>"
      ]
     },
     "metadata": {
      "needs_background": "light"
     },
     "output_type": "display_data"
    }
   ],
   "source": [
    "sns.barplot(data = titanic_df, x = 'Sex', y='Survived')"
   ]
  },
  {
   "cell_type": "code",
   "execution_count": 75,
   "id": "97a2640b",
   "metadata": {},
   "outputs": [
    {
     "data": {
      "text/plain": [
       "<AxesSubplot:xlabel='Pclass', ylabel='Survived'>"
      ]
     },
     "execution_count": 75,
     "metadata": {},
     "output_type": "execute_result"
    },
    {
     "data": {
      "image/png": "[encoded data removed]",
      "text/plain": [
       "<Figure size 432x288 with 1 Axes>"
      ]
     },
     "metadata": {
      "needs_background": "light"
     },
     "output_type": "display_data"
    }
   ],
   "source": [
    "sns.barplot(data = titanic_df, x = 'Pclass', y='Survived', hue='Sex')"
   ]
  },
  {
   "cell_type": "markdown",
   "id": "b4a7f0ee",
   "metadata": {},
   "source": [
    "age <= 5 -> Baby\n",
    "age <= 12 -> Child\n",
    "18 -> Teenager\n",
    "25 -> Student\n",
    "35 -> Young Adult\n",
    "60 -> Adult\n",
    "나머지 -> Elderly"
   ]
  },
  {
   "cell_type": "code",
   "execution_count": 101,
   "id": "ccb03d0d",
   "metadata": {},
   "outputs": [
    {
     "data": {
      "text/html": [
       "<div>\n",
       "<style scoped>\n",
       "    .dataframe tbody tr th:only-of-type {\n",
       "        vertical-align: middle;\n",
       "    }\n",
       "\n",
       "    .dataframe tbody tr th {\n",
       "        vertical-align: top;\n",
       "    }\n",
       "\n",
       "    .dataframe thead th {\n",
       "        text-align: right;\n",
       "    }\n",
       "</style>\n",
       "<table border=\"1\" class=\"dataframe\">\n",
       "  <thead>\n",
       "    <tr style=\"text-align: right;\">\n",
       "      <th></th>\n",
       "      <th>Age</th>\n",
       "    </tr>\n",
       "  </thead>\n",
       "  <tbody>\n",
       "    <tr>\n",
       "      <th>0</th>\n",
       "      <td>22.000000</td>\n",
       "    </tr>\n",
       "    <tr>\n",
       "      <th>1</th>\n",
       "      <td>38.000000</td>\n",
       "    </tr>\n",
       "    <tr>\n",
       "      <th>2</th>\n",
       "      <td>26.000000</td>\n",
       "    </tr>\n",
       "    <tr>\n",
       "      <th>3</th>\n",
       "      <td>35.000000</td>\n",
       "    </tr>\n",
       "    <tr>\n",
       "      <th>4</th>\n",
       "      <td>35.000000</td>\n",
       "    </tr>\n",
       "    <tr>\n",
       "      <th>...</th>\n",
       "      <td>...</td>\n",
       "    </tr>\n",
       "    <tr>\n",
       "      <th>886</th>\n",
       "      <td>27.000000</td>\n",
       "    </tr>\n",
       "    <tr>\n",
       "      <th>887</th>\n",
       "      <td>19.000000</td>\n",
       "    </tr>\n",
       "    <tr>\n",
       "      <th>888</th>\n",
       "      <td>29.699118</td>\n",
       "    </tr>\n",
       "    <tr>\n",
       "      <th>889</th>\n",
       "      <td>26.000000</td>\n",
       "    </tr>\n",
       "    <tr>\n",
       "      <th>890</th>\n",
       "      <td>32.000000</td>\n",
       "    </tr>\n",
       "  </tbody>\n",
       "</table>\n",
       "<p>891 rows × 1 columns</p>\n",
       "</div>"
      ],
      "text/plain": [
       "           Age\n",
       "0    22.000000\n",
       "1    38.000000\n",
       "2    26.000000\n",
       "3    35.000000\n",
       "4    35.000000\n",
       "..         ...\n",
       "886  27.000000\n",
       "887  19.000000\n",
       "888  29.699118\n",
       "889  26.000000\n",
       "890  32.000000\n",
       "\n",
       "[891 rows x 1 columns]"
      ]
     },
     "execution_count": 101,
     "metadata": {},
     "output_type": "execute_result"
    }
   ],
   "source": [
    "titanic_df[['Age']]"
   ]
  },
  {
   "cell_type": "markdown",
   "id": "2bfcfbb8",
   "metadata": {},
   "source": [
    "\n",
    "Age 가 5살 이하는 Baby <br/>\n",
    "12살 이하는 Child <br/>\n",
    "18살 이하는 Teenager <br/>\n",
    "25살 이하는 Student <br/>\n",
    "35살 이하는 Young Adult <br/>\n",
    "60살 이하는 Adult <br/>\n",
    "나머지는 Elderly <br/>\n"
   ]
  },
  {
   "cell_type": "code",
   "execution_count": 116,
   "id": "b3e621e4",
   "metadata": {},
   "outputs": [
    {
     "ename": "SyntaxError",
     "evalue": "invalid syntax (Temp/ipykernel_17828/1672438003.py, line 1)",
     "output_type": "error",
     "traceback": [
      "\u001b[1;36m  File \u001b[1;32m\"C:\\Users\\82103\\AppData\\Local\\Temp/ipykernel_17828/1672438003.py\"\u001b[1;36m, line \u001b[1;32m1\u001b[0m\n\u001b[1;33m    titanic_df['Age'].apply(lambda x : 'Baby' if (x<=5), 'Child' else if(5<x<=12), 'Teenager' else if(5<x<=12), 'Student' else if(18<x<=25), 'Young Adult' else if(25<x<=35), 'Adult' else if(35<x<=60) else 'Elderly')\u001b[0m\n\u001b[1;37m                                                       ^\u001b[0m\n\u001b[1;31mSyntaxError\u001b[0m\u001b[1;31m:\u001b[0m invalid syntax\n"
     ]
    }
   ],
   "source": [
    "titanic_df['Age'].apply(lambda x : 'Baby' if x<=5 \n",
    "                        'Child' else if 5<x<=12 \n",
    "                        'Teenager' else if(5<x<=12)\n",
    "                        'Student' else if(18<x<=25)\n",
    "                        'Young Adult' else if(25<x<=35)\n",
    "                        'Adult' else if(35<x<=60) \n",
    "                        else 'Elderly')\n",
    "# 어케 해야되지?"
   ]
  },
  {
   "cell_type": "markdown",
   "id": "6d881801",
   "metadata": {},
   "source": [
    "### 강사님 "
   ]
  },
  {
   "cell_type": "code",
   "execution_count": 146,
   "id": "babc9277",
   "metadata": {},
   "outputs": [],
   "source": [
    "titanic_df['Age_cate'] = titanic_df['Age'].apply(lambda x : 'Baby' if x<=5\n",
    "                        else 'Child' if 5<x<=12 \n",
    "                        else 'Teenager' if(5<x<=18)\n",
    "                        else 'Student' if(18<x<=25)\n",
    "                        else 'Young Adult' if(25<x<=35)\n",
    "                        else 'Adult' if(35<x<=60) \n",
    "                        else 'Elderly')\n",
    "# 이거였다..."
   ]
  },
  {
   "cell_type": "markdown",
   "id": "2136cd49",
   "metadata": {},
   "source": [
    "### 다른사람 코드"
   ]
  },
  {
   "cell_type": "code",
   "execution_count": 129,
   "id": "3a5d7079",
   "metadata": {},
   "outputs": [
    {
     "data": {
      "text/plain": [
       "Young Adult    373\n",
       "Adult          195\n",
       "Student        162\n",
       "Teenager        70\n",
       "Baby            44\n",
       "Child           25\n",
       "Elderly         22\n",
       "Name: Age, dtype: int64"
      ]
     },
     "execution_count": 129,
     "metadata": {},
     "output_type": "execute_result"
    }
   ],
   "source": [
    "ages = titanic_df['Age']\n",
    "bins = [0, 5, 12, 18, 25, 35, 60, 100]\n",
    "labels = ['Baby', 'Child', 'Teenager', 'Student', 'Young Adult', 'Adult', 'Elderly']\n",
    "\n",
    "cuts = pd.cut(ages, bins, right=True, labels=labels)\n",
    "cuts.value_counts()\n"
   ]
  },
  {
   "cell_type": "code",
   "execution_count": 150,
   "id": "d7b375c3",
   "metadata": {},
   "outputs": [],
   "source": [
    "titanic_df['Age_cut'] = cuts"
   ]
  },
  {
   "cell_type": "markdown",
   "id": "46b7293f",
   "metadata": {},
   "source": [
    "### 강사님"
   ]
  },
  {
   "cell_type": "code",
   "execution_count": 139,
   "id": "3befbbd5",
   "metadata": {},
   "outputs": [],
   "source": [
    "def get_category(age):\n",
    "    cat = ''\n",
    "    if age <= 5: cat = 'Baby'\n",
    "    elif age <= 12: cat = 'Child'\n",
    "    elif age <= 18: cat = 'Teenager'\n",
    "    elif age <= 25: cat = 'Student'\n",
    "    elif age <= 35: cat = 'Young Adult'\n",
    "    elif age <= 60: cat = 'Adult'\n",
    "    else : cat = 'Elderly'\n",
    "    \n",
    "    return cat\n",
    "    \n",
    "    \n",
    "titanic_df['Age_ct2'] = titanic_df['Age'].apply(get_category)"
   ]
  },
  {
   "cell_type": "code",
   "execution_count": 140,
   "id": "0f60f8d8",
   "metadata": {},
   "outputs": [
    {
     "data": {
      "text/plain": [
       "Young Adult    373\n",
       "Adult          195\n",
       "Student        162\n",
       "Teenager        70\n",
       "Baby            44\n",
       "Child           25\n",
       "Elderly         22\n",
       "Name: Age_ct2, dtype: int64"
      ]
     },
     "execution_count": 140,
     "metadata": {},
     "output_type": "execute_result"
    }
   ],
   "source": [
    "titanic_df['Age_ct2'].value_counts()"
   ]
  },
  {
   "cell_type": "code",
   "execution_count": 143,
   "id": "39c7ad3d",
   "metadata": {},
   "outputs": [],
   "source": [
    "import matplotlib.pyplot as plt"
   ]
  },
  {
   "cell_type": "code",
   "execution_count": 144,
   "id": "e4b6a531",
   "metadata": {},
   "outputs": [
    {
     "data": {
      "image/png": "[encoded data removed]",
      "text/plain": [
       "<Figure size 720x432 with 1 Axes>"
      ]
     },
     "metadata": {
      "needs_background": "light"
     },
     "output_type": "display_data"
    }
   ],
   "source": [
    "plt.figure(figsize=(10,6))\n",
    "\n",
    "sns.barplot(x='Age_ct2', y = 'Survived', hue='Sex', data=titanic_df)\n",
    "plt.show()"
   ]
  },
  {
   "cell_type": "code",
   "execution_count": 148,
   "id": "f9019e14",
   "metadata": {},
   "outputs": [
    {
     "data": {
      "image/png": "[encoded data removed]",
      "text/plain": [
       "<Figure size 720x432 with 1 Axes>"
      ]
     },
     "metadata": {
      "needs_background": "light"
     },
     "output_type": "display_data"
    }
   ],
   "source": [
    "plt.figure(figsize=(10,6))\n",
    "\n",
    "group_names = ['Baby', 'Child', 'Teenager', 'Student', \"Young Adult\", \"Adult\", \"Elderly\"]\n",
    "sns.barplot(x='Age_cate', y = 'Survived', hue='Sex', data=titanic_df, order=group_names)\n",
    "plt.show()"
   ]
  },
  {
   "cell_type": "code",
   "execution_count": 151,
   "id": "593cb0b9",
   "metadata": {},
   "outputs": [
    {
     "data": {
      "text/plain": [
       "Index(['PassengerId', 'Survived', 'Pclass', 'Name', 'Sex', 'Age', 'SibSp',\n",
       "       'Parch', 'Ticket', 'Fare', 'Cabin', 'Embarked', 'Age_ct2', 'Age_cate',\n",
       "       'Age_cut'],\n",
       "      dtype='object')"
      ]
     },
     "execution_count": 151,
     "metadata": {},
     "output_type": "execute_result"
    }
   ],
   "source": [
    "titanic_df.columns"
   ]
  },
  {
   "cell_type": "code",
   "execution_count": 155,
   "id": "7884ae33",
   "metadata": {},
   "outputs": [
    {
     "data": {
      "text/html": [
       "<div>\n",
       "<style scoped>\n",
       "    .dataframe tbody tr th:only-of-type {\n",
       "        vertical-align: middle;\n",
       "    }\n",
       "\n",
       "    .dataframe tbody tr th {\n",
       "        vertical-align: top;\n",
       "    }\n",
       "\n",
       "    .dataframe thead th {\n",
       "        text-align: right;\n",
       "    }\n",
       "</style>\n",
       "<table border=\"1\" class=\"dataframe\">\n",
       "  <thead>\n",
       "    <tr style=\"text-align: right;\">\n",
       "      <th></th>\n",
       "      <th>PassengerId</th>\n",
       "      <th>Survived</th>\n",
       "      <th>Pclass</th>\n",
       "      <th>Name</th>\n",
       "      <th>Sex</th>\n",
       "      <th>Age</th>\n",
       "      <th>SibSp</th>\n",
       "      <th>Parch</th>\n",
       "      <th>Ticket</th>\n",
       "      <th>Fare</th>\n",
       "      <th>Cabin</th>\n",
       "      <th>Embarked</th>\n",
       "    </tr>\n",
       "  </thead>\n",
       "  <tbody>\n",
       "    <tr>\n",
       "      <th>0</th>\n",
       "      <td>1</td>\n",
       "      <td>0</td>\n",
       "      <td>3</td>\n",
       "      <td>Braund, Mr. Owen Harris</td>\n",
       "      <td>male</td>\n",
       "      <td>22.0</td>\n",
       "      <td>1</td>\n",
       "      <td>0</td>\n",
       "      <td>A/5 21171</td>\n",
       "      <td>7.2500</td>\n",
       "      <td>N</td>\n",
       "      <td>S</td>\n",
       "    </tr>\n",
       "    <tr>\n",
       "      <th>1</th>\n",
       "      <td>2</td>\n",
       "      <td>1</td>\n",
       "      <td>1</td>\n",
       "      <td>Cumings, Mrs. John Bradley (Florence Briggs Th...</td>\n",
       "      <td>female</td>\n",
       "      <td>38.0</td>\n",
       "      <td>1</td>\n",
       "      <td>0</td>\n",
       "      <td>PC 17599</td>\n",
       "      <td>71.2833</td>\n",
       "      <td>C85</td>\n",
       "      <td>C</td>\n",
       "    </tr>\n",
       "    <tr>\n",
       "      <th>2</th>\n",
       "      <td>3</td>\n",
       "      <td>1</td>\n",
       "      <td>3</td>\n",
       "      <td>Heikkinen, Miss. Laina</td>\n",
       "      <td>female</td>\n",
       "      <td>26.0</td>\n",
       "      <td>0</td>\n",
       "      <td>0</td>\n",
       "      <td>STON/O2. 3101282</td>\n",
       "      <td>7.9250</td>\n",
       "      <td>N</td>\n",
       "      <td>S</td>\n",
       "    </tr>\n",
       "  </tbody>\n",
       "</table>\n",
       "</div>"
      ],
      "text/plain": [
       "   PassengerId  Survived  Pclass  \\\n",
       "0            1         0       3   \n",
       "1            2         1       1   \n",
       "2            3         1       3   \n",
       "\n",
       "                                                Name     Sex   Age  SibSp  \\\n",
       "0                            Braund, Mr. Owen Harris    male  22.0      1   \n",
       "1  Cumings, Mrs. John Bradley (Florence Briggs Th...  female  38.0      1   \n",
       "2                             Heikkinen, Miss. Laina  female  26.0      0   \n",
       "\n",
       "   Parch            Ticket     Fare Cabin Embarked  \n",
       "0      0         A/5 21171   7.2500     N        S  \n",
       "1      0          PC 17599  71.2833   C85        C  \n",
       "2      0  STON/O2. 3101282   7.9250     N        S  "
      ]
     },
     "execution_count": 155,
     "metadata": {},
     "output_type": "execute_result"
    }
   ],
   "source": [
    "titanic_df.drop(['Age_cate', 'Age_ct2', 'Age_cut'], axis=1).head(3)"
   ]
  },
  {
   "cell_type": "code",
   "execution_count": 163,
   "id": "31b32a90",
   "metadata": {},
   "outputs": [
    {
     "data": {
      "text/html": [
       "<div>\n",
       "<style scoped>\n",
       "    .dataframe tbody tr th:only-of-type {\n",
       "        vertical-align: middle;\n",
       "    }\n",
       "\n",
       "    .dataframe tbody tr th {\n",
       "        vertical-align: top;\n",
       "    }\n",
       "\n",
       "    .dataframe thead th {\n",
       "        text-align: right;\n",
       "    }\n",
       "</style>\n",
       "<table border=\"1\" class=\"dataframe\">\n",
       "  <thead>\n",
       "    <tr style=\"text-align: right;\">\n",
       "      <th></th>\n",
       "      <th>PassengerId</th>\n",
       "      <th>Survived</th>\n",
       "      <th>Pclass</th>\n",
       "      <th>Name</th>\n",
       "      <th>Sex</th>\n",
       "      <th>Age</th>\n",
       "      <th>SibSp</th>\n",
       "      <th>Parch</th>\n",
       "      <th>Ticket</th>\n",
       "      <th>Fare</th>\n",
       "      <th>Cabin</th>\n",
       "      <th>Embarked</th>\n",
       "    </tr>\n",
       "  </thead>\n",
       "  <tbody>\n",
       "    <tr>\n",
       "      <th>0</th>\n",
       "      <td>1</td>\n",
       "      <td>0</td>\n",
       "      <td>3</td>\n",
       "      <td>Braund, Mr. Owen Harris</td>\n",
       "      <td>male</td>\n",
       "      <td>22.0</td>\n",
       "      <td>1</td>\n",
       "      <td>0</td>\n",
       "      <td>A/5 21171</td>\n",
       "      <td>7.2500</td>\n",
       "      <td>N</td>\n",
       "      <td>S</td>\n",
       "    </tr>\n",
       "    <tr>\n",
       "      <th>1</th>\n",
       "      <td>2</td>\n",
       "      <td>1</td>\n",
       "      <td>1</td>\n",
       "      <td>Cumings, Mrs. John Bradley (Florence Briggs Th...</td>\n",
       "      <td>female</td>\n",
       "      <td>38.0</td>\n",
       "      <td>1</td>\n",
       "      <td>0</td>\n",
       "      <td>PC 17599</td>\n",
       "      <td>71.2833</td>\n",
       "      <td>C</td>\n",
       "      <td>C</td>\n",
       "    </tr>\n",
       "    <tr>\n",
       "      <th>2</th>\n",
       "      <td>3</td>\n",
       "      <td>1</td>\n",
       "      <td>3</td>\n",
       "      <td>Heikkinen, Miss. Laina</td>\n",
       "      <td>female</td>\n",
       "      <td>26.0</td>\n",
       "      <td>0</td>\n",
       "      <td>0</td>\n",
       "      <td>STON/O2. 3101282</td>\n",
       "      <td>7.9250</td>\n",
       "      <td>N</td>\n",
       "      <td>S</td>\n",
       "    </tr>\n",
       "  </tbody>\n",
       "</table>\n",
       "</div>"
      ],
      "text/plain": [
       "   PassengerId  Survived  Pclass  \\\n",
       "0            1         0       3   \n",
       "1            2         1       1   \n",
       "2            3         1       3   \n",
       "\n",
       "                                                Name     Sex   Age  SibSp  \\\n",
       "0                            Braund, Mr. Owen Harris    male  22.0      1   \n",
       "1  Cumings, Mrs. John Bradley (Florence Briggs Th...  female  38.0      1   \n",
       "2                             Heikkinen, Miss. Laina  female  26.0      0   \n",
       "\n",
       "   Parch            Ticket     Fare Cabin Embarked  \n",
       "0      0         A/5 21171   7.2500     N        S  \n",
       "1      0          PC 17599  71.2833     C        C  \n",
       "2      0  STON/O2. 3101282   7.9250     N        S  "
      ]
     },
     "execution_count": 163,
     "metadata": {},
     "output_type": "execute_result"
    }
   ],
   "source": [
    "titanic_df = titanic_df[['PassengerId', 'Survived', 'Pclass', 'Name', 'Sex', 'Age', 'SibSp',\n",
    "       'Parch', 'Ticket', 'Fare', 'Cabin', 'Embarked']].copy()\n",
    "\n",
    "# drop 할 컬럼이 더 많을때 하는 방법.\n",
    "\n",
    "# 경고를 피하려고 copy 하는데 나는 왜 copy를 안해도 에러가 안나지?\n",
    "\n",
    "titanic_df.head(3)"
   ]
  },
  {
   "cell_type": "code",
   "execution_count": 164,
   "id": "586aedae",
   "metadata": {},
   "outputs": [],
   "source": [
    "titanic_df[\"Cabin\"] = titanic_df[\"Cabin\"].str[0]"
   ]
  },
  {
   "cell_type": "code",
   "execution_count": 166,
   "id": "35ce9d7e",
   "metadata": {},
   "outputs": [
    {
     "data": {
      "text/html": [
       "<div>\n",
       "<style scoped>\n",
       "    .dataframe tbody tr th:only-of-type {\n",
       "        vertical-align: middle;\n",
       "    }\n",
       "\n",
       "    .dataframe tbody tr th {\n",
       "        vertical-align: top;\n",
       "    }\n",
       "\n",
       "    .dataframe thead th {\n",
       "        text-align: right;\n",
       "    }\n",
       "</style>\n",
       "<table border=\"1\" class=\"dataframe\">\n",
       "  <thead>\n",
       "    <tr style=\"text-align: right;\">\n",
       "      <th></th>\n",
       "      <th>PassengerId</th>\n",
       "      <th>Survived</th>\n",
       "      <th>Pclass</th>\n",
       "      <th>Name</th>\n",
       "      <th>Sex</th>\n",
       "      <th>Age</th>\n",
       "      <th>SibSp</th>\n",
       "      <th>Parch</th>\n",
       "      <th>Ticket</th>\n",
       "      <th>Fare</th>\n",
       "      <th>Cabin</th>\n",
       "      <th>Embarked</th>\n",
       "    </tr>\n",
       "  </thead>\n",
       "  <tbody>\n",
       "    <tr>\n",
       "      <th>0</th>\n",
       "      <td>1</td>\n",
       "      <td>0</td>\n",
       "      <td>3</td>\n",
       "      <td>Braund, Mr. Owen Harris</td>\n",
       "      <td>male</td>\n",
       "      <td>22.0</td>\n",
       "      <td>1</td>\n",
       "      <td>0</td>\n",
       "      <td>A/5 21171</td>\n",
       "      <td>7.2500</td>\n",
       "      <td>N</td>\n",
       "      <td>S</td>\n",
       "    </tr>\n",
       "    <tr>\n",
       "      <th>1</th>\n",
       "      <td>2</td>\n",
       "      <td>1</td>\n",
       "      <td>1</td>\n",
       "      <td>Cumings, Mrs. John Bradley (Florence Briggs Th...</td>\n",
       "      <td>female</td>\n",
       "      <td>38.0</td>\n",
       "      <td>1</td>\n",
       "      <td>0</td>\n",
       "      <td>PC 17599</td>\n",
       "      <td>71.2833</td>\n",
       "      <td>C</td>\n",
       "      <td>C</td>\n",
       "    </tr>\n",
       "    <tr>\n",
       "      <th>2</th>\n",
       "      <td>3</td>\n",
       "      <td>1</td>\n",
       "      <td>3</td>\n",
       "      <td>Heikkinen, Miss. Laina</td>\n",
       "      <td>female</td>\n",
       "      <td>26.0</td>\n",
       "      <td>0</td>\n",
       "      <td>0</td>\n",
       "      <td>STON/O2. 3101282</td>\n",
       "      <td>7.9250</td>\n",
       "      <td>N</td>\n",
       "      <td>S</td>\n",
       "    </tr>\n",
       "  </tbody>\n",
       "</table>\n",
       "</div>"
      ],
      "text/plain": [
       "   PassengerId  Survived  Pclass  \\\n",
       "0            1         0       3   \n",
       "1            2         1       1   \n",
       "2            3         1       3   \n",
       "\n",
       "                                                Name     Sex   Age  SibSp  \\\n",
       "0                            Braund, Mr. Owen Harris    male  22.0      1   \n",
       "1  Cumings, Mrs. John Bradley (Florence Briggs Th...  female  38.0      1   \n",
       "2                             Heikkinen, Miss. Laina  female  26.0      0   \n",
       "\n",
       "   Parch            Ticket     Fare Cabin Embarked  \n",
       "0      0         A/5 21171   7.2500     N        S  \n",
       "1      0          PC 17599  71.2833     C        C  \n",
       "2      0  STON/O2. 3101282   7.9250     N        S  "
      ]
     },
     "execution_count": 166,
     "metadata": {},
     "output_type": "execute_result"
    }
   ],
   "source": [
    "titanic_df.head(3)"
   ]
  },
  {
   "cell_type": "markdown",
   "id": "403a7f60",
   "metadata": {},
   "source": [
    "### 범주형 데이터(Sex, Cabin, Embarked) -> LabelEncoding 변환"
   ]
  },
  {
   "cell_type": "code",
   "execution_count": 168,
   "id": "fc7d7f32",
   "metadata": {},
   "outputs": [],
   "source": [
    "encoder = LabelEncoder()\n",
    "encoder.fit(titanic_df['Sex'])\n",
    "titanic_df['Sex'] = encoder.transform(titanic_df['Sex'])"
   ]
  },
  {
   "cell_type": "code",
   "execution_count": 169,
   "id": "ede03cd8",
   "metadata": {
    "scrolled": true
   },
   "outputs": [
    {
     "data": {
      "text/html": [
       "<div>\n",
       "<style scoped>\n",
       "    .dataframe tbody tr th:only-of-type {\n",
       "        vertical-align: middle;\n",
       "    }\n",
       "\n",
       "    .dataframe tbody tr th {\n",
       "        vertical-align: top;\n",
       "    }\n",
       "\n",
       "    .dataframe thead th {\n",
       "        text-align: right;\n",
       "    }\n",
       "</style>\n",
       "<table border=\"1\" class=\"dataframe\">\n",
       "  <thead>\n",
       "    <tr style=\"text-align: right;\">\n",
       "      <th></th>\n",
       "      <th>PassengerId</th>\n",
       "      <th>Survived</th>\n",
       "      <th>Pclass</th>\n",
       "      <th>Name</th>\n",
       "      <th>Sex</th>\n",
       "      <th>Age</th>\n",
       "      <th>SibSp</th>\n",
       "      <th>Parch</th>\n",
       "      <th>Ticket</th>\n",
       "      <th>Fare</th>\n",
       "      <th>Cabin</th>\n",
       "      <th>Embarked</th>\n",
       "    </tr>\n",
       "  </thead>\n",
       "  <tbody>\n",
       "    <tr>\n",
       "      <th>0</th>\n",
       "      <td>1</td>\n",
       "      <td>0</td>\n",
       "      <td>3</td>\n",
       "      <td>Braund, Mr. Owen Harris</td>\n",
       "      <td>1</td>\n",
       "      <td>22.000000</td>\n",
       "      <td>1</td>\n",
       "      <td>0</td>\n",
       "      <td>A/5 21171</td>\n",
       "      <td>7.2500</td>\n",
       "      <td>N</td>\n",
       "      <td>S</td>\n",
       "    </tr>\n",
       "    <tr>\n",
       "      <th>1</th>\n",
       "      <td>2</td>\n",
       "      <td>1</td>\n",
       "      <td>1</td>\n",
       "      <td>Cumings, Mrs. John Bradley (Florence Briggs Th...</td>\n",
       "      <td>0</td>\n",
       "      <td>38.000000</td>\n",
       "      <td>1</td>\n",
       "      <td>0</td>\n",
       "      <td>PC 17599</td>\n",
       "      <td>71.2833</td>\n",
       "      <td>C</td>\n",
       "      <td>C</td>\n",
       "    </tr>\n",
       "    <tr>\n",
       "      <th>2</th>\n",
       "      <td>3</td>\n",
       "      <td>1</td>\n",
       "      <td>3</td>\n",
       "      <td>Heikkinen, Miss. Laina</td>\n",
       "      <td>0</td>\n",
       "      <td>26.000000</td>\n",
       "      <td>0</td>\n",
       "      <td>0</td>\n",
       "      <td>STON/O2. 3101282</td>\n",
       "      <td>7.9250</td>\n",
       "      <td>N</td>\n",
       "      <td>S</td>\n",
       "    </tr>\n",
       "    <tr>\n",
       "      <th>3</th>\n",
       "      <td>4</td>\n",
       "      <td>1</td>\n",
       "      <td>1</td>\n",
       "      <td>Futrelle, Mrs. Jacques Heath (Lily May Peel)</td>\n",
       "      <td>0</td>\n",
       "      <td>35.000000</td>\n",
       "      <td>1</td>\n",
       "      <td>0</td>\n",
       "      <td>113803</td>\n",
       "      <td>53.1000</td>\n",
       "      <td>C</td>\n",
       "      <td>S</td>\n",
       "    </tr>\n",
       "    <tr>\n",
       "      <th>4</th>\n",
       "      <td>5</td>\n",
       "      <td>0</td>\n",
       "      <td>3</td>\n",
       "      <td>Allen, Mr. William Henry</td>\n",
       "      <td>1</td>\n",
       "      <td>35.000000</td>\n",
       "      <td>0</td>\n",
       "      <td>0</td>\n",
       "      <td>373450</td>\n",
       "      <td>8.0500</td>\n",
       "      <td>N</td>\n",
       "      <td>S</td>\n",
       "    </tr>\n",
       "    <tr>\n",
       "      <th>...</th>\n",
       "      <td>...</td>\n",
       "      <td>...</td>\n",
       "      <td>...</td>\n",
       "      <td>...</td>\n",
       "      <td>...</td>\n",
       "      <td>...</td>\n",
       "      <td>...</td>\n",
       "      <td>...</td>\n",
       "      <td>...</td>\n",
       "      <td>...</td>\n",
       "      <td>...</td>\n",
       "      <td>...</td>\n",
       "    </tr>\n",
       "    <tr>\n",
       "      <th>886</th>\n",
       "      <td>887</td>\n",
       "      <td>0</td>\n",
       "      <td>2</td>\n",
       "      <td>Montvila, Rev. Juozas</td>\n",
       "      <td>1</td>\n",
       "      <td>27.000000</td>\n",
       "      <td>0</td>\n",
       "      <td>0</td>\n",
       "      <td>211536</td>\n",
       "      <td>13.0000</td>\n",
       "      <td>N</td>\n",
       "      <td>S</td>\n",
       "    </tr>\n",
       "    <tr>\n",
       "      <th>887</th>\n",
       "      <td>888</td>\n",
       "      <td>1</td>\n",
       "      <td>1</td>\n",
       "      <td>Graham, Miss. Margaret Edith</td>\n",
       "      <td>0</td>\n",
       "      <td>19.000000</td>\n",
       "      <td>0</td>\n",
       "      <td>0</td>\n",
       "      <td>112053</td>\n",
       "      <td>30.0000</td>\n",
       "      <td>B</td>\n",
       "      <td>S</td>\n",
       "    </tr>\n",
       "    <tr>\n",
       "      <th>888</th>\n",
       "      <td>889</td>\n",
       "      <td>0</td>\n",
       "      <td>3</td>\n",
       "      <td>Johnston, Miss. Catherine Helen \"Carrie\"</td>\n",
       "      <td>0</td>\n",
       "      <td>29.699118</td>\n",
       "      <td>1</td>\n",
       "      <td>2</td>\n",
       "      <td>W./C. 6607</td>\n",
       "      <td>23.4500</td>\n",
       "      <td>N</td>\n",
       "      <td>S</td>\n",
       "    </tr>\n",
       "    <tr>\n",
       "      <th>889</th>\n",
       "      <td>890</td>\n",
       "      <td>1</td>\n",
       "      <td>1</td>\n",
       "      <td>Behr, Mr. Karl Howell</td>\n",
       "      <td>1</td>\n",
       "      <td>26.000000</td>\n",
       "      <td>0</td>\n",
       "      <td>0</td>\n",
       "      <td>111369</td>\n",
       "      <td>30.0000</td>\n",
       "      <td>C</td>\n",
       "      <td>C</td>\n",
       "    </tr>\n",
       "    <tr>\n",
       "      <th>890</th>\n",
       "      <td>891</td>\n",
       "      <td>0</td>\n",
       "      <td>3</td>\n",
       "      <td>Dooley, Mr. Patrick</td>\n",
       "      <td>1</td>\n",
       "      <td>32.000000</td>\n",
       "      <td>0</td>\n",
       "      <td>0</td>\n",
       "      <td>370376</td>\n",
       "      <td>7.7500</td>\n",
       "      <td>N</td>\n",
       "      <td>Q</td>\n",
       "    </tr>\n",
       "  </tbody>\n",
       "</table>\n",
       "<p>891 rows × 12 columns</p>\n",
       "</div>"
      ],
      "text/plain": [
       "     PassengerId  Survived  Pclass  \\\n",
       "0              1         0       3   \n",
       "1              2         1       1   \n",
       "2              3         1       3   \n",
       "3              4         1       1   \n",
       "4              5         0       3   \n",
       "..           ...       ...     ...   \n",
       "886          887         0       2   \n",
       "887          888         1       1   \n",
       "888          889         0       3   \n",
       "889          890         1       1   \n",
       "890          891         0       3   \n",
       "\n",
       "                                                  Name  Sex        Age  SibSp  \\\n",
       "0                              Braund, Mr. Owen Harris    1  22.000000      1   \n",
       "1    Cumings, Mrs. John Bradley (Florence Briggs Th...    0  38.000000      1   \n",
       "2                               Heikkinen, Miss. Laina    0  26.000000      0   \n",
       "3         Futrelle, Mrs. Jacques Heath (Lily May Peel)    0  35.000000      1   \n",
       "4                             Allen, Mr. William Henry    1  35.000000      0   \n",
       "..                                                 ...  ...        ...    ...   \n",
       "886                              Montvila, Rev. Juozas    1  27.000000      0   \n",
       "887                       Graham, Miss. Margaret Edith    0  19.000000      0   \n",
       "888           Johnston, Miss. Catherine Helen \"Carrie\"    0  29.699118      1   \n",
       "889                              Behr, Mr. Karl Howell    1  26.000000      0   \n",
       "890                                Dooley, Mr. Patrick    1  32.000000      0   \n",
       "\n",
       "     Parch            Ticket     Fare Cabin Embarked  \n",
       "0        0         A/5 21171   7.2500     N        S  \n",
       "1        0          PC 17599  71.2833     C        C  \n",
       "2        0  STON/O2. 3101282   7.9250     N        S  \n",
       "3        0            113803  53.1000     C        S  \n",
       "4        0            373450   8.0500     N        S  \n",
       "..     ...               ...      ...   ...      ...  \n",
       "886      0            211536  13.0000     N        S  \n",
       "887      0            112053  30.0000     B        S  \n",
       "888      2        W./C. 6607  23.4500     N        S  \n",
       "889      0            111369  30.0000     C        C  \n",
       "890      0            370376   7.7500     N        Q  \n",
       "\n",
       "[891 rows x 12 columns]"
      ]
     },
     "execution_count": 169,
     "metadata": {},
     "output_type": "execute_result"
    }
   ],
   "source": [
    "titanic_df"
   ]
  },
  {
   "cell_type": "code",
   "execution_count": 170,
   "id": "b36819d7",
   "metadata": {},
   "outputs": [],
   "source": [
    "encoder = LabelEncoder()\n",
    "encoder.fit(titanic_df['Cabin'])\n",
    "titanic_df['Cabin'] = encoder.transform(titanic_df['Cabin'])"
   ]
  },
  {
   "cell_type": "code",
   "execution_count": 171,
   "id": "9e3af030",
   "metadata": {},
   "outputs": [],
   "source": [
    "encoder = LabelEncoder()\n",
    "encoder.fit(titanic_df['Embarked'])\n",
    "titanic_df['Embarked'] = encoder.transform(titanic_df['Embarked'])"
   ]
  },
  {
   "cell_type": "code",
   "execution_count": 175,
   "id": "aa04f773",
   "metadata": {
    "scrolled": true
   },
   "outputs": [
    {
     "data": {
      "text/html": [
       "<div>\n",
       "<style scoped>\n",
       "    .dataframe tbody tr th:only-of-type {\n",
       "        vertical-align: middle;\n",
       "    }\n",
       "\n",
       "    .dataframe tbody tr th {\n",
       "        vertical-align: top;\n",
       "    }\n",
       "\n",
       "    .dataframe thead th {\n",
       "        text-align: right;\n",
       "    }\n",
       "</style>\n",
       "<table border=\"1\" class=\"dataframe\">\n",
       "  <thead>\n",
       "    <tr style=\"text-align: right;\">\n",
       "      <th></th>\n",
       "      <th>PassengerId</th>\n",
       "      <th>Survived</th>\n",
       "      <th>Pclass</th>\n",
       "      <th>Name</th>\n",
       "      <th>Sex</th>\n",
       "      <th>Age</th>\n",
       "      <th>SibSp</th>\n",
       "      <th>Parch</th>\n",
       "      <th>Ticket</th>\n",
       "      <th>Fare</th>\n",
       "      <th>Cabin</th>\n",
       "      <th>Embarked</th>\n",
       "    </tr>\n",
       "  </thead>\n",
       "  <tbody>\n",
       "    <tr>\n",
       "      <th>0</th>\n",
       "      <td>1</td>\n",
       "      <td>0</td>\n",
       "      <td>3</td>\n",
       "      <td>Braund, Mr. Owen Harris</td>\n",
       "      <td>1</td>\n",
       "      <td>22.0</td>\n",
       "      <td>1</td>\n",
       "      <td>0</td>\n",
       "      <td>A/5 21171</td>\n",
       "      <td>7.25</td>\n",
       "      <td>7</td>\n",
       "      <td>2</td>\n",
       "    </tr>\n",
       "  </tbody>\n",
       "</table>\n",
       "</div>"
      ],
      "text/plain": [
       "   PassengerId  Survived  Pclass                     Name  Sex   Age  SibSp  \\\n",
       "0            1         0       3  Braund, Mr. Owen Harris    1  22.0      1   \n",
       "\n",
       "   Parch     Ticket  Fare  Cabin  Embarked  \n",
       "0      0  A/5 21171  7.25      7         2  "
      ]
     },
     "execution_count": 175,
     "metadata": {},
     "output_type": "execute_result"
    }
   ],
   "source": [
    "titanic_df.head(1)"
   ]
  },
  {
   "cell_type": "code",
   "execution_count": 177,
   "id": "f51665bb",
   "metadata": {},
   "outputs": [],
   "source": [
    "# 위에 여러번 반복하는 코드 줄이기\n",
    "for label in ['Sex', 'Cabin', 'Embarked']:\n",
    "    encoder = LabelEncoder()\n",
    "    encoder.fit(titanic_df[label])\n",
    "    titanic_df[label] = encoder.transform(titanic_df[label])"
   ]
  },
  {
   "cell_type": "code",
   "execution_count": 178,
   "id": "c5388933",
   "metadata": {
    "scrolled": true
   },
   "outputs": [
    {
     "data": {
      "text/html": [
       "<div>\n",
       "<style scoped>\n",
       "    .dataframe tbody tr th:only-of-type {\n",
       "        vertical-align: middle;\n",
       "    }\n",
       "\n",
       "    .dataframe tbody tr th {\n",
       "        vertical-align: top;\n",
       "    }\n",
       "\n",
       "    .dataframe thead th {\n",
       "        text-align: right;\n",
       "    }\n",
       "</style>\n",
       "<table border=\"1\" class=\"dataframe\">\n",
       "  <thead>\n",
       "    <tr style=\"text-align: right;\">\n",
       "      <th></th>\n",
       "      <th>PassengerId</th>\n",
       "      <th>Survived</th>\n",
       "      <th>Pclass</th>\n",
       "      <th>Name</th>\n",
       "      <th>Sex</th>\n",
       "      <th>Age</th>\n",
       "      <th>SibSp</th>\n",
       "      <th>Parch</th>\n",
       "      <th>Ticket</th>\n",
       "      <th>Fare</th>\n",
       "      <th>Cabin</th>\n",
       "      <th>Embarked</th>\n",
       "    </tr>\n",
       "  </thead>\n",
       "  <tbody>\n",
       "    <tr>\n",
       "      <th>0</th>\n",
       "      <td>1</td>\n",
       "      <td>0</td>\n",
       "      <td>3</td>\n",
       "      <td>Braund, Mr. Owen Harris</td>\n",
       "      <td>1</td>\n",
       "      <td>22.0</td>\n",
       "      <td>1</td>\n",
       "      <td>0</td>\n",
       "      <td>A/5 21171</td>\n",
       "      <td>7.25</td>\n",
       "      <td>7</td>\n",
       "      <td>2</td>\n",
       "    </tr>\n",
       "  </tbody>\n",
       "</table>\n",
       "</div>"
      ],
      "text/plain": [
       "   PassengerId  Survived  Pclass                     Name  Sex   Age  SibSp  \\\n",
       "0            1         0       3  Braund, Mr. Owen Harris    1  22.0      1   \n",
       "\n",
       "   Parch     Ticket  Fare  Cabin  Embarked  \n",
       "0      0  A/5 21171  7.25      7         2  "
      ]
     },
     "execution_count": 178,
     "metadata": {},
     "output_type": "execute_result"
    }
   ],
   "source": [
    "titanic_df.head(1)"
   ]
  },
  {
   "cell_type": "markdown",
   "id": "0d706c96",
   "metadata": {},
   "source": [
    "#### PassengerId, Name, Ticket 삭제"
   ]
  },
  {
   "cell_type": "code",
   "execution_count": 188,
   "id": "b9feea49",
   "metadata": {},
   "outputs": [],
   "source": [
    "# titanic_df.drop(['PassengerId', 'Name', 'Ticket'], axis=1, inplace=True)\n",
    "# 한번 더 실행해서 에러떠서 주석"
   ]
  },
  {
   "cell_type": "code",
   "execution_count": 186,
   "id": "60d5bf00",
   "metadata": {},
   "outputs": [
    {
     "data": {
      "text/html": [
       "<div>\n",
       "<style scoped>\n",
       "    .dataframe tbody tr th:only-of-type {\n",
       "        vertical-align: middle;\n",
       "    }\n",
       "\n",
       "    .dataframe tbody tr th {\n",
       "        vertical-align: top;\n",
       "    }\n",
       "\n",
       "    .dataframe thead th {\n",
       "        text-align: right;\n",
       "    }\n",
       "</style>\n",
       "<table border=\"1\" class=\"dataframe\">\n",
       "  <thead>\n",
       "    <tr style=\"text-align: right;\">\n",
       "      <th></th>\n",
       "      <th>Survived</th>\n",
       "      <th>Pclass</th>\n",
       "      <th>Sex</th>\n",
       "      <th>Age</th>\n",
       "      <th>SibSp</th>\n",
       "      <th>Parch</th>\n",
       "      <th>Fare</th>\n",
       "      <th>Cabin</th>\n",
       "      <th>Embarked</th>\n",
       "    </tr>\n",
       "  </thead>\n",
       "  <tbody>\n",
       "    <tr>\n",
       "      <th>0</th>\n",
       "      <td>0</td>\n",
       "      <td>3</td>\n",
       "      <td>1</td>\n",
       "      <td>22.0</td>\n",
       "      <td>1</td>\n",
       "      <td>0</td>\n",
       "      <td>7.2500</td>\n",
       "      <td>7</td>\n",
       "      <td>2</td>\n",
       "    </tr>\n",
       "    <tr>\n",
       "      <th>1</th>\n",
       "      <td>1</td>\n",
       "      <td>1</td>\n",
       "      <td>0</td>\n",
       "      <td>38.0</td>\n",
       "      <td>1</td>\n",
       "      <td>0</td>\n",
       "      <td>71.2833</td>\n",
       "      <td>2</td>\n",
       "      <td>0</td>\n",
       "    </tr>\n",
       "    <tr>\n",
       "      <th>2</th>\n",
       "      <td>1</td>\n",
       "      <td>3</td>\n",
       "      <td>0</td>\n",
       "      <td>26.0</td>\n",
       "      <td>0</td>\n",
       "      <td>0</td>\n",
       "      <td>7.9250</td>\n",
       "      <td>7</td>\n",
       "      <td>2</td>\n",
       "    </tr>\n",
       "  </tbody>\n",
       "</table>\n",
       "</div>"
      ],
      "text/plain": [
       "   Survived  Pclass  Sex   Age  SibSp  Parch     Fare  Cabin  Embarked\n",
       "0         0       3    1  22.0      1      0   7.2500      7         2\n",
       "1         1       1    0  38.0      1      0  71.2833      2         0\n",
       "2         1       3    0  26.0      0      0   7.9250      7         2"
      ]
     },
     "execution_count": 186,
     "metadata": {},
     "output_type": "execute_result"
    }
   ],
   "source": [
    "titanic_df.head(3)"
   ]
  },
  {
   "cell_type": "code",
   "execution_count": 192,
   "id": "108c88c2",
   "metadata": {},
   "outputs": [],
   "source": [
    "y_titanic_df = titanic_df['Survived']\n",
    "x_titanic_df = titanic_df.drop('Survived', axis=1)"
   ]
  },
  {
   "cell_type": "code",
   "execution_count": 193,
   "id": "d8b1240a",
   "metadata": {},
   "outputs": [
    {
     "data": {
      "text/html": [
       "<div>\n",
       "<style scoped>\n",
       "    .dataframe tbody tr th:only-of-type {\n",
       "        vertical-align: middle;\n",
       "    }\n",
       "\n",
       "    .dataframe tbody tr th {\n",
       "        vertical-align: top;\n",
       "    }\n",
       "\n",
       "    .dataframe thead th {\n",
       "        text-align: right;\n",
       "    }\n",
       "</style>\n",
       "<table border=\"1\" class=\"dataframe\">\n",
       "  <thead>\n",
       "    <tr style=\"text-align: right;\">\n",
       "      <th></th>\n",
       "      <th>Pclass</th>\n",
       "      <th>Sex</th>\n",
       "      <th>Age</th>\n",
       "      <th>SibSp</th>\n",
       "      <th>Parch</th>\n",
       "      <th>Fare</th>\n",
       "      <th>Cabin</th>\n",
       "      <th>Embarked</th>\n",
       "    </tr>\n",
       "  </thead>\n",
       "  <tbody>\n",
       "    <tr>\n",
       "      <th>0</th>\n",
       "      <td>3</td>\n",
       "      <td>1</td>\n",
       "      <td>22.000000</td>\n",
       "      <td>1</td>\n",
       "      <td>0</td>\n",
       "      <td>7.2500</td>\n",
       "      <td>7</td>\n",
       "      <td>2</td>\n",
       "    </tr>\n",
       "    <tr>\n",
       "      <th>1</th>\n",
       "      <td>1</td>\n",
       "      <td>0</td>\n",
       "      <td>38.000000</td>\n",
       "      <td>1</td>\n",
       "      <td>0</td>\n",
       "      <td>71.2833</td>\n",
       "      <td>2</td>\n",
       "      <td>0</td>\n",
       "    </tr>\n",
       "    <tr>\n",
       "      <th>2</th>\n",
       "      <td>3</td>\n",
       "      <td>0</td>\n",
       "      <td>26.000000</td>\n",
       "      <td>0</td>\n",
       "      <td>0</td>\n",
       "      <td>7.9250</td>\n",
       "      <td>7</td>\n",
       "      <td>2</td>\n",
       "    </tr>\n",
       "    <tr>\n",
       "      <th>3</th>\n",
       "      <td>1</td>\n",
       "      <td>0</td>\n",
       "      <td>35.000000</td>\n",
       "      <td>1</td>\n",
       "      <td>0</td>\n",
       "      <td>53.1000</td>\n",
       "      <td>2</td>\n",
       "      <td>2</td>\n",
       "    </tr>\n",
       "    <tr>\n",
       "      <th>4</th>\n",
       "      <td>3</td>\n",
       "      <td>1</td>\n",
       "      <td>35.000000</td>\n",
       "      <td>0</td>\n",
       "      <td>0</td>\n",
       "      <td>8.0500</td>\n",
       "      <td>7</td>\n",
       "      <td>2</td>\n",
       "    </tr>\n",
       "    <tr>\n",
       "      <th>...</th>\n",
       "      <td>...</td>\n",
       "      <td>...</td>\n",
       "      <td>...</td>\n",
       "      <td>...</td>\n",
       "      <td>...</td>\n",
       "      <td>...</td>\n",
       "      <td>...</td>\n",
       "      <td>...</td>\n",
       "    </tr>\n",
       "    <tr>\n",
       "      <th>886</th>\n",
       "      <td>2</td>\n",
       "      <td>1</td>\n",
       "      <td>27.000000</td>\n",
       "      <td>0</td>\n",
       "      <td>0</td>\n",
       "      <td>13.0000</td>\n",
       "      <td>7</td>\n",
       "      <td>2</td>\n",
       "    </tr>\n",
       "    <tr>\n",
       "      <th>887</th>\n",
       "      <td>1</td>\n",
       "      <td>0</td>\n",
       "      <td>19.000000</td>\n",
       "      <td>0</td>\n",
       "      <td>0</td>\n",
       "      <td>30.0000</td>\n",
       "      <td>1</td>\n",
       "      <td>2</td>\n",
       "    </tr>\n",
       "    <tr>\n",
       "      <th>888</th>\n",
       "      <td>3</td>\n",
       "      <td>0</td>\n",
       "      <td>29.699118</td>\n",
       "      <td>1</td>\n",
       "      <td>2</td>\n",
       "      <td>23.4500</td>\n",
       "      <td>7</td>\n",
       "      <td>2</td>\n",
       "    </tr>\n",
       "    <tr>\n",
       "      <th>889</th>\n",
       "      <td>1</td>\n",
       "      <td>1</td>\n",
       "      <td>26.000000</td>\n",
       "      <td>0</td>\n",
       "      <td>0</td>\n",
       "      <td>30.0000</td>\n",
       "      <td>2</td>\n",
       "      <td>0</td>\n",
       "    </tr>\n",
       "    <tr>\n",
       "      <th>890</th>\n",
       "      <td>3</td>\n",
       "      <td>1</td>\n",
       "      <td>32.000000</td>\n",
       "      <td>0</td>\n",
       "      <td>0</td>\n",
       "      <td>7.7500</td>\n",
       "      <td>7</td>\n",
       "      <td>1</td>\n",
       "    </tr>\n",
       "  </tbody>\n",
       "</table>\n",
       "<p>891 rows × 8 columns</p>\n",
       "</div>"
      ],
      "text/plain": [
       "     Pclass  Sex        Age  SibSp  Parch     Fare  Cabin  Embarked\n",
       "0         3    1  22.000000      1      0   7.2500      7         2\n",
       "1         1    0  38.000000      1      0  71.2833      2         0\n",
       "2         3    0  26.000000      0      0   7.9250      7         2\n",
       "3         1    0  35.000000      1      0  53.1000      2         2\n",
       "4         3    1  35.000000      0      0   8.0500      7         2\n",
       "..      ...  ...        ...    ...    ...      ...    ...       ...\n",
       "886       2    1  27.000000      0      0  13.0000      7         2\n",
       "887       1    0  19.000000      0      0  30.0000      1         2\n",
       "888       3    0  29.699118      1      2  23.4500      7         2\n",
       "889       1    1  26.000000      0      0  30.0000      2         0\n",
       "890       3    1  32.000000      0      0   7.7500      7         1\n",
       "\n",
       "[891 rows x 8 columns]"
      ]
     },
     "execution_count": 193,
     "metadata": {},
     "output_type": "execute_result"
    }
   ],
   "source": [
    "x_titanic_df"
   ]
  },
  {
   "cell_type": "code",
   "execution_count": 195,
   "id": "9532d4de",
   "metadata": {},
   "outputs": [],
   "source": [
    "from sklearn.model_selection import train_test_split"
   ]
  },
  {
   "cell_type": "code",
   "execution_count": 196,
   "id": "1dd0a085",
   "metadata": {},
   "outputs": [],
   "source": [
    "X_train, X_test, y_train, y_test = train_test_split(X_titanic_df, y_titanic_df, test_size=0.2, random_state=11)"
   ]
  },
  {
   "cell_type": "code",
   "execution_count": 198,
   "id": "0b7362d7",
   "metadata": {},
   "outputs": [],
   "source": [
    "from sklearn.linear_model import LogisticRegression\n",
    "from sklearn.metrics import accuracy_score"
   ]
  },
  {
   "cell_type": "code",
   "execution_count": 199,
   "id": "5862d944",
   "metadata": {
    "scrolled": true
   },
   "outputs": [
    {
     "name": "stdout",
     "output_type": "stream",
     "text": [
      "0.8491620111731844\n"
     ]
    },
    {
     "name": "stderr",
     "output_type": "stream",
     "text": [
      "D:\\anaconda\\lib\\site-packages\\sklearn\\linear_model\\_logistic.py:763: ConvergenceWarning: lbfgs failed to converge (status=1):\n",
      "STOP: TOTAL NO. of ITERATIONS REACHED LIMIT.\n",
      "\n",
      "Increase the number of iterations (max_iter) or scale the data as shown in:\n",
      "    https://scikit-learn.org/stable/modules/preprocessing.html\n",
      "Please also refer to the documentation for alternative solver options:\n",
      "    https://scikit-learn.org/stable/modules/linear_model.html#logistic-regression\n",
      "  n_iter_i = _check_optimize_result(\n"
     ]
    }
   ],
   "source": [
    "lr = LogisticRegression()\n",
    "lr.fit(X_train, y_train)\n",
    "lr_pred = lr.predict(X_test)\n",
    "print(accuracy_score(y_test, lr_pred))"
   ]
  },
  {
   "cell_type": "code",
   "execution_count": 200,
   "id": "16bd38bc",
   "metadata": {},
   "outputs": [
    {
     "data": {
      "text/plain": [
       "0    118\n",
       "1     61\n",
       "Name: Survived, dtype: int64"
      ]
     },
     "execution_count": 200,
     "metadata": {},
     "output_type": "execute_result"
    }
   ],
   "source": [
    "y_test.value_counts()"
   ]
  },
  {
   "cell_type": "code",
   "execution_count": null,
   "id": "a6a31f53",
   "metadata": {},
   "outputs": [],
   "source": [
    "/[\\w.%+-]+@[\\w.-]+\\.[a-zA-Z]{2,4}/"
   ]
  },
  {
   "cell_type": "code",
   "execution_count": null,
   "id": "6b0b6820",
   "metadata": {},
   "outputs": [],
   "source": []
  },
  {
   "cell_type": "code",
   "execution_count": null,
   "id": "c137876a",
   "metadata": {},
   "outputs": [],
   "source": []
  },
  {
   "cell_type": "code",
   "execution_count": 217,
   "id": "9241453a",
   "metadata": {},
   "outputs": [],
   "source": [
    "import requests"
   ]
  },
  {
   "cell_type": "code",
   "execution_count": 224,
   "id": "17d1fc97",
   "metadata": {},
   "outputs": [],
   "source": [
    "head = {\"User-Agent\": \"Mozilla/5.0 (Windows NT 10.0; Win64; x64) AppleWebKit/537.36 (KHTML, like Gecko) Chrome/100.0.4896.127 Safari/537.36\"}"
   ]
  },
  {
   "cell_type": "code",
   "execution_count": 225,
   "id": "84700e9b",
   "metadata": {},
   "outputs": [],
   "source": [
    "r = requests.get(\"https://news.naver.com/main/list.naver?mode=LS2D&sid2=230&sid1=105&mid=shm&date=20220425&page=1\", headers=head)"
   ]
  },
  {
   "cell_type": "code",
   "execution_count": null,
   "id": "788339fa",
   "metadata": {},
   "outputs": [],
   "source": []
  },
  {
   "cell_type": "code",
   "execution_count": 262,
   "id": "ea1e3cf1",
   "metadata": {
    "scrolled": true
   },
   "outputs": [
    {
     "data": {
      "text/plain": [
       "[<a href=\"#lnb\" tabindex=\"1\"><span>메인 메뉴로 바로가기</span></a>,\n",
       " <a href=\"#main_content\" tabindex=\"2\"><span>본문으로 바로가기</span></a>,\n",
       " <a class=\"tool_button _search_content_toggle_btn nclicks(gnb.sch)\" href=\"javascript:;\"><span class=\"icon_search\">검색</span></a>,\n",
       " <a class=\"h_logo nclicks(gnb.naver)\" href=\"https://www.naver.com/\"><span class=\"blind\">NAVER</span></a>,\n",
       " <a class=\"h_news nclicks(gnb.news)\" href=\"/\"><span class=\"blind\">뉴스</span></a>,\n",
       " <a class=\"entertain nclicks(gnb.enter)\" href=\"https://entertain.naver.com/home\">TV연예</a>,\n",
       " <a class=\"sports nclicks(gnb.sports)\" href=\"https://sports.news.naver.com\">스포츠</a>,\n",
       " <a class=\"weather nclicks(gnb.weather)\" href=\"https://weather.naver.com\">날씨</a>,\n",
       " <a class=\"premium nclicks(gnb.premium)\" href=\"https://contents.premium.naver.com\">프리미엄</a>,\n",
       " <a class=\"nclicks(lnb.pcmedia)\" href=\"/\"><span class=\"tx\">언론사별</span> </a>,\n",
       " <a class=\"nclicks(lnb.pol)\" href=\"/main/main.naver?mode=LSD&amp;mid=shm&amp;sid1=100\"><span class=\"tx\">정치</span> </a>,\n",
       " <a class=\"nclicks(lnb.eco)\" href=\"/main/main.naver?mode=LSD&amp;mid=shm&amp;sid1=101\"><span class=\"tx\">경제</span> </a>,\n",
       " <a class=\"nclicks(lnb.soc)\" href=\"/main/main.naver?mode=LSD&amp;mid=shm&amp;sid1=102\"><span class=\"tx\">사회</span> </a>,\n",
       " <a class=\"nclicks(lnb.lif)\" href=\"/main/main.naver?mode=LSD&amp;mid=shm&amp;sid1=103\"><span class=\"tx\">생활/문화</span> </a>,\n",
       " <a class=\"nclicks(lnb.sci)\" href=\"/main/main.naver?mode=LSD&amp;mid=shm&amp;sid1=105\"><span class=\"tx\">IT/과학</span> <span class=\"blind\">선택됨</span></a>,\n",
       " <a class=\"nclicks(lnb.wor)\" href=\"/main/main.naver?mode=LSD&amp;mid=shm&amp;sid1=104\"><span class=\"tx\">세계</span> </a>,\n",
       " <a class=\"nclicks(lnb.rankin)\" href=\"/main/ranking/popularDay.naver?mid=etc&amp;sid1=111\"><span class=\"tx\">랭킹</span> </a>,\n",
       " <a class=\"nclicks(lnb.paper)\" href=\"/newspaper/home\"><span class=\"tx\">신문보기</span> </a>,\n",
       " <a class=\"nclicks(lnb.opi)\" href=\"/main/opinion/home.naver\"><span class=\"tx\">오피니언</span> </a>,\n",
       " <a class=\"nclicks(lnb.tv)\" href=\"/main/tv/index.naver?mid=tvh\"><span class=\"tx\">TV</span> </a>,\n",
       " <a class=\"nclicks(lnb.fact)\" href=\"/main/factcheck/main.naver\"><span class=\"tx\">팩트체크</span> </a>,\n",
       " <a class=\"lnb_extra_menu_link nclicks(nct.right3)\" href=\"https://news.naver.com/main/officeList.naver\" title=\"전체 언론사\">전체 언론사</a>,\n",
       " <a class=\"lnb_extra_menu_link nclicks(STA.newsstand)\" href=\"https://newsstand.naver.com/\" target=\"_blank\" title=\"뉴스스탠드\">뉴스스탠드</a>,\n",
       " <a class=\"lnb_extra_menu_link nclicks(nct.right4)\" href=\"https://newslibrary.naver.com/search/searchByDate.nhn\" target=\"_blank\" title=\"라이브러리\">라이브러리</a>,\n",
       " <a class=\"nclicks(slb.allmedia)\" href=\"https://news.naver.com/main/officeList.naver\" title=\"전체 언론사\">전체 언론사</a>,\n",
       " <a class=\"nclicks(slb.newsstand)\" href=\"https://newsstand.naver.com/\" target=\"_blank\" title=\"뉴스스탠드\">뉴스스탠드</a>,\n",
       " <a class=\"nclicks(slb.library)\" href=\"https://newslibrary.naver.com/search/searchByDate.nhn\" target=\"_blank\" title=\"라이브러리\">라이브러리</a>,\n",
       " <a class=\"nclicks(lmn_sci.home)\" href=\"/main/main.naver?mode=LSD&amp;mid=shm&amp;sid1=105\">IT/과학</a>,\n",
       " <a class=\"snb_s43 nclicks(lmn_sci.mnl,,1)\" href=\"/main/list.naver?mode=LS2D&amp;mid=shm&amp;sid1=105&amp;sid2=731\">모바일 </a>,\n",
       " <a class=\"snb_s44 nclicks(lmn_sci.mnl,,2)\" href=\"/main/list.naver?mode=LS2D&amp;mid=shm&amp;sid1=105&amp;sid2=226\">인터넷/SNS </a>,\n",
       " <a class=\"snb_s45 nclicks(lmn_sci.mnl,,3)\" href=\"/main/list.naver?mode=LS2D&amp;mid=shm&amp;sid1=105&amp;sid2=227\">통신/뉴미디어 </a>,\n",
       " <a class=\"snb_s46 nclicks(lmn_sci.mnl,,4)\" href=\"/main/list.naver?mode=LS2D&amp;mid=shm&amp;sid1=105&amp;sid2=230\">IT 일반 <span class=\"blind\">선택됨</span></a>,\n",
       " <a class=\"snb_s48 nclicks(lmn_sci.mnl,,5)\" href=\"/main/list.naver?mode=LS2D&amp;mid=shm&amp;sid1=105&amp;sid2=732\">보안/해킹 </a>,\n",
       " <a class=\"snb_s47 nclicks(lmn_sci.mnl,,6)\" href=\"/main/list.naver?mode=LS2D&amp;mid=shm&amp;sid1=105&amp;sid2=283\">컴퓨터 </a>,\n",
       " <a class=\"snb_s50 nclicks(lmn_sci.mnl,,7)\" href=\"/main/list.naver?mode=LS2D&amp;mid=shm&amp;sid1=105&amp;sid2=229\">게임/리뷰 </a>,\n",
       " <a class=\"snb_s49 nclicks(lmn_sci.mnl,,8)\" href=\"/main/list.naver?mode=LS2D&amp;mid=shm&amp;sid1=105&amp;sid2=228\">과학 일반 </a>,\n",
       " <a class=\"nclicks(lmn_sci.pmb,,1)\" href=\"https://contents.premium.naver.com/\"><img alt=\"네이버 프리미엄콘텐츠\" height=\"74\" src=\"https://imgnews.pstatic.net/image/upload/item/2021/05/28/233112515_DA%2540PC%25B4%25BA%25BD%25BA%25C1%25C2%25C3%25F8.png\" width=\"71\"/></a>,\n",
       " <a class=\"nclicks(lmn_sci.pmb,,1)\" href=\"https://media.naver.com/channel/setting?back=main\"><img alt=\"언론사 구독하기\" height=\"74\" src=\"https://imgnews.pstatic.net/image/upload/item/2021/01/14/142956425_144518244_%2525B8%2525F0%2525B9%2525D9%2525C0%2525CF%2525B8%2525DE%2525C0%2525CE.png\" width=\"71\"/></a>,\n",
       " <a href=\"https://n.news.naver.com/mnews/article/421/0006051094?sid=105\">\n",
       " <img alt='포켓몬 폰, 갤럭시 캠퍼스서도 완판…11번가 \"라방용 물량만 남았다\"(종합2보)' height=\"72\" onerror=\"javascript:this.src='https://ssl.pstatic.net/static.news/image/news/2009/noimage_106x72.png';\" src=\"https://imgnews.pstatic.net/image/origin/421/2022/04/25/6051094.jpg?type=nf106_72\" width=\"106\"/>\n",
       " </a>,\n",
       " <a href=\"https://n.news.naver.com/mnews/article/421/0006051094?sid=105\">\n",
       " \t\t\t\t\t\t\t\t 포켓몬 폰, 갤럭시 캠퍼스서도 완판…11번가 \"라방용 물량만 남았다\"(종합2보)\n",
       " \t\t\t\t\t\t\t\t</a>,\n",
       " <a href=\"https://n.news.naver.com/mnews/article/014/0004825635?sid=105\">\n",
       " <img alt='\"가상자산 합리적 투자 위한 정보 제공할 것\"' height=\"72\" onerror=\"javascript:this.src='https://ssl.pstatic.net/static.news/image/news/2009/noimage_106x72.png';\" src=\"https://imgnews.pstatic.net/image/origin/014/2022/04/25/4825635.jpg?type=nf106_72\" width=\"106\"/>\n",
       " </a>,\n",
       " <a href=\"https://n.news.naver.com/mnews/article/014/0004825635?sid=105\">\n",
       " \t\t\t\t\t\t\t\t \"가상자산 합리적 투자 위한 정보 제공할 것\"\n",
       " \t\t\t\t\t\t\t\t</a>,\n",
       " <a href=\"https://n.news.naver.com/mnews/article/016/0001982483?sid=105\">\n",
       " <img alt=\"언어과학 “CBT 솔루션 ‘프리마’로 입지 다져”\" height=\"72\" onerror=\"javascript:this.src='https://ssl.pstatic.net/static.news/image/news/2009/noimage_106x72.png';\" src=\"https://imgnews.pstatic.net/image/origin/016/2022/04/25/1982483.jpg?type=nf106_72\" width=\"106\"/>\n",
       " </a>,\n",
       " <a href=\"https://n.news.naver.com/mnews/article/016/0001982483?sid=105\">\n",
       " \t\t\t\t\t\t\t\t 언어과학 “CBT 솔루션 ‘프리마’로 입지 다져”\n",
       " \t\t\t\t\t\t\t\t</a>,\n",
       " <a href=\"https://n.news.naver.com/mnews/article/005/0001521400?sid=105\">\n",
       " <img alt=\"구글도 참전… 스마트워치 시장, 애플·삼성 2강 체제 균열 오나\" height=\"72\" onerror=\"javascript:this.src='https://ssl.pstatic.net/static.news/image/news/2009/noimage_106x72.png';\" src=\"https://imgnews.pstatic.net/image/origin/005/2022/04/25/1521400.jpg?type=nf106_72\" width=\"106\"/>\n",
       " </a>,\n",
       " <a href=\"https://n.news.naver.com/mnews/article/005/0001521400?sid=105\">\n",
       " \t\t\t\t\t\t\t\t 구글도 참전… 스마트워치 시장, 애플·삼성 2강 체제 균열 오나\n",
       " \t\t\t\t\t\t\t\t</a>,\n",
       " <a href=\"https://n.news.naver.com/mnews/article/092/0002254896?sid=105\">\n",
       " <img alt=\"속절없이 하락하는 원화 가치…1250.1원 터치\" height=\"72\" onerror=\"javascript:this.src='https://ssl.pstatic.net/static.news/image/news/2009/noimage_106x72.png';\" src=\"https://imgnews.pstatic.net/image/origin/092/2022/04/25/2254896.jpg?type=nf106_72\" width=\"106\"/>\n",
       " </a>,\n",
       " <a href=\"https://n.news.naver.com/mnews/article/092/0002254896?sid=105\">\n",
       " \t\t\t\t\t\t\t\t 속절없이 하락하는 원화 가치…1250.1원 터치\n",
       " \t\t\t\t\t\t\t\t</a>,\n",
       " <a href=\"https://n.news.naver.com/mnews/article/092/0002254895?sid=105\">\n",
       " <img alt=\"경제계, 이재용·신동빈 사면복권 청원\" height=\"72\" onerror=\"javascript:this.src='https://ssl.pstatic.net/static.news/image/news/2009/noimage_106x72.png';\" src=\"https://imgnews.pstatic.net/image/origin/092/2022/04/25/2254895.jpg?type=nf106_72\" width=\"106\"/>\n",
       " </a>,\n",
       " <a href=\"https://n.news.naver.com/mnews/article/092/0002254895?sid=105\">\n",
       " \t\t\t\t\t\t\t\t 경제계, 이재용·신동빈 사면복권 청원\n",
       " \t\t\t\t\t\t\t\t</a>,\n",
       " <a href=\"https://n.news.naver.com/mnews/article/243/0000025733?sid=105\">\n",
       " <img alt=\"핀트, 마이데이터 개시…올해 AI 맞춤형 자산관리 내놓는다\" height=\"72\" onerror=\"javascript:this.src='https://ssl.pstatic.net/static.news/image/news/2009/noimage_106x72.png';\" src=\"https://imgnews.pstatic.net/image/origin/243/2022/04/25/25733.jpg?type=nf106_72\" width=\"106\"/>\n",
       " </a>,\n",
       " <a href=\"https://n.news.naver.com/mnews/article/243/0000025733?sid=105\">\n",
       " \t\t\t\t\t\t\t\t 핀트, 마이데이터 개시…올해 AI 맞춤형 자산관리 내놓는다\n",
       " \t\t\t\t\t\t\t\t</a>,\n",
       " <a href=\"https://n.news.naver.com/mnews/article/092/0002254894?sid=105\">\n",
       " <img alt=\"넥슨 프로젝트D, 온라인 쇼케이스 D-DAY 개최\" height=\"72\" onerror=\"javascript:this.src='https://ssl.pstatic.net/static.news/image/news/2009/noimage_106x72.png';\" src=\"https://imgnews.pstatic.net/image/origin/092/2022/04/25/2254894.jpg?type=nf106_72\" width=\"106\"/>\n",
       " </a>,\n",
       " <a href=\"https://n.news.naver.com/mnews/article/092/0002254894?sid=105\">\n",
       " \t\t\t\t\t\t\t\t 넥슨 프로젝트D, 온라인 쇼케이스 D-DAY 개최\n",
       " \t\t\t\t\t\t\t\t</a>,\n",
       " <a href=\"https://n.news.naver.com/mnews/article/421/0006051055?sid=105\">\n",
       " <img alt=\"서울창조경제혁신센터, 대구서 '스타트업 잇다 Way to CES' 개최\" height=\"72\" onerror=\"javascript:this.src='https://ssl.pstatic.net/static.news/image/news/2009/noimage_106x72.png';\" src=\"https://imgnews.pstatic.net/image/origin/421/2022/04/25/6051055.jpg?type=nf106_72\" width=\"106\"/>\n",
       " </a>,\n",
       " <a href=\"https://n.news.naver.com/mnews/article/421/0006051055?sid=105\">\n",
       " \t\t\t\t\t\t\t\t 서울창조경제혁신센터, 대구서 '스타트업 잇다 Way to CES' 개최\n",
       " \t\t\t\t\t\t\t\t</a>,\n",
       " <a href=\"https://n.news.naver.com/mnews/article/014/0004825617?sid=105\">\n",
       " <img alt=\"업비트-빗썸-코인원-코빗, 국내 4대 거래소간 코인 전송 '된다'...트래블룰 연동 완료\" height=\"72\" onerror=\"javascript:this.src='https://ssl.pstatic.net/static.news/image/news/2009/noimage_106x72.png';\" src=\"https://imgnews.pstatic.net/image/origin/014/2022/04/25/4825617.jpg?type=nf106_72\" width=\"106\"/>\n",
       " </a>,\n",
       " <a href=\"https://n.news.naver.com/mnews/article/014/0004825617?sid=105\">\n",
       " \t\t\t\t\t\t\t\t 업비트-빗썸-코인원-코빗, 국내 4대 거래소간 코인 전송 '된다'...트래블룰 연동 완료\n",
       " \t\t\t\t\t\t\t\t</a>,\n",
       " <a href=\"https://n.news.naver.com/mnews/article/030/0003012666?sid=105\">\n",
       " \t\t\t\t\t\t\t\t [부음]문동현(세중해운 상무)씨 부친상\n",
       " \t\t\t\t\t\t\t\t</a>,\n",
       " <a href=\"https://n.news.naver.com/mnews/article/469/0000671455?sid=105\">\n",
       " <img alt='경제5단체 \"경제 위기 해결 위해 이재용, 신동빈 사면 요청\"' height=\"72\" onerror=\"javascript:this.src='https://ssl.pstatic.net/static.news/image/news/2009/noimage_106x72.png';\" src=\"https://imgnews.pstatic.net/image/origin/469/2022/04/25/671455.jpg?type=nf106_72\" width=\"106\"/>\n",
       " </a>,\n",
       " <a href=\"https://n.news.naver.com/mnews/article/469/0000671455?sid=105\">\n",
       " \t\t\t\t\t\t\t\t 경제5단체 \"경제 위기 해결 위해 이재용, 신동빈 사면 요청\"\n",
       " \t\t\t\t\t\t\t\t</a>,\n",
       " <a href=\"https://n.news.naver.com/mnews/article/003/0011144359?sid=105\">\n",
       " <img alt=\"애플, 앱스토어서 '낡은 앱' 없앤다…&quot;한달 안에 업데이트하라&quot;\" height=\"72\" onerror=\"javascript:this.src='https://ssl.pstatic.net/static.news/image/news/2009/noimage_106x72.png';\" src=\"https://imgnews.pstatic.net/image/origin/003/2022/04/25/11144359.jpg?type=nf106_72\" width=\"106\"/>\n",
       " </a>,\n",
       " <a href=\"https://n.news.naver.com/mnews/article/003/0011144359?sid=105\">\n",
       " \t\t\t\t\t\t\t\t 애플, 앱스토어서 '낡은 앱' 없앤다…\"한달 안에 업데이트하라\"\n",
       " \t\t\t\t\t\t\t\t</a>,\n",
       " <a href=\"https://n.news.naver.com/mnews/article/015/0004690079?sid=105\">\n",
       " <img alt=\"아반떼·싼타페·투싼도 멜론·지니 탑재된다\" height=\"72\" onerror=\"javascript:this.src='https://ssl.pstatic.net/static.news/image/news/2009/noimage_106x72.png';\" src=\"https://imgnews.pstatic.net/image/origin/015/2022/04/25/4690079.jpg?type=nf106_72\" width=\"106\"/>\n",
       " </a>,\n",
       " <a href=\"https://n.news.naver.com/mnews/article/015/0004690079?sid=105\">\n",
       " \t\t\t\t\t\t\t\t 아반떼·싼타페·투싼도 멜론·지니 탑재된다\n",
       " \t\t\t\t\t\t\t\t</a>,\n",
       " <a href=\"https://n.news.naver.com/mnews/article/003/0011144358?sid=105\">\n",
       " <img alt=\"엔씨소프트, 하계 인턴사원 모집…5월 2일부터 접수\" height=\"72\" onerror=\"javascript:this.src='https://ssl.pstatic.net/static.news/image/news/2009/noimage_106x72.png';\" src=\"https://imgnews.pstatic.net/image/origin/003/2022/04/25/11144358.jpg?type=nf106_72\" width=\"106\"/>\n",
       " </a>,\n",
       " <a href=\"https://n.news.naver.com/mnews/article/003/0011144358?sid=105\">\n",
       " \t\t\t\t\t\t\t\t 엔씨소프트, 하계 인턴사원 모집…5월 2일부터 접수\n",
       " \t\t\t\t\t\t\t\t</a>,\n",
       " <a href=\"https://n.news.naver.com/mnews/article/003/0011144357?sid=105\">\n",
       " <img alt=\"CJ올리브네트웍스, AR·AI 기술로 산업현장 중대재해 막는다\" height=\"72\" onerror=\"javascript:this.src='https://ssl.pstatic.net/static.news/image/news/2009/noimage_106x72.png';\" src=\"https://imgnews.pstatic.net/image/origin/003/2022/04/25/11144357.jpg?type=nf106_72\" width=\"106\"/>\n",
       " </a>,\n",
       " <a href=\"https://n.news.naver.com/mnews/article/003/0011144357?sid=105\">\n",
       " \t\t\t\t\t\t\t\t CJ올리브네트웍스, AR·AI 기술로 산업현장 중대재해 막는다\n",
       " \t\t\t\t\t\t\t\t</a>,\n",
       " <a href=\"https://n.news.naver.com/mnews/article/138/0002123392?sid=105\">\n",
       " <img alt=\"아우디, 순수 전기구동 쿠페형 SUV  ‘e-트론 S’와 ‘e-트론 S 스포트백’ 출시\" height=\"72\" onerror=\"javascript:this.src='https://ssl.pstatic.net/static.news/image/news/2009/noimage_106x72.png';\" src=\"https://imgnews.pstatic.net/image/origin/138/2022/04/25/2123392.jpg?type=nf106_72\" width=\"106\"/>\n",
       " </a>,\n",
       " <a href=\"https://n.news.naver.com/mnews/article/138/0002123392?sid=105\">\n",
       " \t\t\t\t\t\t\t\t 아우디, 순수 전기구동 쿠페형 SUV  ‘e-트론 S’와 ‘e-트론 S 스포트백’ 출시\n",
       " \t\t\t\t\t\t\t\t</a>,\n",
       " <a href=\"https://n.news.naver.com/mnews/article/009/0004954589?sid=105\">\n",
       " <img alt=\"올림플래닛, 메타버스 분야 인재 영입\" height=\"72\" onerror=\"javascript:this.src='https://ssl.pstatic.net/static.news/image/news/2009/noimage_106x72.png';\" src=\"https://imgnews.pstatic.net/image/origin/009/2022/04/25/4954589.jpg?type=nf106_72\" width=\"106\"/>\n",
       " </a>,\n",
       " <a href=\"https://n.news.naver.com/mnews/article/009/0004954589?sid=105\">\n",
       " \t\t\t\t\t\t\t\t 올림플래닛, 메타버스 분야 인재 영입\n",
       " \t\t\t\t\t\t\t\t</a>,\n",
       " <a href=\"https://n.news.naver.com/mnews/article/293/0000038857?sid=105\">\n",
       " <img alt=\"[게임인사이드]'게임인재단'은 왜 '미래콘텐츠재단'으로 바뀔까\" height=\"72\" onerror=\"javascript:this.src='https://ssl.pstatic.net/static.news/image/news/2009/noimage_106x72.png';\" src=\"https://imgnews.pstatic.net/image/origin/293/2022/04/25/38857.jpg?type=nf106_72\" width=\"106\"/>\n",
       " </a>,\n",
       " <a href=\"https://n.news.naver.com/mnews/article/293/0000038857?sid=105\">\n",
       " \t\t\t\t\t\t\t\t [게임인사이드]'게임인재단'은 왜 '미래콘텐츠재단'으로 바뀔까\n",
       " \t\t\t\t\t\t\t\t</a>,\n",
       " <a href=\"https://n.news.naver.com/mnews/article/092/0002254891?sid=105\">\n",
       " <img alt=\"장현국 위메이드, 위믹스 토큰 추가 매수...배당금 이어 급여 사용\" height=\"72\" onerror=\"javascript:this.src='https://ssl.pstatic.net/static.news/image/news/2009/noimage_106x72.png';\" src=\"https://imgnews.pstatic.net/image/origin/092/2022/04/25/2254891.jpg?type=nf106_72\" width=\"106\"/>\n",
       " </a>,\n",
       " <a href=\"https://n.news.naver.com/mnews/article/092/0002254891?sid=105\">\n",
       " \t\t\t\t\t\t\t\t 장현국 위메이드, 위믹스 토큰 추가 매수...배당금 이어 급여 사용\n",
       " \t\t\t\t\t\t\t\t</a>,\n",
       " <a class=\"nclicks(fls.page)\" href=\"?mode=LS2D&amp;sid2=230&amp;sid1=105&amp;mid=shm&amp;date=20220425&amp;page=2\">2</a>,\n",
       " <a class=\"nclicks(fls.page)\" href=\"?mode=LS2D&amp;sid2=230&amp;sid1=105&amp;mid=shm&amp;date=20220425&amp;page=3\">3</a>,\n",
       " <a class=\"nclicks(fls.page)\" href=\"?mode=LS2D&amp;sid2=230&amp;sid1=105&amp;mid=shm&amp;date=20220425&amp;page=4\">4</a>,\n",
       " <a class=\"nclicks(fls.page)\" href=\"?mode=LS2D&amp;sid2=230&amp;sid1=105&amp;mid=shm&amp;date=20220425&amp;page=5\">5</a>,\n",
       " <a class=\"nclicks(fls.page)\" href=\"?mode=LS2D&amp;sid2=230&amp;sid1=105&amp;mid=shm&amp;date=20220425&amp;page=6\">6</a>,\n",
       " <a class=\"nclicks(fls.page)\" href=\"?mode=LS2D&amp;sid2=230&amp;sid1=105&amp;mid=shm&amp;date=20220425&amp;page=7\">7</a>,\n",
       " <a class=\"nclicks(fls.page)\" href=\"?mode=LS2D&amp;sid2=230&amp;sid1=105&amp;mid=shm&amp;date=20220425&amp;page=8\">8</a>,\n",
       " <a class=\"nclicks(fls.page)\" href=\"?mode=LS2D&amp;sid2=230&amp;sid1=105&amp;mid=shm&amp;date=20220425&amp;page=9\">9</a>,\n",
       " <a class=\"nclicks(fls.page)\" href=\"?mode=LS2D&amp;sid2=230&amp;sid1=105&amp;mid=shm&amp;date=20220425&amp;page=10\">10</a>,\n",
       " <a class=\"next nclicks(fls.page)\" href=\"?mode=LS2D&amp;sid2=230&amp;sid1=105&amp;mid=shm&amp;date=20220425&amp;page=11\">다음</a>,\n",
       " <a class=\"nclicks(fls.date)\" href=\"?mode=LS2D&amp;sid2=230&amp;sid1=105&amp;mid=shm&amp;date=20220424\">4월24일(일)</a>,\n",
       " <a class=\"nclicks(fls.date)\" href=\"?mode=LS2D&amp;sid2=230&amp;sid1=105&amp;mid=shm&amp;date=20220423\">4월23일(토)</a>,\n",
       " <a class=\"nclicks(fls.date)\" href=\"?mode=LS2D&amp;sid2=230&amp;sid1=105&amp;mid=shm&amp;date=20220422\">4월22일(금)</a>,\n",
       " <a class=\"nclicks(fls.date)\" href=\"?mode=LS2D&amp;sid2=230&amp;sid1=105&amp;mid=shm&amp;date=20220421\">4월21일(목)</a>,\n",
       " <a class=\"ranking_thumb nclicks('rig.renws2')\" href=\"https://n.news.naver.com/mnews/ranking/article/015/0004689833?ntype=RANKING&amp;sid=001\">\n",
       " <img alt=\"\" height=\"60\" onerror=\"this.src='https://ssl.pstatic.net/static.news/image/news/errorimage/noimage_88x60.png';\" src=\"https://mimgnews.pstatic.net/image/origin/015/2022/04/25/4689833.jpg?type=nf88_60\" width=\"88\"/>\n",
       " </a>,\n",
       " <a class=\"list_tit nclicks('rig.renws2')\" href=\"https://n.news.naver.com/mnews/ranking/article/015/0004689833?ntype=RANKING&amp;sid=001\">'계곡 살인' 다이빙 21초 전…이은해 제출 영상 조작 가 …</a>,\n",
       " <a class=\"list_press nclicks('rig.renws2pname')\" href=\"/main/ranking/office.naver?officeId=015\"><span class=\"list_press_thumb\"><img alt=\"\" height=\"16\" src=\"https://mimgnews.pstatic.net/image/upload/office_logo/015/2020/08/11/logo_015_56_20200811194037.png\" width=\"16\"/></span>한국경제</a>,\n",
       " <a class=\"ranking_thumb nclicks('rig.renws2')\" href=\"https://n.news.naver.com/mnews/ranking/article/437/0000296797?ntype=RANKING&amp;sid=001\">\n",
       " <img alt=\"\" height=\"60\" onerror=\"this.src='https://ssl.pstatic.net/static.news/image/news/errorimage/noimage_88x60.png';\" src=\"https://mimgnews.pstatic.net/image/origin/437/2022/04/25/296797.jpg?type=nf88_60\" width=\"88\"/>\n",
       " </a>,\n",
       " <a class=\"list_tit nclicks('rig.renws2')\" href=\"https://n.news.naver.com/mnews/ranking/article/437/0000296797?ntype=RANKING&amp;sid=001\">서울시장 가상대결 오세훈 49.7%-송영길 36.9%ㅣKS …</a>,\n",
       " <a class=\"list_press nclicks('rig.renws2pname')\" href=\"/main/ranking/office.naver?officeId=437\"><span class=\"list_press_thumb\"><img alt=\"\" height=\"16\" src=\"https://mimgnews.pstatic.net/image/upload/office_logo/437/2020/08/25/logo_437_56_20200825135552.png\" width=\"16\"/></span>JTBC</a>,\n",
       " <a class=\"list_tit nclicks('rig.renws2')\" href=\"https://n.news.naver.com/mnews/ranking/article/052/0001731073?ntype=RANKING&amp;sid=001\">\"유류세 인하 혜택, 절반 이상은 정유사·주유소가 가져갔다\"</a>,\n",
       " <a class=\"list_press nclicks('rig.renws2pname')\" href=\"/main/ranking/office.naver?officeId=052\"><span class=\"list_press_thumb\"><img alt=\"\" height=\"16\" src=\"https://mimgnews.pstatic.net/image/upload/office_logo/052/2021/10/01/logo_052_56_20211001183149.png\" width=\"16\"/></span>YTN</a>,\n",
       " <a class=\"ranking_thumb nclicks('rig.renws2')\" href=\"https://n.news.naver.com/mnews/ranking/article/057/0001658586?ntype=RANKING&amp;sid=001\">\n",
       " <img alt=\"\" height=\"60\" onerror=\"this.src='https://ssl.pstatic.net/static.news/image/news/errorimage/noimage_88x60.png';\" src=\"https://mimgnews.pstatic.net/image/origin/057/2022/04/25/1658586.jpg?type=nf88_60\" width=\"88\"/>\n",
       " </a>,\n",
       " <a class=\"list_tit nclicks('rig.renws2')\" href=\"https://n.news.naver.com/mnews/ranking/article/057/0001658586?ntype=RANKING&amp;sid=001\">방탄소년단 지민, 건보료 체납에 59억 아파트 압류…\"소속 …</a>,\n",
       " <a class=\"list_press nclicks('rig.renws2pname')\" href=\"/main/ranking/office.naver?officeId=057\"><span class=\"list_press_thumb\"><img alt=\"\" height=\"16\" src=\"https://mimgnews.pstatic.net/image/upload/office_logo/057/2019/11/25/logo_057_56_20191125103925.png\" width=\"16\"/></span>MBN</a>,\n",
       " <a class=\"ranking_thumb nclicks('rig.renws2')\" href=\"https://n.news.naver.com/mnews/ranking/article/055/0000969015?ntype=RANKING&amp;sid=001\">\n",
       " <img alt=\"\" height=\"60\" onerror=\"this.src='https://ssl.pstatic.net/static.news/image/news/errorimage/noimage_88x60.png';\" src=\"https://mimgnews.pstatic.net/image/origin/055/2022/04/25/969015.jpg?type=nf88_60\" width=\"88\"/>\n",
       " </a>,\n",
       " <a class=\"list_tit nclicks('rig.renws2')\" href=\"https://n.news.naver.com/mnews/ranking/article/055/0000969015?ntype=RANKING&amp;sid=001\">치매 노모 '억대 연금' 뺏은 딸과 손녀들…'그 엄마에 그 …</a>,\n",
       " <a class=\"list_press nclicks('rig.renws2pname')\" href=\"/main/ranking/office.naver?officeId=055\"><span class=\"list_press_thumb\"><img alt=\"\" height=\"16\" src=\"https://mimgnews.pstatic.net/image/upload/office_logo/055/2020/10/07/logo_055_56_20201007141807.jpg\" width=\"16\"/></span>SBS</a>,\n",
       " <a class=\"ranking_thumb nclicks('rig.renws2')\" href=\"https://n.news.naver.com/mnews/ranking/article/025/0003190027?ntype=RANKING&amp;sid=001\">\n",
       " <img alt=\"\" height=\"60\" onerror=\"this.src='https://ssl.pstatic.net/static.news/image/news/errorimage/noimage_88x60.png';\" src=\"https://mimgnews.pstatic.net/image/origin/025/2022/04/25/3190027.jpg?type=nf88_60\" width=\"88\"/>\n",
       " </a>,\n",
       " <a class=\"list_tit nclicks('rig.renws2')\" href=\"https://n.news.naver.com/mnews/ranking/article/025/0003190027?ntype=RANKING&amp;sid=001\">이게 7000원짜리 학식?…\"적자면 때려치워라\" 서울대생  …</a>,\n",
       " <a class=\"list_press nclicks('rig.renws2pname')\" href=\"/main/ranking/office.naver?officeId=025\"><span class=\"list_press_thumb\"><img alt=\"\" height=\"16\" src=\"https://mimgnews.pstatic.net/image/upload/office_logo/025/2021/08/20/logo_025_56_20210820165911.png\" width=\"16\"/></span>중앙일보</a>,\n",
       " <a class=\"ranking_thumb nclicks('rig.renws2')\" href=\"https://n.news.naver.com/mnews/ranking/article/016/0001981968?ntype=RANKING&amp;sid=001\">\n",
       " <img alt=\"\" height=\"60\" onerror=\"this.src='https://ssl.pstatic.net/static.news/image/news/errorimage/noimage_88x60.png';\" src=\"https://mimgnews.pstatic.net/image/origin/016/2022/04/24/1981968.jpg?type=nf88_60\" width=\"88\"/>\n",
       " </a>,\n",
       " <a class=\"list_tit nclicks('rig.renws2')\" href=\"https://n.news.naver.com/mnews/ranking/article/016/0001981968?ntype=RANKING&amp;sid=001\">“승무원들 큰일났네” 세계 1위 항공사도 이 여성이 접수</a>,\n",
       " <a class=\"list_press nclicks('rig.renws2pname')\" href=\"/main/ranking/office.naver?officeId=016\"><span class=\"list_press_thumb\"><img alt=\"\" height=\"16\" src=\"https://mimgnews.pstatic.net/image/upload/office_logo/016/2020/11/03/logo_016_56_20201103113832.jpg\" width=\"16\"/></span>헤럴드경제</a>,\n",
       " <a class=\"ranking_thumb nclicks('rig.renws2')\" href=\"https://n.news.naver.com/mnews/ranking/article/001/0013135850?ntype=RANKING&amp;sid=001\">\n",
       " <img alt=\"\" height=\"60\" onerror=\"this.src='https://ssl.pstatic.net/static.news/image/news/errorimage/noimage_88x60.png';\" src=\"https://mimgnews.pstatic.net/image/origin/001/2022/04/25/13135850.jpg?type=nf88_60\" width=\"88\"/>\n",
       " </a>,\n",
       " <a class=\"list_tit nclicks('rig.renws2')\" href=\"https://n.news.naver.com/mnews/ranking/article/001/0013135850?ntype=RANKING&amp;sid=001\">권은희 제명요구 불발…\"안철수 정치적 타격 크다는 이유\"  …</a>,\n",
       " <a class=\"list_press nclicks('rig.renws2pname')\" href=\"/main/ranking/office.naver?officeId=001\"><span class=\"list_press_thumb\"><img alt=\"\" height=\"16\" src=\"https://mimgnews.pstatic.net/image/upload/office_logo/001/2020/08/11/logo_001_56_20200811154916.png\" width=\"16\"/></span>연합뉴스</a>,\n",
       " <a class=\"ranking_thumb nclicks('rig.renws2')\" href=\"https://n.news.naver.com/mnews/ranking/article/277/0005079178?ntype=RANKING&amp;sid=001\">\n",
       " <img alt=\"\" height=\"60\" onerror=\"this.src='https://ssl.pstatic.net/static.news/image/news/errorimage/noimage_88x60.png';\" src=\"https://mimgnews.pstatic.net/image/origin/277/2022/04/25/5079178.jpg?type=nf88_60\" width=\"88\"/>\n",
       " </a>,\n",
       " <a class=\"list_tit nclicks('rig.renws2')\" href=\"https://n.news.naver.com/mnews/ranking/article/277/0005079178?ntype=RANKING&amp;sid=001\">'병사 200만원 월급'과 '軍생활관 보수' 맞바꿀 판…국 …</a>,\n",
       " <a class=\"list_press nclicks('rig.renws2pname')\" href=\"/main/ranking/office.naver?officeId=277\"><span class=\"list_press_thumb\"><img alt=\"\" height=\"16\" src=\"https://mimgnews.pstatic.net/image/upload/office_logo/277/2018/07/18/logo_277_56_20180718153218.png\" width=\"16\"/></span>아시아경제</a>,\n",
       " <a class=\"ranking_thumb nclicks('rig.renws2')\" href=\"https://n.news.naver.com/mnews/ranking/article/005/0001521360?ntype=RANKING&amp;sid=001\">\n",
       " <img alt=\"\" height=\"60\" onerror=\"this.src='https://ssl.pstatic.net/static.news/image/news/errorimage/noimage_88x60.png';\" src=\"https://mimgnews.pstatic.net/image/origin/005/2022/04/25/1521360.jpg?type=nf88_60\" width=\"88\"/>\n",
       " </a>,\n",
       " <a class=\"list_tit nclicks('rig.renws2')\" href=\"https://n.news.naver.com/mnews/ranking/article/005/0001521360?ntype=RANKING&amp;sid=001\">BTS 지민 ‘건보료 체납’ 59억 아파트 압류… 회사 착 …</a>,\n",
       " <a class=\"list_press nclicks('rig.renws2pname')\" href=\"/main/ranking/office.naver?officeId=005\"><span class=\"list_press_thumb\"><img alt=\"\" height=\"16\" src=\"https://mimgnews.pstatic.net/image/upload/office_logo/005/2018/07/18/logo_005_56_20180718152218.png\" width=\"16\"/></span>국민일보</a>,\n",
       " <a class=\"ranking_thumb nclicks('rig.renws2')\" href=\"https://n.news.naver.com/mnews/ranking/article/050/0000060542?ntype=RANKING&amp;sid=001\">\n",
       " <img alt=\"\" height=\"60\" onerror=\"this.src='https://ssl.pstatic.net/static.news/image/news/errorimage/noimage_88x60.png';\" src=\"https://mimgnews.pstatic.net/image/origin/050/2022/04/25/60542.jpg?type=nf88_60\" width=\"88\"/>\n",
       " </a>,\n",
       " <a class=\"list_tit nclicks('rig.renws2')\" href=\"https://n.news.naver.com/mnews/ranking/article/050/0000060542?ntype=RANKING&amp;sid=001\">MZ세대의 탈모 전쟁, 부모마저 원망하는 ‘민두노총’의 설 …</a>,\n",
       " <a class=\"list_press nclicks('rig.renws2pname')\" href=\"/main/ranking/office.naver?officeId=050\"><span class=\"list_press_thumb\"><img alt=\"\" height=\"16\" src=\"https://mimgnews.pstatic.net/image/upload/office_logo/050/2021/07/15/logo_050_56_20210715110055.jpg\" width=\"16\"/></span>한경비즈니스</a>,\n",
       " <a class=\"ranking_thumb nclicks('rig.renws2')\" href=\"https://n.news.naver.com/mnews/ranking/article/056/0011254393?ntype=RANKING&amp;sid=001\">\n",
       " <img alt=\"\" height=\"60\" onerror=\"this.src='https://ssl.pstatic.net/static.news/image/news/errorimage/noimage_88x60.png';\" src=\"https://mimgnews.pstatic.net/image/origin/056/2022/04/25/11254393.jpg?type=nf88_60\" width=\"88\"/>\n",
       " </a>,\n",
       " <a class=\"list_tit nclicks('rig.renws2')\" href=\"https://n.news.naver.com/mnews/ranking/article/056/0011254393?ntype=RANKING&amp;sid=001\">“010 번호에 속지마세요”…070도 숨기는 보이스피싱</a>,\n",
       " <a class=\"list_press nclicks('rig.renws2pname')\" href=\"/main/ranking/office.naver?officeId=056\"><span class=\"list_press_thumb\"><img alt=\"\" height=\"16\" src=\"https://mimgnews.pstatic.net/image/upload/office_logo/056/2021/10/28/logo_056_56_20211028103053.png\" width=\"16\"/></span>KBS</a>,\n",
       " <a class=\"ranking_thumb nclicks('rig.renws2')\" href=\"https://n.news.naver.com/mnews/ranking/article/421/0006050277?ntype=RANKING&amp;sid=001\">\n",
       " <img alt=\"\" height=\"60\" onerror=\"this.src='https://ssl.pstatic.net/static.news/image/news/errorimage/noimage_88x60.png';\" src=\"https://mimgnews.pstatic.net/image/origin/421/2022/04/25/6050277.jpg?type=nf88_60\" width=\"88\"/>\n",
       " </a>,\n",
       " <a class=\"list_tit nclicks('rig.renws2')\" href=\"https://n.news.naver.com/mnews/ranking/article/421/0006050277?ntype=RANKING&amp;sid=001\">이은해 친구들 \"착했던 남편 '사람이냐' 분노의 문자 보냈 …</a>,\n",
       " <a class=\"list_press nclicks('rig.renws2pname')\" href=\"/main/ranking/office.naver?officeId=421\"><span class=\"list_press_thumb\"><img alt=\"\" height=\"16\" src=\"https://mimgnews.pstatic.net/image/upload/office_logo/421/2021/02/09/logo_421_56_20210209173713.jpg\" width=\"16\"/></span>뉴스1</a>,\n",
       " <a class=\"ranking_thumb nclicks('rig.renws2')\" href=\"https://n.news.naver.com/mnews/ranking/article/028/0002588105?ntype=RANKING&amp;sid=001\">\n",
       " <img alt=\"\" height=\"60\" onerror=\"this.src='https://ssl.pstatic.net/static.news/image/news/errorimage/noimage_88x60.png';\" src=\"https://mimgnews.pstatic.net/image/origin/028/2022/04/25/2588105.jpg?type=nf88_60\" width=\"88\"/>\n",
       " </a>,\n",
       " <a class=\"list_tit nclicks('rig.renws2')\" href=\"https://n.news.naver.com/mnews/ranking/article/028/0002588105?ntype=RANKING&amp;sid=001\">‘33억 역대 최고’ 윤석열 당선자 취임식…만찬장은 ‘신라 …</a>,\n",
       " <a class=\"list_press nclicks('rig.renws2pname')\" href=\"/main/ranking/office.naver?officeId=028\"><span class=\"list_press_thumb\"><img alt=\"\" height=\"16\" src=\"https://mimgnews.pstatic.net/image/upload/office_logo/028/2018/08/01/logo_028_56_20180801163801.png\" width=\"16\"/></span>한겨레</a>,\n",
       " <a class=\"ranking_thumb nclicks('rig.renws2')\" href=\"https://n.news.naver.com/mnews/ranking/article/374/0000283463?ntype=RANKING&amp;sid=001\">\n",
       " <img alt=\"\" height=\"60\" onerror=\"this.src='https://ssl.pstatic.net/static.news/image/news/errorimage/noimage_88x60.png';\" src=\"https://mimgnews.pstatic.net/image/origin/374/2022/04/25/283463.jpg?type=nf88_60\" width=\"88\"/>\n",
       " </a>,\n",
       " <a class=\"list_tit nclicks('rig.renws2')\" href=\"https://n.news.naver.com/mnews/ranking/article/374/0000283463?ntype=RANKING&amp;sid=001\">현대차, 1분기 영업이익 1조9289억… 전년대비 16.4 …</a>,\n",
       " <a class=\"list_press nclicks('rig.renws2pname')\" href=\"/main/ranking/office.naver?officeId=374\"><span class=\"list_press_thumb\"><img alt=\"\" height=\"16\" src=\"https://mimgnews.pstatic.net/image/upload/office_logo/374/2020/12/29/logo_374_56_20201229152554.jpg\" width=\"16\"/></span>SBS Biz</a>,\n",
       " <a class=\"ranking_thumb nclicks('rig.renws2')\" href=\"https://n.news.naver.com/mnews/ranking/article/422/0000539094?ntype=RANKING&amp;sid=001\">\n",
       " <img alt=\"\" height=\"60\" onerror=\"this.src='https://ssl.pstatic.net/static.news/image/news/errorimage/noimage_88x60.png';\" src=\"https://mimgnews.pstatic.net/image/origin/422/2022/04/25/539094.jpg?type=nf88_60\" width=\"88\"/>\n",
       " <strong class=\"r_ico r_vod_small\">동영상기사</strong>\n",
       " </a>,\n",
       " <a class=\"list_tit nclicks('rig.renws2')\" href=\"https://n.news.naver.com/mnews/ranking/article/422/0000539094?ntype=RANKING&amp;sid=001\">서울 광진구 도로에서 승용차 역주행…4명 부상</a>,\n",
       " <a class=\"list_press nclicks('rig.renws2pname')\" href=\"/main/ranking/office.naver?officeId=422\"><span class=\"list_press_thumb\"><img alt=\"\" height=\"16\" src=\"https://mimgnews.pstatic.net/image/upload/office_logo/422/2019/11/29/logo_422_56_20191129165529.jpg\" width=\"16\"/></span>연합뉴스TV</a>,\n",
       " <a class=\"ranking_thumb nclicks('rig.renws2')\" href=\"https://n.news.naver.com/mnews/ranking/article/020/0003424583?ntype=RANKING&amp;sid=001\">\n",
       " <img alt=\"\" height=\"60\" onerror=\"this.src='https://ssl.pstatic.net/static.news/image/news/errorimage/noimage_88x60.png';\" src=\"https://mimgnews.pstatic.net/image/origin/020/2022/04/25/3424583.jpg?type=nf88_60\" width=\"88\"/>\n",
       " </a>,\n",
       " <a class=\"list_tit nclicks('rig.renws2')\" href=\"https://n.news.naver.com/mnews/ranking/article/020/0003424583?ntype=RANKING&amp;sid=001\">도어록에 밀가루 칠한 뒤 ‘삑삑’…30대男 정체 알고보니</a>,\n",
       " <a class=\"list_press nclicks('rig.renws2pname')\" href=\"/main/ranking/office.naver?officeId=020\"><span class=\"list_press_thumb\"><img alt=\"\" height=\"16\" src=\"https://mimgnews.pstatic.net/image/upload/office_logo/020/2020/09/17/logo_020_56_20200917112548.jpg\" width=\"16\"/></span>동아일보</a>,\n",
       " <a class=\"ranking_thumb nclicks('rig.renws2')\" href=\"https://n.news.naver.com/mnews/ranking/article/469/0000671399?ntype=RANKING&amp;sid=001\">\n",
       " <img alt=\"\" height=\"60\" onerror=\"this.src='https://ssl.pstatic.net/static.news/image/news/errorimage/noimage_88x60.png';\" src=\"https://mimgnews.pstatic.net/image/origin/469/2022/04/25/671399.jpg?type=nf88_60\" width=\"88\"/>\n",
       " </a>,\n",
       " <a class=\"list_tit nclicks('rig.renws2')\" href=\"https://n.news.naver.com/mnews/ranking/article/469/0000671399?ntype=RANKING&amp;sid=001\">한덕수 청문회 30분 만에 중단... 민주·정의당 \"자료  …</a>,\n",
       " <a class=\"list_press nclicks('rig.renws2pname')\" href=\"/main/ranking/office.naver?officeId=469\"><span class=\"list_press_thumb\"><img alt=\"\" height=\"16\" src=\"https://mimgnews.pstatic.net/image/upload/office_logo/469/2018/07/20/logo_469_56_20180720194420.png\" width=\"16\"/></span>한국일보</a>,\n",
       " <a class=\"ranking_thumb nclicks('rig.renws2')\" href=\"https://n.news.naver.com/mnews/ranking/article/009/0004954429?ntype=RANKING&amp;sid=001\">\n",
       " <img alt=\"\" height=\"60\" onerror=\"this.src='https://ssl.pstatic.net/static.news/image/news/errorimage/noimage_88x60.png';\" src=\"https://mimgnews.pstatic.net/image/origin/009/2022/04/25/4954429.jpg?type=nf88_60\" width=\"88\"/>\n",
       " </a>,\n",
       " <a class=\"list_tit nclicks('rig.renws2')\" href=\"https://n.news.naver.com/mnews/ranking/article/009/0004954429?ntype=RANKING&amp;sid=001\">\"여대생 1000명 모집, 성매매 알선\" 20대女 체포…베 …</a>,\n",
       " <a class=\"list_press nclicks('rig.renws2pname')\" href=\"/main/ranking/office.naver?officeId=009\"><span class=\"list_press_thumb\"><img alt=\"\" height=\"16\" src=\"https://mimgnews.pstatic.net/image/upload/office_logo/009/2018/07/20/logo_009_56_20180720194820.png\" width=\"16\"/></span>매일경제</a>,\n",
       " <a class=\"ranking_thumb nclicks('rig.renws2')\" href=\"https://n.news.naver.com/mnews/ranking/article/092/0002254869?ntype=RANKING&amp;sid=001\">\n",
       " <img alt=\"\" height=\"60\" onerror=\"this.src='https://ssl.pstatic.net/static.news/image/news/errorimage/noimage_88x60.png';\" src=\"https://mimgnews.pstatic.net/image/origin/092/2022/04/25/2254869.jpg?type=nf88_60\" width=\"88\"/>\n",
       " </a>,\n",
       " <a class=\"list_tit nclicks('rig.renws2')\" href=\"https://n.news.naver.com/mnews/ranking/article/092/0002254869?ntype=RANKING&amp;sid=001\">PC 전원 꺼져도 모든 정보 복원 가능해진다</a>,\n",
       " <a class=\"list_press nclicks('rig.renws2pname')\" href=\"/main/ranking/office.naver?officeId=092\"><span class=\"list_press_thumb\"><img alt=\"\" height=\"16\" src=\"https://mimgnews.pstatic.net/image/upload/office_logo/092/2018/07/18/logo_092_56_20180718153018.png\" width=\"16\"/></span>ZDNet Korea</a>,\n",
       " <a class=\"ranking_thumb nclicks('rig.renws2')\" href=\"https://n.news.naver.com/mnews/ranking/article/214/0001192514?ntype=RANKING&amp;sid=001\">\n",
       " <img alt=\"\" height=\"60\" onerror=\"this.src='https://ssl.pstatic.net/static.news/image/news/errorimage/noimage_88x60.png';\" src=\"https://mimgnews.pstatic.net/image/origin/214/2022/04/25/1192514.jpg?type=nf88_60\" width=\"88\"/>\n",
       " </a>,\n",
       " <a class=\"list_tit nclicks('rig.renws2')\" href=\"https://n.news.naver.com/mnews/ranking/article/214/0001192514?ntype=RANKING&amp;sid=001\">[World Now] \"히틀러 옆에 일왕이?\" 日 반발에  …</a>,\n",
       " <a class=\"list_press nclicks('rig.renws2pname')\" href=\"/main/ranking/office.naver?officeId=214\"><span class=\"list_press_thumb\"><img alt=\"\" height=\"16\" src=\"https://mimgnews.pstatic.net/image/upload/office_logo/214/2020/06/30/logo_214_56_20200630111130.png\" width=\"16\"/></span>MBC</a>,\n",
       " <a class=\"ranking_thumb nclicks('rig.renws2')\" href=\"https://n.news.naver.com/mnews/ranking/article/607/0000001059?ntype=RANKING&amp;sid=001\">\n",
       " <img alt=\"\" height=\"60\" onerror=\"this.src='https://ssl.pstatic.net/static.news/image/news/errorimage/noimage_88x60.png';\" src=\"https://mimgnews.pstatic.net/image/origin/607/2022/04/22/1059.jpg?type=nf88_60\" width=\"88\"/>\n",
       " </a>,\n",
       " <a class=\"list_tit nclicks('rig.renws2')\" href=\"https://n.news.naver.com/mnews/ranking/article/607/0000001059?ntype=RANKING&amp;sid=001\">검사 임은정 “검찰 수사가 이 지경일 줄은 몰랐다”</a>,\n",
       " <a class=\"list_press nclicks('rig.renws2pname')\" href=\"/main/ranking/office.naver?officeId=607\"><span class=\"list_press_thumb\"><img alt=\"\" height=\"16\" src=\"https://mimgnews.pstatic.net/image/upload/office_logo/607/2018/10/02/logo_607_56_20181002184602.png\" width=\"16\"/></span>뉴스타파</a>,\n",
       " <a class=\"ranking_thumb nclicks('rig.renws2')\" href=\"https://n.news.naver.com/mnews/ranking/article/023/0003687362?ntype=RANKING&amp;sid=001\">\n",
       " <img alt=\"\" height=\"60\" onerror=\"this.src='https://ssl.pstatic.net/static.news/image/news/errorimage/noimage_88x60.png';\" src=\"https://mimgnews.pstatic.net/image/origin/023/2022/04/25/3687362.jpg?type=nf88_60\" width=\"88\"/>\n",
       " </a>,\n",
       " <a class=\"list_tit nclicks('rig.renws2')\" href=\"https://n.news.naver.com/mnews/ranking/article/023/0003687362?ntype=RANKING&amp;sid=001\">“가격 괜찮네” 조인성·김준수 사는 시그니엘레지던스, 5년 …</a>,\n",
       " <a class=\"list_press nclicks('rig.renws2pname')\" href=\"/main/ranking/office.naver?officeId=023\"><span class=\"list_press_thumb\"><img alt=\"\" height=\"16\" src=\"https://mimgnews.pstatic.net/image/upload/office_logo/023/2020/04/29/logo_023_56_20200429140429.png\" width=\"16\"/></span>조선일보</a>,\n",
       " <a class=\"ranking_thumb nclicks('rig.renws2')\" href=\"https://n.news.naver.com/mnews/ranking/article/008/0004737158?ntype=RANKING&amp;sid=001\">\n",
       " <img alt=\"\" height=\"60\" onerror=\"this.src='https://ssl.pstatic.net/static.news/image/news/errorimage/noimage_88x60.png';\" src=\"https://mimgnews.pstatic.net/image/origin/008/2022/04/25/4737158.jpg?type=nf88_60\" width=\"88\"/>\n",
       " </a>,\n",
       " <a class=\"list_tit nclicks('rig.renws2')\" href=\"https://n.news.naver.com/mnews/ranking/article/008/0004737158?ntype=RANKING&amp;sid=001\">푸틴 이번엔 입술 깨물며 안절부절... 진짜 파킨슨병?[영 …</a>,\n",
       " <a class=\"list_press nclicks('rig.renws2pname')\" href=\"/main/ranking/office.naver?officeId=008\"><span class=\"list_press_thumb\"><img alt=\"\" height=\"16\" src=\"https://mimgnews.pstatic.net/image/upload/office_logo/008/2018/09/13/logo_008_56_20180913140213.png\" width=\"16\"/></span>머니투데이</a>,\n",
       " <a class=\"ranking_thumb nclicks('rig.renws2')\" href=\"https://n.news.naver.com/mnews/ranking/article/018/0005199289?ntype=RANKING&amp;sid=001\">\n",
       " <img alt=\"\" height=\"60\" onerror=\"this.src='https://ssl.pstatic.net/static.news/image/news/errorimage/noimage_88x60.png';\" src=\"https://mimgnews.pstatic.net/image/origin/018/2022/04/25/5199289.jpg?type=nf88_60\" width=\"88\"/>\n",
       " </a>,\n",
       " <a class=\"list_tit nclicks('rig.renws2')\" href=\"https://n.news.naver.com/mnews/ranking/article/018/0005199289?ntype=RANKING&amp;sid=001\">김건희 관저 쇼핑 與 비난에… 김정화 “김정숙은 사저 놀이 …</a>,\n",
       " <a class=\"list_press nclicks('rig.renws2pname')\" href=\"/main/ranking/office.naver?officeId=018\"><span class=\"list_press_thumb\"><img alt=\"\" height=\"16\" src=\"https://mimgnews.pstatic.net/image/upload/office_logo/018/2018/07/18/logo_018_56_20180718152418.png\" width=\"16\"/></span>이데일리</a>,\n",
       " <a class=\"ranking_thumb nclicks('rig.renws2')\" href=\"https://n.news.naver.com/mnews/ranking/article/014/0004825432?ntype=RANKING&amp;sid=001\">\n",
       " <img alt=\"\" height=\"60\" onerror=\"this.src='https://ssl.pstatic.net/static.news/image/news/errorimage/noimage_88x60.png';\" src=\"https://mimgnews.pstatic.net/image/origin/014/2022/04/25/4825432.jpg?type=nf88_60\" width=\"88\"/>\n",
       " </a>,\n",
       " <a class=\"list_tit nclicks('rig.renws2')\" href=\"https://n.news.naver.com/mnews/ranking/article/014/0004825432?ntype=RANKING&amp;sid=001\">'삑삑삑' 밀가루 묻혀 20분간 도어록 해제 시도한 30대 …</a>,\n",
       " <a class=\"list_press nclicks('rig.renws2pname')\" href=\"/main/ranking/office.naver?officeId=014\"><span class=\"list_press_thumb\"><img alt=\"\" height=\"16\" src=\"https://mimgnews.pstatic.net/image/upload/office_logo/014/2020/12/23/logo_014_56_20201223183322.png\" width=\"16\"/></span>파이낸셜뉴스</a>,\n",
       " <a class=\"ranking_thumb nclicks('rig.renws2')\" href=\"https://n.news.naver.com/mnews/ranking/article/262/0000015496?ntype=RANKING&amp;sid=001\">\n",
       " <img alt=\"\" height=\"60\" onerror=\"this.src='https://ssl.pstatic.net/static.news/image/news/errorimage/noimage_88x60.png';\" src=\"https://mimgnews.pstatic.net/image/origin/262/2022/04/25/15496.jpg?type=nf88_60\" width=\"88\"/>\n",
       " </a>,\n",
       " <a class=\"list_tit nclicks('rig.renws2')\" href=\"https://n.news.naver.com/mnews/ranking/article/262/0000015496?ntype=RANKING&amp;sid=001\">전쟁범죄 증거 명확하지만 푸틴 기소 어렵다</a>,\n",
       " <a class=\"list_press nclicks('rig.renws2pname')\" href=\"/main/ranking/office.naver?officeId=262\"><span class=\"list_press_thumb\"><img alt=\"\" height=\"16\" src=\"https://mimgnews.pstatic.net/image/upload/office_logo/262/2018/09/20/logo_262_56_20180920153820.png\" width=\"16\"/></span>신동아</a>,\n",
       " <a class=\"ranking_thumb nclicks('rig.renws2')\" href=\"https://n.news.naver.com/mnews/ranking/article/021/0002511116?ntype=RANKING&amp;sid=001\">\n",
       " <img alt=\"\" height=\"60\" onerror=\"this.src='https://ssl.pstatic.net/static.news/image/news/errorimage/noimage_88x60.png';\" src=\"https://mimgnews.pstatic.net/image/origin/021/2022/04/25/2511116.jpg?type=nf88_60\" width=\"88\"/>\n",
       " </a>,\n",
       " <a class=\"list_tit nclicks('rig.renws2')\" href=\"https://n.news.naver.com/mnews/ranking/article/021/0002511116?ntype=RANKING&amp;sid=001\">서울교육감 여론조사, 보수 분열에 조희연 선두</a>,\n",
       " <a class=\"list_press nclicks('rig.renws2pname')\" href=\"/main/ranking/office.naver?officeId=021\"><span class=\"list_press_thumb\"><img alt=\"\" height=\"16\" src=\"https://mimgnews.pstatic.net/image/upload/office_logo/021/2018/07/20/logo_021_56_20180720194620.png\" width=\"16\"/></span>문화일보</a>,\n",
       " <a class=\"ranking_thumb nclicks('rig.renws2')\" href=\"https://n.news.naver.com/mnews/ranking/article/079/0003635852?ntype=RANKING&amp;sid=001\">\n",
       " <img alt=\"\" height=\"60\" onerror=\"this.src='https://ssl.pstatic.net/static.news/image/news/errorimage/noimage_88x60.png';\" src=\"https://mimgnews.pstatic.net/image/origin/079/2022/04/25/3635852.jpg?type=nf88_60\" width=\"88\"/>\n",
       " </a>,\n",
       " <a class=\"list_tit nclicks('rig.renws2')\" href=\"https://n.news.naver.com/mnews/ranking/article/079/0003635852?ntype=RANKING&amp;sid=001\">유동규 \"단 1초도 살고 싶지 않다\"…재판부 타박한 변호인</a>,\n",
       " <a class=\"list_press nclicks('rig.renws2pname')\" href=\"/main/ranking/office.naver?officeId=079\"><span class=\"list_press_thumb\"><img alt=\"\" height=\"16\" src=\"https://mimgnews.pstatic.net/image/upload/office_logo/079/2018/07/18/logo_079_56_20180718152918.png\" width=\"16\"/></span>노컷뉴스</a>,\n",
       " <a class=\"ranking_thumb nclicks('rig.renws2')\" href=\"https://n.news.naver.com/mnews/ranking/article/022/0003689511?ntype=RANKING&amp;sid=001\">\n",
       " <img alt=\"\" height=\"60\" onerror=\"this.src='https://ssl.pstatic.net/static.news/image/news/errorimage/noimage_88x60.png';\" src=\"https://mimgnews.pstatic.net/image/origin/022/2022/04/25/3689511.jpg?type=nf88_60\" width=\"88\"/>\n",
       " </a>,\n",
       " <a class=\"list_tit nclicks('rig.renws2')\" href=\"https://n.news.naver.com/mnews/ranking/article/022/0003689511?ntype=RANKING&amp;sid=001\">황희두 “조국은 탈탈 털고, 한동훈 앞에선 겸손”</a>,\n",
       " <a class=\"list_press nclicks('rig.renws2pname')\" href=\"/main/ranking/office.naver?officeId=022\"><span class=\"list_press_thumb\"><img alt=\"\" height=\"16\" src=\"https://mimgnews.pstatic.net/image/upload/office_logo/022/2018/07/18/logo_022_56_20180718152618.png\" width=\"16\"/></span>세계일보</a>,\n",
       " <a class=\"ranking_thumb nclicks('rig.renws2')\" href=\"https://n.news.naver.com/mnews/ranking/article/032/0003142704?ntype=RANKING&amp;sid=001\">\n",
       " <img alt=\"\" height=\"60\" onerror=\"this.src='https://ssl.pstatic.net/static.news/image/news/errorimage/noimage_88x60.png';\" src=\"https://mimgnews.pstatic.net/image/origin/032/2022/04/25/3142704.jpg?type=nf88_60\" width=\"88\"/>\n",
       " </a>,\n",
       " <a class=\"list_tit nclicks('rig.renws2')\" href=\"https://n.news.naver.com/mnews/ranking/article/032/0003142704?ntype=RANKING&amp;sid=001\">박병석, 국민의힘의 여야 합의안 재논의 요구에 “더 이상  …</a>,\n",
       " <a class=\"list_press nclicks('rig.renws2pname')\" href=\"/main/ranking/office.naver?officeId=032\"><span class=\"list_press_thumb\"><img alt=\"\" height=\"16\" src=\"https://mimgnews.pstatic.net/image/upload/office_logo/032/2018/10/11/logo_032_56_20181011174011.png\" width=\"16\"/></span>경향신문</a>,\n",
       " <a class=\"ranking_thumb nclicks('rig.renws2')\" href=\"https://n.news.naver.com/mnews/ranking/article/081/0003268184?ntype=RANKING&amp;sid=001\">\n",
       " <img alt=\"\" height=\"60\" onerror=\"this.src='https://ssl.pstatic.net/static.news/image/news/errorimage/noimage_88x60.png';\" src=\"https://mimgnews.pstatic.net/image/origin/081/2022/04/25/3268184.jpg?type=nf88_60\" width=\"88\"/>\n",
       " </a>,\n",
       " <a class=\"list_tit nclicks('rig.renws2')\" href=\"https://n.news.naver.com/mnews/ranking/article/081/0003268184?ntype=RANKING&amp;sid=001\">“김찬미 아닌 ‘임’찬미”…엄마 성으로 바꾸는 사람들</a>,\n",
       " <a class=\"list_press nclicks('rig.renws2pname')\" href=\"/main/ranking/office.naver?officeId=081\"><span class=\"list_press_thumb\"><img alt=\"\" height=\"16\" src=\"https://mimgnews.pstatic.net/image/upload/office_logo/081/2022/01/05/logo_081_56_20220105195830.png\" width=\"16\"/></span>서울신문</a>,\n",
       " <a class=\"ranking_thumb nclicks('rig.renws2')\" href=\"https://n.news.naver.com/mnews/ranking/article/003/0011143994?ntype=RANKING&amp;sid=001\">\n",
       " <img alt=\"\" height=\"60\" onerror=\"this.src='https://ssl.pstatic.net/static.news/image/news/errorimage/noimage_88x60.png';\" src=\"https://mimgnews.pstatic.net/image/origin/003/2022/04/25/11143994.jpg?type=nf88_60\" width=\"88\"/>\n",
       " </a>,\n",
       " <a class=\"list_tit nclicks('rig.renws2')\" href=\"https://n.news.naver.com/mnews/ranking/article/003/0011143994?ntype=RANKING&amp;sid=001\">사람이 싫어 가상 캐릭터와 10년 연애 후 결혼한 일본 남 …</a>,\n",
       " <a class=\"list_press nclicks('rig.renws2pname')\" href=\"/main/ranking/office.naver?officeId=003\"><span class=\"list_press_thumb\"><img alt=\"\" height=\"16\" src=\"https://mimgnews.pstatic.net/image/upload/office_logo/003/2022/02/21/logo_003_56_20220221152351.jpg\" width=\"16\"/></span>뉴시스</a>,\n",
       " <a class=\"ranking_thumb nclicks('rig.renws2')\" href=\"https://n.news.naver.com/mnews/ranking/article/215/0001027705?ntype=RANKING&amp;sid=001\">\n",
       " <img alt=\"\" height=\"60\" onerror=\"this.src='https://ssl.pstatic.net/static.news/image/news/errorimage/noimage_88x60.png';\" src=\"https://mimgnews.pstatic.net/image/origin/215/2022/04/25/1027705.jpg?type=nf88_60\" width=\"88\"/>\n",
       " </a>,\n",
       " <a class=\"list_tit nclicks('rig.renws2')\" href=\"https://n.news.naver.com/mnews/ranking/article/215/0001027705?ntype=RANKING&amp;sid=001\">여대생 1500명 성매매 시킨 20대女…베트남 '발칵'</a>,\n",
       " <a class=\"list_press nclicks('rig.renws2pname')\" href=\"/main/ranking/office.naver?officeId=215\"><span class=\"list_press_thumb\"><img alt=\"\" height=\"16\" src=\"https://mimgnews.pstatic.net/image/upload/office_logo/215/2020/08/12/logo_215_56_20200812134433.png\" width=\"16\"/></span>한국경제TV</a>,\n",
       " <a class=\"ranking_thumb nclicks('rig.renws2')\" href=\"https://n.news.naver.com/mnews/ranking/article/366/0000808806?ntype=RANKING&amp;sid=001\">\n",
       " <img alt=\"\" height=\"60\" onerror=\"this.src='https://ssl.pstatic.net/static.news/image/news/errorimage/noimage_88x60.png';\" src=\"https://mimgnews.pstatic.net/image/origin/366/2022/04/25/808806.jpg?type=nf88_60\" width=\"88\"/>\n",
       " </a>,\n",
       " <a class=\"list_tit nclicks('rig.renws2')\" href=\"https://n.news.naver.com/mnews/ranking/article/366/0000808806?ntype=RANKING&amp;sid=001\">“코로나 막차탔다” 격리 해제 조짐에 코로나 확진 반기는  …</a>,\n",
       " <a class=\"list_press nclicks('rig.renws2pname')\" href=\"/main/ranking/office.naver?officeId=366\"><span class=\"list_press_thumb\"><img alt=\"\" height=\"16\" src=\"https://mimgnews.pstatic.net/image/upload/office_logo/366/2020/12/23/logo_366_56_20201223182636.png\" width=\"16\"/></span>조선비즈</a>,\n",
       " <a class=\"ranking_thumb nclicks('rig.renws2')\" href=\"https://n.news.naver.com/mnews/ranking/article/006/0000112889?ntype=RANKING&amp;sid=001\">\n",
       " <img alt=\"\" height=\"60\" onerror=\"this.src='https://ssl.pstatic.net/static.news/image/news/errorimage/noimage_88x60.png';\" src=\"https://mimgnews.pstatic.net/image/origin/006/2022/04/25/112889.jpg?type=nf88_60\" width=\"88\"/>\n",
       " </a>,\n",
       " <a class=\"list_tit nclicks('rig.renws2')\" href=\"https://n.news.naver.com/mnews/ranking/article/006/0000112889?ntype=RANKING&amp;sid=001\">[영상] 박홍근 원내대표가 공개한 권선동 원내대표와 통화  …</a>,\n",
       " <a class=\"list_press nclicks('rig.renws2pname')\" href=\"/main/ranking/office.naver?officeId=006\"><span class=\"list_press_thumb\"><img alt=\"\" height=\"16\" src=\"https://mimgnews.pstatic.net/image/upload/office_logo/006/2018/07/18/logo_006_56_20180718152218.png\" width=\"16\"/></span>미디어오늘</a>,\n",
       " <a class=\"ranking_thumb nclicks('rig.renws2')\" href=\"https://n.news.naver.com/mnews/ranking/article/002/0002240617?ntype=RANKING&amp;sid=001\">\n",
       " <img alt=\"\" height=\"60\" onerror=\"this.src='https://ssl.pstatic.net/static.news/image/news/errorimage/noimage_88x60.png';\" src=\"https://mimgnews.pstatic.net/image/origin/002/2022/04/25/2240617.jpg?type=nf88_60\" width=\"88\"/>\n",
       " </a>,\n",
       " <a class=\"list_tit nclicks('rig.renws2')\" href=\"https://n.news.naver.com/mnews/ranking/article/002/0002240617?ntype=RANKING&amp;sid=001\">尹 당선인, 취임식 후 신라호텔 만찬 계획…民 \"초호화 혈 …</a>,\n",
       " <a class=\"list_press nclicks('rig.renws2pname')\" href=\"/main/ranking/office.naver?officeId=002\"><span class=\"list_press_thumb\"><img alt=\"\" height=\"16\" src=\"https://mimgnews.pstatic.net/image/upload/office_logo/002/2018/07/18/logo_002_56_20180718152018.png\" width=\"16\"/></span>프레시안</a>,\n",
       " <a class=\"ranking_thumb nclicks('rig.renws2')\" href=\"https://n.news.naver.com/mnews/ranking/article/047/0002350539?ntype=RANKING&amp;sid=001\">\n",
       " <img alt=\"\" height=\"60\" onerror=\"this.src='https://ssl.pstatic.net/static.news/image/news/errorimage/noimage_88x60.png';\" src=\"https://mimgnews.pstatic.net/image/origin/047/2022/04/25/2350539.jpg?type=nf88_60\" width=\"88\"/>\n",
       " </a>,\n",
       " <a class=\"list_tit nclicks('rig.renws2')\" href=\"https://n.news.naver.com/mnews/ranking/article/047/0002350539?ntype=RANKING&amp;sid=001\">\"포켓몬빵 먹고싶다\"는 며느리에 시아버지가 보인 반응</a>,\n",
       " <a class=\"list_press nclicks('rig.renws2pname')\" href=\"/main/ranking/office.naver?officeId=047\"><span class=\"list_press_thumb\"><img alt=\"\" height=\"16\" src=\"https://mimgnews.pstatic.net/image/upload/office_logo/047/2018/07/18/logo_047_56_20180718152818.png\" width=\"16\"/></span>오마이뉴스</a>,\n",
       " <a class=\"ranking_thumb nclicks('rig.renws2')\" href=\"https://n.news.naver.com/mnews/ranking/article/053/0000031138?ntype=RANKING&amp;sid=001\">\n",
       " <img alt=\"\" height=\"60\" onerror=\"this.src='https://ssl.pstatic.net/static.news/image/news/errorimage/noimage_88x60.png';\" src=\"https://mimgnews.pstatic.net/image/origin/053/2022/04/25/31138.jpg?type=nf88_60\" width=\"88\"/>\n",
       " </a>,\n",
       " <a class=\"list_tit nclicks('rig.renws2')\" href=\"https://n.news.naver.com/mnews/ranking/article/053/0000031138?ntype=RANKING&amp;sid=001\">유승민 꺾은 김은혜, 김동연과 여론조사 결과는?</a>,\n",
       " <a class=\"list_press nclicks('rig.renws2pname')\" href=\"/main/ranking/office.naver?officeId=053\"><span class=\"list_press_thumb\"><img alt=\"\" height=\"16\" src=\"https://mimgnews.pstatic.net/image/upload/office_logo/053/2018/09/20/logo_053_56_20180920153620.png\" width=\"16\"/></span>주간조선</a>,\n",
       " <a class=\"ranking_thumb nclicks('rig.renws2')\" href=\"https://n.news.naver.com/mnews/ranking/article/036/0000046367?ntype=RANKING&amp;sid=001\">\n",
       " <img alt=\"\" height=\"60\" onerror=\"this.src='https://ssl.pstatic.net/static.news/image/news/errorimage/noimage_88x60.png';\" src=\"https://mimgnews.pstatic.net/image/origin/036/2022/04/25/46367.jpg?type=nf88_60\" width=\"88\"/>\n",
       " </a>,\n",
       " <a class=\"list_tit nclicks('rig.renws2')\" href=\"https://n.news.naver.com/mnews/ranking/article/036/0000046367?ntype=RANKING&amp;sid=001\">사진·영상이 전쟁범죄를 증명할까</a>,\n",
       " <a class=\"list_press nclicks('rig.renws2pname')\" href=\"/main/ranking/office.naver?officeId=036\"><span class=\"list_press_thumb\"><img alt=\"\" height=\"16\" src=\"https://mimgnews.pstatic.net/image/upload/office_logo/036/2018/09/20/logo_036_56_20180920152920.png\" width=\"16\"/></span>한겨레21</a>,\n",
       " <a class=\"ranking_thumb nclicks('rig.renws2')\" href=\"https://n.news.naver.com/mnews/ranking/article/449/0000225921?ntype=RANKING&amp;sid=001\">\n",
       " <img alt=\"\" height=\"60\" onerror=\"this.src='https://ssl.pstatic.net/static.news/image/news/errorimage/noimage_88x60.png';\" src=\"https://mimgnews.pstatic.net/image/origin/449/2022/04/25/225921.jpg?type=nf88_60\" width=\"88\"/>\n",
       " </a>,\n",
       " <a class=\"list_tit nclicks('rig.renws2')\" href=\"https://n.news.naver.com/mnews/ranking/article/449/0000225921?ntype=RANKING&amp;sid=001\">中 세관 “포장에서 코로나 양성…韓 해당제품 1주일 수입  …</a>,\n",
       " <a class=\"list_press nclicks('rig.renws2pname')\" href=\"/main/ranking/office.naver?officeId=449\"><span class=\"list_press_thumb\"><img alt=\"\" height=\"16\" src=\"https://mimgnews.pstatic.net/image/upload/office_logo/449/2020/06/26/logo_449_56_20200626104826.png\" width=\"16\"/></span>채널A</a>,\n",
       " <a class=\"ranking_thumb nclicks('rig.renws2')\" href=\"https://n.news.naver.com/mnews/ranking/article/030/0003012614?ntype=RANKING&amp;sid=001\">\n",
       " <img alt=\"\" height=\"60\" onerror=\"this.src='https://ssl.pstatic.net/static.news/image/news/errorimage/noimage_88x60.png';\" src=\"https://mimgnews.pstatic.net/image/origin/030/2022/04/25/3012614.jpg?type=nf88_60\" width=\"88\"/>\n",
       " </a>,\n",
       " <a class=\"list_tit nclicks('rig.renws2')\" href=\"https://n.news.naver.com/mnews/ranking/article/030/0003012614?ntype=RANKING&amp;sid=001\">입술 깨물고 안절부절…다시 고개 든 푸틴 '건강이상설'</a>,\n",
       " <a class=\"list_press nclicks('rig.renws2pname')\" href=\"/main/ranking/office.naver?officeId=030\"><span class=\"list_press_thumb\"><img alt=\"\" height=\"16\" src=\"https://mimgnews.pstatic.net/image/upload/office_logo/030/2018/07/20/logo_030_56_20180720194820.png\" width=\"16\"/></span>전자신문</a>,\n",
       " <a class=\"ranking_thumb nclicks('rig.renws2')\" href=\"https://n.news.naver.com/mnews/ranking/article/031/0000668397?ntype=RANKING&amp;sid=001\">\n",
       " <img alt=\"\" height=\"60\" onerror=\"this.src='https://ssl.pstatic.net/static.news/image/news/errorimage/noimage_88x60.png';\" src=\"https://mimgnews.pstatic.net/image/origin/031/2022/04/25/668397.jpg?type=nf88_60\" width=\"88\"/>\n",
       " </a>,\n",
       " <a class=\"list_tit nclicks('rig.renws2')\" href=\"https://n.news.naver.com/mnews/ranking/article/031/0000668397?ntype=RANKING&amp;sid=001\">\"여동생 남편, 성관계 안 해주면 '황산 붓고 땅에 묻겠다 …</a>,\n",
       " <a class=\"list_press nclicks('rig.renws2pname')\" href=\"/main/ranking/office.naver?officeId=031\"><span class=\"list_press_thumb\"><img alt=\"\" height=\"16\" src=\"https://mimgnews.pstatic.net/image/upload/office_logo/031/2020/11/27/logo_031_56_20201127145235.jpg\" width=\"16\"/></span>아이뉴스24</a>,\n",
       " <a class=\"ranking_thumb nclicks('rig.renws2')\" href=\"https://n.news.naver.com/mnews/ranking/article/088/0000755203?ntype=RANKING&amp;sid=001\">\n",
       " <img alt=\"\" height=\"60\" onerror=\"this.src='https://ssl.pstatic.net/static.news/image/news/errorimage/noimage_88x60.png';\" src=\"https://mimgnews.pstatic.net/image/origin/088/2022/04/25/755203.jpg?type=nf88_60\" width=\"88\"/>\n",
       " </a>,\n",
       " <a class=\"list_tit nclicks('rig.renws2')\" href=\"https://n.news.naver.com/mnews/ranking/article/088/0000755203?ntype=RANKING&amp;sid=001\">\"우크라 참전\" 휴가중 무단출국한 해병…한달만인 25일 귀 …</a>,\n",
       " <a class=\"list_press nclicks('rig.renws2pname')\" href=\"/main/ranking/office.naver?officeId=088\"><span class=\"list_press_thumb\"><img alt=\"\" height=\"16\" src=\"https://mimgnews.pstatic.net/image/upload/office_logo/088/2019/08/22/logo_088_56_20190822111422.png\" width=\"16\"/></span>매일신문</a>,\n",
       " <a class=\"ranking_thumb nclicks('rig.renws2')\" href=\"https://n.news.naver.com/mnews/ranking/article/011/0004046173?ntype=RANKING&amp;sid=001\">\n",
       " <img alt=\"\" height=\"60\" onerror=\"this.src='https://ssl.pstatic.net/static.news/image/news/errorimage/noimage_88x60.png';\" src=\"https://mimgnews.pstatic.net/image/origin/011/2022/04/25/4046173.jpg?type=nf88_60\" width=\"88\"/>\n",
       " </a>,\n",
       " <a class=\"list_tit nclicks('rig.renws2')\" href=\"https://n.news.naver.com/mnews/ranking/article/011/0004046173?ntype=RANKING&amp;sid=001\">'난 결백' 이은해 제출 '다이빙' 영상…충격적 감정 결과 …</a>,\n",
       " <a class=\"list_press nclicks('rig.renws2pname')\" href=\"/main/ranking/office.naver?officeId=011\"><span class=\"list_press_thumb\"><img alt=\"\" height=\"16\" src=\"https://mimgnews.pstatic.net/image/upload/office_logo/011/2022/02/22/logo_011_56_20220222161153.png\" width=\"16\"/></span>서울경제</a>,\n",
       " <a class=\"ranking_thumb nclicks('rig.renws2')\" href=\"https://n.news.naver.com/mnews/ranking/article/082/0001152493?ntype=RANKING&amp;sid=001\">\n",
       " <img alt=\"\" height=\"60\" onerror=\"this.src='https://ssl.pstatic.net/static.news/image/news/errorimage/noimage_88x60.png';\" src=\"https://mimgnews.pstatic.net/image/origin/082/2022/04/25/1152493.jpg?type=nf88_60\" width=\"88\"/>\n",
       " </a>,\n",
       " <a class=\"list_tit nclicks('rig.renws2')\" href=\"https://n.news.naver.com/mnews/ranking/article/082/0001152493?ntype=RANKING&amp;sid=001\">10년간 핫팬츠 차림으로 전국 활보한 40대 남성, 벌금  …</a>,\n",
       " <a class=\"list_press nclicks('rig.renws2pname')\" href=\"/main/ranking/office.naver?officeId=082\"><span class=\"list_press_thumb\"><img alt=\"\" height=\"16\" src=\"https://mimgnews.pstatic.net/image/upload/office_logo/082/2019/08/22/logo_082_56_20190822111222.png\" width=\"16\"/></span>부산일보</a>,\n",
       " <a class=\"ranking_thumb nclicks('rig.renws2')\" href=\"https://n.news.naver.com/mnews/ranking/article/094/0000009943?ntype=RANKING&amp;sid=001\">\n",
       " <img alt=\"\" height=\"60\" onerror=\"this.src='https://ssl.pstatic.net/static.news/image/news/errorimage/noimage_88x60.png';\" src=\"https://mimgnews.pstatic.net/image/origin/094/2022/04/25/9943.jpg?type=nf88_60\" width=\"88\"/>\n",
       " </a>,\n",
       " <a class=\"list_tit nclicks('rig.renws2')\" href=\"https://n.news.naver.com/mnews/ranking/article/094/0000009943?ntype=RANKING&amp;sid=001\">[신영철의 산 이야기] 마음은 월드챔피언 클로이 김, 하지 …</a>,\n",
       " <a class=\"list_press nclicks('rig.renws2pname')\" href=\"/main/ranking/office.naver?officeId=094\"><span class=\"list_press_thumb\"><img alt=\"\" height=\"16\" src=\"https://mimgnews.pstatic.net/image/upload/office_logo/094/2018/09/20/logo_094_56_20180920153620.png\" width=\"16\"/></span>월간 산</a>,\n",
       " <a class=\"ranking_thumb nclicks('rig.renws2')\" href=\"https://n.news.naver.com/mnews/ranking/article/044/0000236283?ntype=RANKING&amp;sid=001\">\n",
       " <img alt=\"\" height=\"60\" onerror=\"this.src='https://ssl.pstatic.net/static.news/image/news/errorimage/noimage_88x60.png';\" src=\"https://mimgnews.pstatic.net/image/origin/044/2022/04/24/236283.jpg?type=nf88_60\" width=\"88\"/>\n",
       " </a>,\n",
       " <a class=\"list_tit nclicks('rig.renws2')\" href=\"https://n.news.naver.com/mnews/ranking/article/044/0000236283?ntype=RANKING&amp;sid=001\">K-pop rookie aespa makes histori …</a>,\n",
       " <a class=\"list_press nclicks('rig.renws2pname')\" href=\"/main/ranking/office.naver?officeId=044\"><span class=\"list_press_thumb\"><img alt=\"\" height=\"16\" src=\"https://mimgnews.pstatic.net/image/upload/office_logo/044/2018/10/02/logo_044_56_20181002183002.png\" width=\"16\"/></span>코리아헤럴드</a>,\n",
       " <a class=\"ranking_thumb nclicks('rig.renws2')\" href=\"https://n.news.naver.com/mnews/ranking/article/029/0002731219?ntype=RANKING&amp;sid=001\">\n",
       " <img alt=\"\" height=\"60\" onerror=\"this.src='https://ssl.pstatic.net/static.news/image/news/errorimage/noimage_88x60.png';\" src=\"https://mimgnews.pstatic.net/image/origin/029/2022/04/25/2731219.jpg?type=nf88_60\" width=\"88\"/>\n",
       " </a>,\n",
       " <a class=\"list_tit nclicks('rig.renws2')\" href=\"https://n.news.naver.com/mnews/ranking/article/029/0002731219?ntype=RANKING&amp;sid=001\">\"많은 돈 가지고 있을 것 같아서\"…60대女 살해범, 알고 …</a>,\n",
       " <a class=\"list_press nclicks('rig.renws2pname')\" href=\"/main/ranking/office.naver?officeId=029\"><span class=\"list_press_thumb\"><img alt=\"\" height=\"16\" src=\"https://mimgnews.pstatic.net/image/upload/office_logo/029/2020/08/11/logo_029_56_20200811154854.png\" width=\"16\"/></span>디지털타임스</a>,\n",
       " <a class=\"ranking_thumb nclicks('rig.renws2')\" href=\"https://n.news.naver.com/mnews/ranking/article/448/0000357827?ntype=RANKING&amp;sid=001\">\n",
       " <img alt=\"\" height=\"60\" onerror=\"this.src='https://ssl.pstatic.net/static.news/image/news/errorimage/noimage_88x60.png';\" src=\"https://mimgnews.pstatic.net/image/origin/448/2022/04/25/357827.jpg?type=nf88_60\" width=\"88\"/>\n",
       " </a>,\n",
       " <a class=\"list_tit nclicks('rig.renws2')\" href=\"https://n.news.naver.com/mnews/ranking/article/448/0000357827?ntype=RANKING&amp;sid=001\">BTS 지민, 건보료 체납에 59억 아파트 압류…회사 과실 …</a>,\n",
       " <a class=\"list_press nclicks('rig.renws2pname')\" href=\"/main/ranking/office.naver?officeId=448\"><span class=\"list_press_thumb\"><img alt=\"\" height=\"16\" src=\"https://mimgnews.pstatic.net/image/upload/office_logo/448/2020/08/11/logo_448_56_20200811154809.png\" width=\"16\"/></span>TV조선</a>,\n",
       " <a class=\"ranking_thumb nclicks('rig.renws2')\" href=\"https://n.news.naver.com/mnews/ranking/article/119/0002597313?ntype=RANKING&amp;sid=001\">\n",
       " <img alt=\"\" height=\"60\" onerror=\"this.src='https://ssl.pstatic.net/static.news/image/news/errorimage/noimage_88x60.png';\" src=\"https://mimgnews.pstatic.net/image/origin/119/2022/04/24/2597313.jpg?type=nf88_60\" width=\"88\"/>\n",
       " </a>,\n",
       " <a class=\"list_tit nclicks('rig.renws2')\" href=\"https://n.news.naver.com/mnews/ranking/article/119/0002597313?ntype=RANKING&amp;sid=001\">\"여동생 남편에게 강간당해…불륜으로 합의해 달랍니다\"</a>,\n",
       " <a class=\"list_press nclicks('rig.renws2pname')\" href=\"/main/ranking/office.naver?officeId=119\"><span class=\"list_press_thumb\"><img alt=\"\" height=\"16\" src=\"https://mimgnews.pstatic.net/image/upload/office_logo/119/2018/07/18/logo_119_56_20180718153118.png\" width=\"16\"/></span>데일리안</a>,\n",
       " <a class=\"ranking_thumb nclicks('rig.renws2')\" href=\"https://n.news.naver.com/mnews/ranking/article/417/0000807143?ntype=RANKING&amp;sid=001\">\n",
       " <img alt=\"\" height=\"60\" onerror=\"this.src='https://ssl.pstatic.net/static.news/image/news/errorimage/noimage_88x60.png';\" src=\"https://mimgnews.pstatic.net/image/origin/417/2022/04/25/807143.jpg?type=nf88_60\" width=\"88\"/>\n",
       " </a>,\n",
       " <a class=\"list_tit nclicks('rig.renws2')\" href=\"https://n.news.naver.com/mnews/ranking/article/417/0000807143?ntype=RANKING&amp;sid=001\">월급 빼고 다 오르더니… 한은 \"올 하반기 임금상승 압력  …</a>,\n",
       " <a class=\"list_press nclicks('rig.renws2pname')\" href=\"/main/ranking/office.naver?officeId=417\"><span class=\"list_press_thumb\"><img alt=\"\" height=\"16\" src=\"https://mimgnews.pstatic.net/image/upload/office_logo/417/2021/01/25/logo_417_56_20210125161624.png\" width=\"16\"/></span>머니S</a>,\n",
       " <a class=\"ranking_thumb nclicks('rig.renws2')\" href=\"https://n.news.naver.com/mnews/ranking/article/138/0002123375?ntype=RANKING&amp;sid=001\">\n",
       " <img alt=\"\" height=\"60\" onerror=\"this.src='https://ssl.pstatic.net/static.news/image/news/errorimage/noimage_88x60.png';\" src=\"https://mimgnews.pstatic.net/image/origin/138/2022/04/25/2123375.jpg?type=nf88_60\" width=\"88\"/>\n",
       " </a>,\n",
       " <a class=\"list_tit nclicks('rig.renws2')\" href=\"https://n.news.naver.com/mnews/ranking/article/138/0002123375?ntype=RANKING&amp;sid=001\">구글 픽셀워치, 실물 유출…5월 공개 '유력'</a>,\n",
       " <a class=\"list_press nclicks('rig.renws2pname')\" href=\"/main/ranking/office.naver?officeId=138\"><span class=\"list_press_thumb\"><img alt=\"\" height=\"16\" src=\"https://mimgnews.pstatic.net/image/upload/office_logo/138/2018/07/18/logo_138_56_20180718153118.png\" width=\"16\"/></span>디지털데일리</a>,\n",
       " <a class=\"ranking_thumb nclicks('rig.renws2')\" href=\"https://n.news.naver.com/mnews/ranking/article/629/0000145493?ntype=RANKING&amp;sid=001\">\n",
       " <img alt=\"\" height=\"60\" onerror=\"this.src='https://ssl.pstatic.net/static.news/image/news/errorimage/noimage_88x60.png';\" src=\"https://mimgnews.pstatic.net/image/origin/629/2022/04/25/145493.jpg?type=nf88_60\" width=\"88\"/>\n",
       " </a>,\n",
       " <a class=\"list_tit nclicks('rig.renws2')\" href=\"https://n.news.naver.com/mnews/ranking/article/629/0000145493?ntype=RANKING&amp;sid=001\">'노마스크 논란' 의식했나… 마스크 쓰고 공판 출석하는 양 …</a>,\n",
       " <a class=\"list_press nclicks('rig.renws2pname')\" href=\"/main/ranking/office.naver?officeId=629\"><span class=\"list_press_thumb\"><img alt=\"\" height=\"16\" src=\"https://mimgnews.pstatic.net/image/upload/office_logo/629/2019/09/26/logo_629_56_20190926182726.png\" width=\"16\"/></span>더팩트</a>,\n",
       " <a class=\"ranking_thumb nclicks('rig.renws2')\" href=\"https://n.news.naver.com/mnews/ranking/article/024/0000074572?ntype=RANKING&amp;sid=001\">\n",
       " <img alt=\"\" height=\"60\" onerror=\"this.src='https://ssl.pstatic.net/static.news/image/news/errorimage/noimage_88x60.png';\" src=\"https://mimgnews.pstatic.net/image/origin/024/2022/04/25/74572.jpg?type=nf88_60\" width=\"88\"/>\n",
       " </a>,\n",
       " <a class=\"list_tit nclicks('rig.renws2')\" href=\"https://n.news.naver.com/mnews/ranking/article/024/0000074572?ntype=RANKING&amp;sid=001\">암호화폐 공포탐욕지수 ‘극도의 공포’ 진입…비트코인 4만달 …</a>,\n",
       " <a class=\"list_press nclicks('rig.renws2pname')\" href=\"/main/ranking/office.naver?officeId=024\"><span class=\"list_press_thumb\"><img alt=\"\" height=\"16\" src=\"https://mimgnews.pstatic.net/image/upload/office_logo/024/2020/12/23/logo_024_56_20201223182820.jpg\" width=\"16\"/></span>매경이코노미</a>,\n",
       " <a class=\"ranking_thumb nclicks('rig.renws2')\" href=\"https://n.news.naver.com/mnews/ranking/article/586/0000038012?ntype=RANKING&amp;sid=001\">\n",
       " <img alt=\"\" height=\"60\" onerror=\"this.src='https://ssl.pstatic.net/static.news/image/news/errorimage/noimage_88x60.png';\" src=\"https://mimgnews.pstatic.net/image/origin/586/2022/04/25/38012.jpg?type=nf88_60\" width=\"88\"/>\n",
       " </a>,\n",
       " <a class=\"list_tit nclicks('rig.renws2')\" href=\"https://n.news.naver.com/mnews/ranking/article/586/0000038012?ntype=RANKING&amp;sid=001\">윤석열에 SOS 친 김오수, '묘수'일까 '자충수'일까</a>,\n",
       " <a class=\"list_press nclicks('rig.renws2pname')\" href=\"/main/ranking/office.naver?officeId=586\"><span class=\"list_press_thumb\"><img alt=\"\" height=\"16\" src=\"https://mimgnews.pstatic.net/image/upload/office_logo/586/2018/09/20/logo_586_56_20180920154020.png\" width=\"16\"/></span>시사저널</a>,\n",
       " <a class=\"ranking_thumb nclicks('rig.renws2')\" href=\"https://n.news.naver.com/mnews/ranking/article/293/0000038852?ntype=RANKING&amp;sid=001\">\n",
       " <img alt=\"\" height=\"60\" onerror=\"this.src='https://ssl.pstatic.net/static.news/image/news/errorimage/noimage_88x60.png';\" src=\"https://mimgnews.pstatic.net/image/origin/293/2022/04/25/38852.jpg?type=nf88_60\" width=\"88\"/>\n",
       " </a>,\n",
       " <a class=\"list_tit nclicks('rig.renws2')\" href=\"https://n.news.naver.com/mnews/ranking/article/293/0000038852?ntype=RANKING&amp;sid=001\">애플, 오래된 앱 퇴출한다…개발자들 '반발'</a>,\n",
       " <a class=\"list_press nclicks('rig.renws2pname')\" href=\"/main/ranking/office.naver?officeId=293\"><span class=\"list_press_thumb\"><img alt=\"\" height=\"16\" src=\"https://mimgnews.pstatic.net/image/upload/office_logo/293/2018/07/18/logo_293_56_20180718153318.png\" width=\"16\"/></span>블로터</a>,\n",
       " <a class=\"ranking_thumb nclicks('rig.renws2')\" href=\"https://n.news.naver.com/mnews/ranking/article/007/0000007074?ntype=RANKING&amp;sid=001\">\n",
       " <img alt=\"\" height=\"60\" onerror=\"this.src='https://ssl.pstatic.net/static.news/image/news/errorimage/noimage_88x60.png';\" src=\"https://mimgnews.pstatic.net/image/origin/007/2022/04/25/7074.jpg?type=nf88_60\" width=\"88\"/>\n",
       " </a>,\n",
       " <a class=\"list_tit nclicks('rig.renws2')\" href=\"https://n.news.naver.com/mnews/ranking/article/007/0000007074?ntype=RANKING&amp;sid=001\">구석진 마음을 세상과 연결시켜 봐!</a>,\n",
       " <a class=\"list_press nclicks('rig.renws2pname')\" href=\"/main/ranking/office.naver?officeId=007\"><span class=\"list_press_thumb\"><img alt=\"\" height=\"16\" src=\"https://mimgnews.pstatic.net/image/upload/office_logo/007/2020/04/02/logo_007_56_20200402163602.png\" width=\"16\"/></span>일다</a>,\n",
       " <a class=\"ranking_thumb nclicks('rig.renws2')\" href=\"https://n.news.naver.com/mnews/ranking/article/087/0000892651?ntype=RANKING&amp;sid=001\">\n",
       " <img alt=\"\" height=\"60\" onerror=\"this.src='https://ssl.pstatic.net/static.news/image/news/errorimage/noimage_88x60.png';\" src=\"https://mimgnews.pstatic.net/image/origin/087/2022/04/25/892651.jpg?type=nf88_60\" width=\"88\"/>\n",
       " </a>,\n",
       " <a class=\"list_tit nclicks('rig.renws2')\" href=\"https://n.news.naver.com/mnews/ranking/article/087/0000892651?ntype=RANKING&amp;sid=001\">[속보]장제원 \"尹당선인, '검수완박 법안 통과 헌법정신  …</a>,\n",
       " <a class=\"list_press nclicks('rig.renws2pname')\" href=\"/main/ranking/office.naver?officeId=087\"><span class=\"list_press_thumb\"><img alt=\"\" height=\"16\" src=\"https://mimgnews.pstatic.net/image/upload/office_logo/087/2019/08/22/logo_087_56_20190822110222.png\" width=\"16\"/></span>강원일보</a>,\n",
       " <a class=\"ranking_thumb nclicks('rig.renws2')\" href=\"https://n.news.naver.com/mnews/ranking/article/243/0000025723?ntype=RANKING&amp;sid=001\">\n",
       " <img alt=\"\" height=\"60\" onerror=\"this.src='https://ssl.pstatic.net/static.news/image/news/errorimage/noimage_88x60.png';\" src=\"https://mimgnews.pstatic.net/image/origin/243/2022/04/25/25723.jpg?type=nf88_60\" width=\"88\"/>\n",
       " </a>,\n",
       " <a class=\"list_tit nclicks('rig.renws2')\" href=\"https://n.news.naver.com/mnews/ranking/article/243/0000025723?ntype=RANKING&amp;sid=001\">“이제부턴 치료·생활비 본인 부담” 코로나19 등급 2급으 …</a>,\n",
       " <a class=\"list_press nclicks('rig.renws2pname')\" href=\"/main/ranking/office.naver?officeId=243\"><span class=\"list_press_thumb\"><img alt=\"\" height=\"16\" src=\"https://mimgnews.pstatic.net/image/upload/office_logo/243/2020/03/02/logo_243_56_20200302120102.jpg\" width=\"16\"/></span>이코노미스트</a>,\n",
       " <a class=\"ranking_thumb nclicks('rig.renws2')\" href=\"https://n.news.naver.com/mnews/ranking/article/640/0000023632?ntype=RANKING&amp;sid=001\">\n",
       " <img alt=\"\" height=\"60\" onerror=\"this.src='https://ssl.pstatic.net/static.news/image/news/errorimage/noimage_88x60.png';\" src=\"https://mimgnews.pstatic.net/image/origin/640/2022/04/24/23632.jpg?type=nf88_60\" width=\"88\"/>\n",
       " </a>,\n",
       " <a class=\"list_tit nclicks('rig.renws2')\" href=\"https://n.news.naver.com/mnews/ranking/article/640/0000023632?ntype=RANKING&amp;sid=001\">Korea to lower Covid's classific …</a>,\n",
       " <a class=\"list_press nclicks('rig.renws2pname')\" href=\"/main/ranking/office.naver?officeId=640\"><span class=\"list_press_thumb\"><img alt=\"\" height=\"16\" src=\"https://mimgnews.pstatic.net/image/upload/office_logo/640/2020/05/06/logo_640_56_20200506111106.png\" width=\"16\"/></span>코리아중앙데일리</a>,\n",
       " <a class=\"ranking_thumb nclicks('rig.renws2')\" href=\"https://n.news.naver.com/mnews/ranking/article/648/0000007558?ntype=RANKING&amp;sid=001\">\n",
       " <img alt=\"\" height=\"60\" onerror=\"this.src='https://ssl.pstatic.net/static.news/image/news/errorimage/noimage_88x60.png';\" src=\"https://mimgnews.pstatic.net/image/origin/648/2022/04/25/7558.jpg?type=nf88_60\" width=\"88\"/>\n",
       " </a>,\n",
       " <a class=\"list_tit nclicks('rig.renws2')\" href=\"https://n.news.naver.com/mnews/ranking/article/648/0000007558?ntype=RANKING&amp;sid=001\">코로나 손실보상 담긴 추경안 밑그림 나온다</a>,\n",
       " <a class=\"list_press nclicks('rig.renws2pname')\" href=\"/main/ranking/office.naver?officeId=648\"><span class=\"list_press_thumb\"><img alt=\"\" height=\"16\" src=\"https://mimgnews.pstatic.net/image/upload/office_logo/648/2021/04/20/logo_648_56_20210420164020.jpg\" width=\"16\"/></span>비즈니스워치</a>,\n",
       " <a class=\"ranking_thumb nclicks('rig.renws2')\" href=\"https://n.news.naver.com/mnews/ranking/article/346/0000050218?ntype=RANKING&amp;sid=001\">\n",
       " <img alt=\"\" height=\"60\" onerror=\"this.src='https://ssl.pstatic.net/static.news/image/news/errorimage/noimage_88x60.png';\" src=\"https://mimgnews.pstatic.net/image/origin/346/2022/04/24/50218.jpg?type=nf88_60\" width=\"88\"/>\n",
       " </a>,\n",
       " <a class=\"list_tit nclicks('rig.renws2')\" href=\"https://n.news.naver.com/mnews/ranking/article/346/0000050218?ntype=RANKING&amp;sid=001\">'고딩엄빠' 화제… 청소년기 임신, 몸에 독 된다</a>,\n",
       " <a class=\"list_press nclicks('rig.renws2pname')\" href=\"/main/ranking/office.naver?officeId=346\"><span class=\"list_press_thumb\"><img alt=\"\" height=\"16\" src=\"https://mimgnews.pstatic.net/image/upload/office_logo/346/2018/09/20/logo_346_56_20180920154320.png\" width=\"16\"/></span>헬스조선</a>,\n",
       " <a class=\"ranking_thumb nclicks('rig.renws2')\" href=\"https://n.news.naver.com/mnews/ranking/article/296/0000055690?ntype=RANKING&amp;sid=001\">\n",
       " <img alt=\"\" height=\"60\" onerror=\"this.src='https://ssl.pstatic.net/static.news/image/news/errorimage/noimage_88x60.png';\" src=\"https://mimgnews.pstatic.net/image/origin/296/2022/04/25/55690.jpg?type=nf88_60\" width=\"88\"/>\n",
       " </a>,\n",
       " <a class=\"list_tit nclicks('rig.renws2')\" href=\"https://n.news.naver.com/mnews/ranking/article/296/0000055690?ntype=RANKING&amp;sid=001\">비타민C 부족 알리는 신호...보충에 좋은 식품 7</a>,\n",
       " <a class=\"list_press nclicks('rig.renws2pname')\" href=\"/main/ranking/office.naver?officeId=296\"><span class=\"list_press_thumb\"><img alt=\"\" height=\"16\" src=\"https://mimgnews.pstatic.net/image/upload/office_logo/296/2021/08/31/logo_296_56_20210831152430.png\" width=\"16\"/></span>코메디닷컴</a>,\n",
       " <a class=\"ranking_thumb nclicks('rig.renws2')\" href=\"https://n.news.naver.com/mnews/ranking/article/037/0000030773?ntype=RANKING&amp;sid=001\">\n",
       " <img alt=\"\" height=\"60\" onerror=\"this.src='https://ssl.pstatic.net/static.news/image/news/errorimage/noimage_88x60.png';\" src=\"https://mimgnews.pstatic.net/image/origin/037/2022/04/25/30773.jpg?type=nf88_60\" width=\"88\"/>\n",
       " </a>,\n",
       " <a class=\"list_tit nclicks('rig.renws2')\" href=\"https://n.news.naver.com/mnews/ranking/article/037/0000030773?ntype=RANKING&amp;sid=001\">휴대전화에 ‘아내’로 떠서 받았더니 보이스피싱! [Sync …</a>,\n",
       " <a class=\"list_press nclicks('rig.renws2pname')\" href=\"/main/ranking/office.naver?officeId=037\"><span class=\"list_press_thumb\"><img alt=\"\" height=\"16\" src=\"https://mimgnews.pstatic.net/image/upload/office_logo/037/2021/09/29/logo_037_56_20210929190140.png\" width=\"16\"/></span>주간동아</a>,\n",
       " <a class=\"ranking_thumb nclicks('rig.renws2')\" href=\"https://n.news.naver.com/mnews/ranking/article/123/0002273119?ntype=RANKING&amp;sid=001\">\n",
       " <img alt=\"\" height=\"60\" onerror=\"this.src='https://ssl.pstatic.net/static.news/image/news/errorimage/noimage_88x60.png';\" src=\"https://mimgnews.pstatic.net/image/origin/123/2022/04/25/2273119.jpg?type=nf88_60\" width=\"88\"/>\n",
       " </a>,\n",
       " <a class=\"list_tit nclicks('rig.renws2')\" href=\"https://n.news.naver.com/mnews/ranking/article/123/0002273119?ntype=RANKING&amp;sid=001\">장제원 \"윤 당선인, 검수완박은 '부패완판'이란 생각에 전 …</a>,\n",
       " <a class=\"list_press nclicks('rig.renws2pname')\" href=\"/main/ranking/office.naver?officeId=123\"><span class=\"list_press_thumb\"><img alt=\"\" height=\"16\" src=\"https://mimgnews.pstatic.net/image/upload/office_logo/123/2018/10/02/logo_123_56_20181002190002.png\" width=\"16\"/></span>조세일보</a>,\n",
       " <a class=\"ranking_thumb nclicks('rig.renws2')\" href=\"https://n.news.naver.com/mnews/ranking/article/033/0000043960?ntype=RANKING&amp;sid=001\">\n",
       " <img alt=\"\" height=\"60\" onerror=\"this.src='https://ssl.pstatic.net/static.news/image/news/errorimage/noimage_88x60.png';\" src=\"https://mimgnews.pstatic.net/image/origin/033/2022/04/20/43960.jpg?type=nf88_60\" width=\"88\"/>\n",
       " </a>,\n",
       " <a class=\"list_tit nclicks('rig.renws2')\" href=\"https://n.news.naver.com/mnews/ranking/article/033/0000043960?ntype=RANKING&amp;sid=001\">깊어지는 가뭄, 거세지는 산불[정봉석의 북미 환경편지](5 …</a>,\n",
       " <a class=\"list_press nclicks('rig.renws2pname')\" href=\"/main/ranking/office.naver?officeId=033\"><span class=\"list_press_thumb\"><img alt=\"\" height=\"16\" src=\"https://mimgnews.pstatic.net/image/upload/office_logo/033/2018/09/20/logo_033_56_20180920152820.png\" width=\"16\"/></span>주간경향</a>,\n",
       " <a class=\"ranking_thumb nclicks('rig.renws2')\" href=\"https://n.news.naver.com/mnews/ranking/article/310/0000095868?ntype=RANKING&amp;sid=001\">\n",
       " <img alt=\"\" height=\"60\" onerror=\"this.src='https://ssl.pstatic.net/static.news/image/news/errorimage/noimage_88x60.png';\" src=\"https://mimgnews.pstatic.net/image/origin/310/2022/04/25/95868.jpg?type=nf88_60\" width=\"88\"/>\n",
       " </a>,\n",
       " <a class=\"list_tit nclicks('rig.renws2')\" href=\"https://n.news.naver.com/mnews/ranking/article/310/0000095868?ntype=RANKING&amp;sid=001\">박지현 \"조국·정경심 '자녀 입시 비리' 사과하라…묵인할  …</a>,\n",
       " <a class=\"list_press nclicks('rig.renws2pname')\" href=\"/main/ranking/office.naver?officeId=310\"><span class=\"list_press_thumb\"><img alt=\"\" height=\"16\" src=\"https://mimgnews.pstatic.net/image/upload/office_logo/310/2020/08/11/logo_310_56_20200811154942.png\" width=\"16\"/></span>여성신문</a>,\n",
       " <a class=\"ranking_thumb nclicks('rig.renws2')\" href=\"https://n.news.naver.com/mnews/ranking/article/308/0000030758?ntype=RANKING&amp;sid=001\">\n",
       " <img alt=\"\" height=\"60\" onerror=\"this.src='https://ssl.pstatic.net/static.news/image/news/errorimage/noimage_88x60.png';\" src=\"https://mimgnews.pstatic.net/image/origin/308/2022/04/25/30758.jpg?type=nf88_60\" width=\"88\"/>\n",
       " </a>,\n",
       " <a class=\"list_tit nclicks('rig.renws2')\" href=\"https://n.news.naver.com/mnews/ranking/article/308/0000030758?ntype=RANKING&amp;sid=001\">[말말말] “국민이 많이 궁금해하실 것.”</a>,\n",
       " <a class=\"list_press nclicks('rig.renws2pname')\" href=\"/main/ranking/office.naver?officeId=308\"><span class=\"list_press_thumb\"><img alt=\"\" height=\"16\" src=\"https://mimgnews.pstatic.net/image/upload/office_logo/308/2018/09/20/logo_308_56_20180920153920.png\" width=\"16\"/></span>시사IN</a>,\n",
       " <a class=\"ranking_thumb nclicks('rig.renws2')\" href=\"https://n.news.naver.com/mnews/ranking/article/658/0000007880?ntype=RANKING&amp;sid=001\">\n",
       " <img alt=\"\" height=\"60\" onerror=\"this.src='https://ssl.pstatic.net/static.news/image/news/errorimage/noimage_88x60.png';\" src=\"https://mimgnews.pstatic.net/image/origin/658/2022/04/25/7880.jpg?type=nf88_60\" width=\"88\"/>\n",
       " </a>,\n",
       " <a class=\"list_tit nclicks('rig.renws2')\" href=\"https://n.news.naver.com/mnews/ranking/article/658/0000007880?ntype=RANKING&amp;sid=001\">부산시민공원 주변 아파트 건설 속도전</a>,\n",
       " <a class=\"list_press nclicks('rig.renws2pname')\" href=\"/main/ranking/office.naver?officeId=658\"><span class=\"list_press_thumb\"><img alt=\"\" height=\"16\" src=\"https://mimgnews.pstatic.net/image/upload/office_logo/658/2022/01/20/logo_658_56_20220120164828.png\" width=\"16\"/></span>국제신문</a>,\n",
       " <a class=\"ranking_thumb nclicks('rig.renws2')\" href=\"https://n.news.naver.com/mnews/ranking/article/584/0000018703?ntype=RANKING&amp;sid=001\">\n",
       " <img alt=\"\" height=\"60\" onerror=\"this.src='https://ssl.pstatic.net/static.news/image/news/errorimage/noimage_88x60.png';\" src=\"https://mimgnews.pstatic.net/image/origin/584/2022/04/25/18703.jpg?type=nf88_60\" width=\"88\"/>\n",
       " </a>,\n",
       " <a class=\"list_tit nclicks('rig.renws2')\" href=\"https://n.news.naver.com/mnews/ranking/article/584/0000018703?ntype=RANKING&amp;sid=001\">윤석열 정부 원전정책의 아이콘 SMR, 안전성 기준 없고  …</a>,\n",
       " <a class=\"list_press nclicks('rig.renws2pname')\" href=\"/main/ranking/office.naver?officeId=584\"><span class=\"list_press_thumb\"><img alt=\"\" height=\"16\" src=\"https://mimgnews.pstatic.net/image/upload/office_logo/584/2018/09/20/logo_584_56_20180920154720.png\" width=\"16\"/></span>동아사이언스</a>,\n",
       " <a class=\"ranking_thumb nclicks('rig.renws2')\" href=\"https://n.news.naver.com/mnews/ranking/article/127/0000032534?ntype=RANKING&amp;sid=001\">\n",
       " <img alt=\"\" height=\"60\" onerror=\"this.src='https://ssl.pstatic.net/static.news/image/news/errorimage/noimage_88x60.png';\" src=\"https://mimgnews.pstatic.net/image/origin/127/2022/04/22/32534.jpg?type=nf88_60\" width=\"88\"/>\n",
       " </a>,\n",
       " <a class=\"list_tit nclicks('rig.renws2')\" href=\"https://n.news.naver.com/mnews/ranking/article/127/0000032534?ntype=RANKING&amp;sid=001\">\"언론사에 포털 개방\"… 포털 잡으려다 뉴스생태계 왜곡 우 …</a>,\n",
       " <a class=\"list_press nclicks('rig.renws2pname')\" href=\"/main/ranking/office.naver?officeId=127\"><span class=\"list_press_thumb\"><img alt=\"\" height=\"16\" src=\"https://mimgnews.pstatic.net/image/upload/office_logo/127/2020/04/02/logo_127_56_20200402162102.png\" width=\"16\"/></span>기자협회보</a>,\n",
       " <a class=\"ranking_thumb nclicks('rig.renws2')\" href=\"https://n.news.naver.com/mnews/ranking/article/655/0000001684?ntype=RANKING&amp;sid=001\">\n",
       " <img alt=\"\" height=\"60\" onerror=\"this.src='https://ssl.pstatic.net/static.news/image/news/errorimage/noimage_88x60.png';\" src=\"https://mimgnews.pstatic.net/image/origin/655/2022/04/25/1684.jpg?type=nf88_60\" width=\"88\"/>\n",
       " </a>,\n",
       " <a class=\"list_tit nclicks('rig.renws2')\" href=\"https://n.news.naver.com/mnews/ranking/article/655/0000001684?ntype=RANKING&amp;sid=001\">한덕수 국무총리 후보자 인사청문회..민주,정의당 보이콧</a>,\n",
       " <a class=\"list_press nclicks('rig.renws2pname')\" href=\"/main/ranking/office.naver?officeId=655\"><span class=\"list_press_thumb\"><img alt=\"\" height=\"16\" src=\"https://mimgnews.pstatic.net/image/upload/office_logo/655/2022/01/20/logo_655_56_20220120164501.png\" width=\"16\"/></span>CJB청주방송</a>,\n",
       " <a class=\"ranking_thumb nclicks('rig.renws2')\" href=\"https://n.news.naver.com/mnews/ranking/article/661/0000005841?ntype=RANKING&amp;sid=001\">\n",
       " <img alt=\"\" height=\"60\" onerror=\"this.src='https://ssl.pstatic.net/static.news/image/news/errorimage/noimage_88x60.png';\" src=\"https://mimgnews.pstatic.net/image/origin/661/2022/04/25/5841.jpg?type=nf88_60\" width=\"88\"/>\n",
       " <strong class=\"r_ico r_vod_small\">동영상기사</strong>\n",
       " </a>,\n",
       " <a class=\"list_tit nclicks('rig.renws2')\" href=\"https://n.news.naver.com/mnews/ranking/article/661/0000005841?ntype=RANKING&amp;sid=001\">[영상] 제주앞바다 돌고래 수십 마리  '장관'</a>,\n",
       " <a class=\"list_press nclicks('rig.renws2pname')\" href=\"/main/ranking/office.naver?officeId=661\"><span class=\"list_press_thumb\"><img alt=\"\" height=\"16\" src=\"https://mimgnews.pstatic.net/image/upload/office_logo/661/2022/01/19/logo_661_56_20220119142145.png\" width=\"16\"/></span>JIBS</a>,\n",
       " <a class=\"ranking_thumb nclicks('rig.renws2')\" href=\"https://n.news.naver.com/mnews/ranking/article/657/0000002652?ntype=RANKING&amp;sid=001\">\n",
       " <img alt=\"\" height=\"60\" onerror=\"this.src='https://ssl.pstatic.net/static.news/image/news/errorimage/noimage_88x60.png';\" src=\"https://mimgnews.pstatic.net/image/origin/657/2022/04/25/2652.jpg?type=nf88_60\" width=\"88\"/>\n",
       " <strong class=\"r_ico r_vod_small\">동영상기사</strong>\n",
       " </a>,\n",
       " <a class=\"list_tit nclicks('rig.renws2')\" href=\"https://n.news.naver.com/mnews/ranking/article/657/0000002652?ntype=RANKING&amp;sid=001\">[위클리 키워드] 검수완박</a>,\n",
       " <a class=\"list_press nclicks('rig.renws2pname')\" href=\"/main/ranking/office.naver?officeId=657\"><span class=\"list_press_thumb\"><img alt=\"\" height=\"16\" src=\"https://mimgnews.pstatic.net/image/upload/office_logo/657/2022/01/19/logo_657_56_20220119135625.png\" width=\"16\"/></span>대구MBC</a>,\n",
       " <a class=\"ranking_thumb nclicks('rig.renws2')\" href=\"https://n.news.naver.com/mnews/ranking/article/659/0000002297?ntype=RANKING&amp;sid=001\">\n",
       " <img alt=\"\" height=\"60\" onerror=\"this.src='https://ssl.pstatic.net/static.news/image/news/errorimage/noimage_88x60.png';\" src=\"https://mimgnews.pstatic.net/image/origin/659/2022/04/25/2297.jpg?type=nf88_60\" width=\"88\"/>\n",
       " </a>,\n",
       " <a class=\"list_tit nclicks('rig.renws2')\" href=\"https://n.news.naver.com/mnews/ranking/article/659/0000002297?ntype=RANKING&amp;sid=001\">낮 최고 기온 28도..밤부터 내일까지 강우량 20 ~70 …</a>,\n",
       " <a class=\"list_press nclicks('rig.renws2pname')\" href=\"/main/ranking/office.naver?officeId=659\"><span class=\"list_press_thumb\"><img alt=\"\" height=\"16\" src=\"https://mimgnews.pstatic.net/image/upload/office_logo/659/2022/01/19/logo_659_56_20220119141438.png\" width=\"16\"/></span>전주MBC</a>,\n",
       " <a class=\"ranking_thumb nclicks('rig.renws2')\" href=\"https://n.news.naver.com/mnews/ranking/article/656/0000010123?ntype=RANKING&amp;sid=001\">\n",
       " <img alt=\"\" height=\"60\" onerror=\"this.src='https://ssl.pstatic.net/static.news/image/news/errorimage/noimage_88x60.png';\" src=\"https://mimgnews.pstatic.net/image/origin/656/2022/04/25/10123.jpg?type=nf88_60\" width=\"88\"/>\n",
       " </a>,\n",
       " <a class=\"list_tit nclicks('rig.renws2')\" href=\"https://n.news.naver.com/mnews/ranking/article/656/0000010123?ntype=RANKING&amp;sid=001\">권은희 제명안 부결 \"안철수 정치적 타격 크다는 이유\"</a>,\n",
       " <a class=\"list_press nclicks('rig.renws2pname')\" href=\"/main/ranking/office.naver?officeId=656\"><span class=\"list_press_thumb\"><img alt=\"\" height=\"16\" src=\"https://mimgnews.pstatic.net/image/upload/office_logo/656/2022/01/19/logo_656_56_20220119134936.png\" width=\"16\"/></span>대전일보</a>,\n",
       " <a class=\"ranking_thumb nclicks('rig.renws2')\" href=\"https://n.news.naver.com/mnews/ranking/article/660/0000006314?ntype=RANKING&amp;sid=001\">\n",
       " <img alt=\"\" height=\"60\" onerror=\"this.src='https://ssl.pstatic.net/static.news/image/news/errorimage/noimage_88x60.png';\" src=\"https://mimgnews.pstatic.net/image/origin/660/2022/04/25/6314.jpg?type=nf88_60\" width=\"88\"/>\n",
       " </a>,\n",
       " <a class=\"list_tit nclicks('rig.renws2')\" href=\"https://n.news.naver.com/mnews/ranking/article/660/0000006314?ntype=RANKING&amp;sid=001\">\"담배 피냐\" 제자 폭행한 중학교 체육교사 집행유예</a>,\n",
       " <a class=\"list_press nclicks('rig.renws2pname')\" href=\"/main/ranking/office.naver?officeId=660\"><span class=\"list_press_thumb\"><img alt=\"\" height=\"16\" src=\"https://mimgnews.pstatic.net/image/upload/office_logo/660/2022/01/19/logo_660_56_20220119141745.png\" width=\"16\"/></span>kbc광주방송</a>,\n",
       " <a class=\"ranking_thumb nclicks('rig.renws2')\" href=\"https://n.news.naver.com/mnews/ranking/article/654/0000008386?ntype=RANKING&amp;sid=001\">\n",
       " <img alt=\"\" height=\"60\" onerror=\"this.src='https://ssl.pstatic.net/static.news/image/news/errorimage/noimage_88x60.png';\" src=\"https://mimgnews.pstatic.net/image/origin/654/2022/04/25/8386.jpg?type=nf88_60\" width=\"88\"/>\n",
       " </a>,\n",
       " <a class=\"list_tit nclicks('rig.renws2')\" href=\"https://n.news.naver.com/mnews/ranking/article/654/0000008386?ntype=RANKING&amp;sid=001\">권성동, 박병석 국회의장과 비공개 면담… \"검수완박 재논의 …</a>,\n",
       " <a class=\"list_press nclicks('rig.renws2pname')\" href=\"/main/ranking/office.naver?officeId=654\"><span class=\"list_press_thumb\"><img alt=\"\" height=\"16\" src=\"https://mimgnews.pstatic.net/image/upload/office_logo/654/2022/01/14/logo_654_56_20220114111216.png\" width=\"16\"/></span>강원도민일보</a>,\n",
       " <a class=\"ranking_thumb nclicks('rig.renws2')\" href=\"https://n.news.naver.com/mnews/ranking/article/353/0000042094?ntype=RANKING&amp;sid=001\">\n",
       " <img alt=\"\" height=\"60\" onerror=\"this.src='https://ssl.pstatic.net/static.news/image/news/errorimage/noimage_88x60.png';\" src=\"https://mimgnews.pstatic.net/image/origin/353/2022/04/23/42094.jpg?type=nf88_60\" width=\"88\"/>\n",
       " </a>,\n",
       " <a class=\"list_tit nclicks('rig.renws2')\" href=\"https://n.news.naver.com/mnews/ranking/article/353/0000042094?ntype=RANKING&amp;sid=001\">[디지털 시대, 오프라인의 귀환]MZ세대 ‘3감’ 잡아라… …</a>,\n",
       " <a class=\"list_press nclicks('rig.renws2pname')\" href=\"/main/ranking/office.naver?officeId=353\"><span class=\"list_press_thumb\"><img alt=\"\" height=\"16\" src=\"https://mimgnews.pstatic.net/image/upload/office_logo/353/2018/09/20/logo_353_56_20180920154420.png\" width=\"16\"/></span>중앙SUNDAY</a>,\n",
       " <a class=\"ranking_thumb nclicks('rig.renws2')\" href=\"https://n.news.naver.com/mnews/ranking/article/656/0000010123?ntype=RANKING&amp;sid=001\">\n",
       " <img alt=\"\" height=\"60\" onerror=\"this.src='https://ssl.pstatic.net/static.news/image/news/errorimage/noimage_88x60.png';\" src=\"https://mimgnews.pstatic.net/image/origin/656/2022/04/25/10123.jpg?type=nf88_60\" width=\"88\"/>\n",
       " </a>,\n",
       " <a class=\"list_tit nclicks('rig.renws2')\" href=\"https://n.news.naver.com/mnews/ranking/article/656/0000010123?ntype=RANKING&amp;sid=001\">권은희 제명안 부결 \"안철수 정치적 타격 크다는 이유\"</a>,\n",
       " <a class=\"list_press nclicks('rig.renws2pname')\" href=\"/main/ranking/office.naver?officeId=656\"><span class=\"list_press_thumb\"><img alt=\"\" height=\"16\" src=\"https://mimgnews.pstatic.net/image/upload/office_logo/656/2022/01/19/logo_656_56_20220119134936.png\" width=\"16\"/></span>대전일보</a>,\n",
       " <a class=\"ranking_thumb nclicks('rig.renws2')\" href=\"https://n.news.naver.com/mnews/ranking/article/660/0000006314?ntype=RANKING&amp;sid=001\">\n",
       " <img alt=\"\" height=\"60\" onerror=\"this.src='https://ssl.pstatic.net/static.news/image/news/errorimage/noimage_88x60.png';\" src=\"https://mimgnews.pstatic.net/image/origin/660/2022/04/25/6314.jpg?type=nf88_60\" width=\"88\"/>\n",
       " </a>,\n",
       " <a class=\"list_tit nclicks('rig.renws2')\" href=\"https://n.news.naver.com/mnews/ranking/article/660/0000006314?ntype=RANKING&amp;sid=001\">\"담배 피냐\" 제자 폭행한 중학교 체육교사 집행유예</a>,\n",
       " <a class=\"list_press nclicks('rig.renws2pname')\" href=\"/main/ranking/office.naver?officeId=660\"><span class=\"list_press_thumb\"><img alt=\"\" height=\"16\" src=\"https://mimgnews.pstatic.net/image/upload/office_logo/660/2022/01/19/logo_660_56_20220119141745.png\" width=\"16\"/></span>kbc광주방송</a>,\n",
       " <a class=\"ranking_thumb nclicks('rig.renws2')\" href=\"https://n.news.naver.com/mnews/ranking/article/654/0000008386?ntype=RANKING&amp;sid=001\">\n",
       " <img alt=\"\" height=\"60\" onerror=\"this.src='https://ssl.pstatic.net/static.news/image/news/errorimage/noimage_88x60.png';\" src=\"https://mimgnews.pstatic.net/image/origin/654/2022/04/25/8386.jpg?type=nf88_60\" width=\"88\"/>\n",
       " </a>,\n",
       " <a class=\"list_tit nclicks('rig.renws2')\" href=\"https://n.news.naver.com/mnews/ranking/article/654/0000008386?ntype=RANKING&amp;sid=001\">권성동, 박병석 국회의장과 비공개 면담… \"검수완박 재논의 …</a>,\n",
       " <a class=\"list_press nclicks('rig.renws2pname')\" href=\"/main/ranking/office.naver?officeId=654\"><span class=\"list_press_thumb\"><img alt=\"\" height=\"16\" src=\"https://mimgnews.pstatic.net/image/upload/office_logo/654/2022/01/14/logo_654_56_20220114111216.png\" width=\"16\"/></span>강원도민일보</a>,\n",
       " <a class=\"ranking_thumb nclicks('rig.renws2')\" href=\"https://n.news.naver.com/mnews/ranking/article/353/0000042094?ntype=RANKING&amp;sid=001\">\n",
       " <img alt=\"\" height=\"60\" onerror=\"this.src='https://ssl.pstatic.net/static.news/image/news/errorimage/noimage_88x60.png';\" src=\"https://mimgnews.pstatic.net/image/origin/353/2022/04/23/42094.jpg?type=nf88_60\" width=\"88\"/>\n",
       " </a>,\n",
       " <a class=\"list_tit nclicks('rig.renws2')\" href=\"https://n.news.naver.com/mnews/ranking/article/353/0000042094?ntype=RANKING&amp;sid=001\">[디지털 시대, 오프라인의 귀환]MZ세대 ‘3감’ 잡아라… …</a>,\n",
       " <a class=\"list_press nclicks('rig.renws2pname')\" href=\"/main/ranking/office.naver?officeId=353\"><span class=\"list_press_thumb\"><img alt=\"\" height=\"16\" src=\"https://mimgnews.pstatic.net/image/upload/office_logo/353/2018/09/20/logo_353_56_20180920154420.png\" width=\"16\"/></span>중앙SUNDAY</a>,\n",
       " <a class=\"ranking_thumb nclicks('rig.renws2')\" href=\"https://n.news.naver.com/mnews/ranking/article/145/0000016123?ntype=RANKING&amp;sid=001\">\n",
       " <img alt=\"\" height=\"60\" onerror=\"this.src='https://ssl.pstatic.net/static.news/image/news/errorimage/noimage_88x60.png';\" src=\"https://mimgnews.pstatic.net/image/origin/145/2022/04/25/16123.jpg?type=nf88_60\" width=\"88\"/>\n",
       " </a>,\n",
       " <a class=\"list_tit nclicks('rig.renws2')\" href=\"https://n.news.naver.com/mnews/ranking/article/145/0000016123?ntype=RANKING&amp;sid=001\">아시아계 미국인 청년 사망 원인 1위 ‘극단적 선택’</a>,\n",
       " <a class=\"list_press nclicks('rig.renws2pname')\" href=\"/main/ranking/office.naver?officeId=145\"><span class=\"list_press_thumb\"><img alt=\"\" height=\"16\" src=\"https://mimgnews.pstatic.net/image/upload/office_logo/145/2020/12/09/logo_145_56_20201209180915.png\" width=\"16\"/></span>레이디경향</a>,\n",
       " <a class=\"nclicks(rig.secteco)\" href=\"https://n.news.naver.com/mnews/article/025/0003190063?sid=100\" title='[e글중심] 보이콧으로 한덕수 청문회 파행 \"성실히 자료 제출해야\" \"민주당의 몽니\"'>[e글중심] 보이콧으로 한덕수 청문회 파행 \"성실히 자료 제출해야\" \"민주당의 몽니\"</a>,\n",
       " <a class=\"nclicks(rig.secteco)\" href=\"https://n.news.naver.com/mnews/article/015/0004690050?sid=100\" title='조국 \"이미 여러 번 사과\"…회고록에선 \"딸아, 넌 잘못 없다\"'>조국 \"이미 여러 번 사과\"…회고록에선 \"딸아, 넌 잘못 없다\"</a>,\n",
       " <a class=\"nclicks(rig.secteco)\" href=\"https://n.news.naver.com/mnews/article/008/0004737353?sid=100\" title=\"尹, SK바사 국산 1호 백신 직접 방문…백신주권은 얼마나 왔나\">尹, SK바사 국산 1호 백신 직접 방문…백신주권은 얼마나 왔나</a>,\n",
       " <a class=\"nclicks(rig.secteco)\" href=\"https://n.news.naver.com/mnews/article/001/0013136326?sid=104\" title=\"러 보란듯 키이우 찾은 美국무, 추가지원·신임대사 발표(종합)\">러 보란듯 키이우 찾은 美국무, 추가지원·신임대사 발표(종합)</a>,\n",
       " <a class=\"nclicks(rig.secteco)\" href=\"https://n.news.naver.com/mnews/article/018/0005199448?sid=104\" title=\"프랑스 국민들은 왜 마크롱을 택했나\">프랑스 국민들은 왜 마크롱을 택했나</a>,\n",
       " <a class=\"nclicks(rig.secteco)\" href=\"https://n.news.naver.com/mnews/article/008/0004737350?sid=101\" title='\"이재용·신동빈 사면 간곡히 부탁\" 경제계, 청와대에 청원'>\"이재용·신동빈 사면 간곡히 부탁\" 경제계, 청와대에 청원</a>,\n",
       " <a class=\"nclicks(rig.secteco)\" href=\"https://n.news.naver.com/mnews/article/243/0000025728?sid=101\" title=\"“내 월급도 올려줘“…한은 “물가상승, 하반기부터 임금상승으로”\">“내 월급도 올려줘“…한은 “물가상승, 하반기부터 임금상승으로”</a>,\n",
       " <a class=\"nclicks(rig.secteco)\" href=\"https://n.news.naver.com/mnews/article/277/0005079430?sid=101\" title='포스코홀딩스, 1Q 연결영업익 2.3兆, 전년比 43.9%↑…\"원료탄가 하향안정화\"(종합)'>포스코홀딩스, 1Q 연결영업익 2.3兆, 전년比 43.9%↑…\"원료탄가 하향안정화\"(종합)</a>,\n",
       " <a class=\"nclicks(rig.secteco)\" href=\"https://n.news.naver.com/mnews/article/011/0004046289?sid=105\" title=\"전원공급없이 모든 정보 복원·작동되는 비휘발성 컴퓨터 세계 최초 개발\">전원공급없이 모든 정보 복원·작동되는 비휘발성 컴퓨터 세계 최초 개발</a>,\n",
       " <a class=\"nclicks(rig.secteco)\" href=\"https://n.news.naver.com/mnews/article/030/0003012656?sid=105\" title=\"[뉴스줌인]클라우드 활용모델, 공공·민간 '윈윈게임'\">[뉴스줌인]클라우드 활용모델, 공공·민간 '윈윈게임'</a>,\n",
       " <a class=\"nclicks(rig.secteco)\" href=\"https://n.news.naver.com/mnews/article/018/0005199607?sid=102\" title=\"내일부터 7000여대 서울버스 멈추나…서울시 “비상수송 대책 마련”\">내일부터 7000여대 서울버스 멈추나…서울시 “비상수송 대책 마련”</a>,\n",
       " <a class=\"nclicks(rig.secteco)\" href=\"https://n.news.naver.com/mnews/article/018/0005199600?sid=102\" title='전장연 지하철 시위 첫 경찰 조사…\"장애인 권리 위반부터 수사해야\"'>전장연 지하철 시위 첫 경찰 조사…\"장애인 권리 위반부터 수사해야\"</a>,\n",
       " <a class=\"nclicks(rig.secteco)\" href=\"https://n.news.naver.com/mnews/article/001/0013136018?sid=102\" title=\"검수완박 '중재안' 몰랐다는 김오수…검찰 내부는 싸늘(종합)\">검수완박 '중재안' 몰랐다는 김오수…검찰 내부는 싸늘(종합)</a>,\n",
       " <a class=\"nclicks(rig.secteco)\" href=\"https://n.news.naver.com/mnews/article/374/0000283463?sid=103\" title=\"현대차, 1분기 영업이익 1조9289억… 전년대비 16.4%↑\">현대차, 1분기 영업이익 1조9289억… 전년대비 16.4%↑</a>,\n",
       " <a class=\"nclicks(rig.secteco)\" href=\"https://n.news.naver.com/mnews/article/449/0000225920?sid=103\" title=\"[날씨]오늘~내일 전국 강한 비…고온 현상 꺾여\">[날씨]오늘~내일 전국 강한 비…고온 현상 꺾여</a>,\n",
       " <a class=\"nclicks(rig.banner)\" href=\"https://media.naver.com/channel/settings\"> <img alt=\"네이버 메인에서 바로 보는 언론사 편집뉴스 지금 바로 구독해보세요!\" src=\"https://imgnews.pstatic.net/image/upload/item/2018/11/27/175236270_PC_%25BF%25EC%25C3%25F8%25B9%25E8%25B3%25CA_%25B1%25B8%25B5%25B6%25C8%25B0%25BC%25BA%25C8%25AD.png\" width=\"300\"/> </a>,\n",
       " <a class=\"nclicks(rig.banner)\" href=\"https://news.naver.com/main/ombudsman/guidecenter.naver?mid=omb\" target=\"_blank\"> <img alt=\"뉴스 기사와 댓글로 인한 문제 발생 시 24시간 센터로 접수해주세요\" src=\"https://imgnews.pstatic.net/image/upload/item/2018/08/29/183426027_%25BD%25C5%25B0%25ED%25B9%25E8%25B3%25CA.png\" width=\"300\"/> </a>,\n",
       " <a class=\"nclicks(rig.text)\" href=\"https://news.naver.com/main/ombudsman/index.naver\"> 서비스 안내 </a>,\n",
       " <a class=\"nclicks(rig.text)\" href=\"https://news.naver.com/main/ombudsman/errorArticleList.naver?mid=omb\"> 고침 기사 모음 </a>,\n",
       " <a class=\"nclicks(rig.text)\" href=\"https://news.naver.com/main/ombudsman/revisionArticleList.naver?mid=omb\"> 정정·반론·추후 보도 기사 모음 </a>,\n",
       " <a class=\"nclicks(rig.text)\" href=\"https://news.naver.com/main/hotissue/sectionList.naver?mid=hot&amp;sid1=100&amp;cid=909906&amp;decorator=ombudsman&amp;confirm=true\"> 불공정 선거 보도 기사 모음 </a>,\n",
       " <a class=\"more_link nclicks(rig.text)\" href=\"https://news.naver.com/main/ombudsman/index.naver\"><span class=\"blind\">서비스 안내</span>더보기</a>,\n",
       " <a class=\"floating_btn_back\" href=\"javascript:history.back();\"><span class=\"blind\">이젠 페이지</span></a>,\n",
       " <a class=\"floating_btn_top\" href=\"#\" onclick=\"window.scrollTo(0,0);oWebAccessibilityUtil.moveFocus(document.getElementById('da_base'));return false;\"><span class=\"blind\">맨위로</span></a>,\n",
       " <a class=\"spr stit nclicks(fot.press)\" href=\"#\" id=\"index.press.btn\">언론사 목록<span class=\"_stit_tab_arrow stit_arrow\"><span class=\"blind\">열기</span></span><span class=\"loading\" style=\"display:none;\">로딩 중</span></a>,\n",
       " <a class=\"spr stit2 nclicks(fot.section)\" href=\"#\" id=\"index.category.btn\">분야별 목록<span class=\"_stit_tab_arrow stit_arrow\"><span class=\"blind\">열기</span></span><span class=\"loading\" style=\"display:none;\">로딩 중</span></a>,\n",
       " <a class=\"nclicks(fot.agreement)\" href=\"http://www.naver.com/rules/service.html\">이용약관</a>,\n",
       " <a class=\"nclicks(fot.guide)\" href=\"/main/ombudsman/index.naver\">서비스 안내</a>,\n",
       " <a class=\"nclicks(fot.editor)\" href=\"/main/ombudsman/edit.naver?mid=omb\">기사배열 원칙 책임자 : 유봉석</a>,\n",
       " <a class=\"nclicks(fot.privacy)\" href=\"http://www.naver.com/rules/privacy.html\">개인정보처리방침</a>,\n",
       " <a class=\"nclicks(fot.disclaimer)\" href=\"http://www.naver.com/rules/disclaimer.html\">책임의 한계와 법적고지</a>,\n",
       " <a class=\"nclicks(fot.help)\" href=\"#\" onclick=\"news.external.OPS.helpNews(); return false;\" title=\"새창\">뉴스 고객센터</a>,\n",
       " <a class=\"logo nclicks(fot.naver)\" href=\"https://www.navercorp.com/\" target=\"_blank\"><span class=\"blind\">NAVER</span></a>,\n",
       " <a class=\"nclicks(fot.navercorp)\" href=\"https://www.navercorp.com/\" target=\"_blank\">NAVER Corp.</a>]"
      ]
     },
     "execution_count": 262,
     "metadata": {},
     "output_type": "execute_result"
    }
   ],
   "source": [
    "from bs4 import BeautifulSoup\n",
    "bs = BeautifulSoup(r.text, 'lxml')\n",
    "bs.findAll(\"a\")"
   ]
  },
  {
   "cell_type": "code",
   "execution_count": null,
   "id": "f7798e8d",
   "metadata": {},
   "outputs": [],
   "source": []
  },
  {
   "cell_type": "code",
   "execution_count": 246,
   "id": "fdaab893",
   "metadata": {},
   "outputs": [],
   "source": [
    "import re"
   ]
  },
  {
   "cell_type": "code",
   "execution_count": 247,
   "id": "83645e8c",
   "metadata": {},
   "outputs": [],
   "source": [
    "text = \"https://n.news.naver.com/mnews/article/243/0000025733?sid=105\""
   ]
  },
  {
   "cell_type": "code",
   "execution_count": 258,
   "id": "8b06edf7",
   "metadata": {},
   "outputs": [],
   "source": [
    "p = \"[0-9]+\\?sid\""
   ]
  },
  {
   "cell_type": "code",
   "execution_count": 259,
   "id": "d41916be",
   "metadata": {},
   "outputs": [],
   "source": [
    "pattern = re.compile(p)"
   ]
  },
  {
   "cell_type": "code",
   "execution_count": 260,
   "id": "e8dba332",
   "metadata": {},
   "outputs": [
    {
     "data": {
      "text/plain": [
       "['0000025733?sid']"
      ]
     },
     "execution_count": 260,
     "metadata": {},
     "output_type": "execute_result"
    }
   ],
   "source": [
    "pattern.findall(text)"
   ]
  },
  {
   "cell_type": "code",
   "execution_count": 272,
   "id": "3d659259",
   "metadata": {
    "scrolled": true
   },
   "outputs": [
    {
     "data": {
      "text/plain": [
       "['0006051094',\n",
       " '0006051094',\n",
       " '0004825635',\n",
       " '0004825635',\n",
       " '0001982483',\n",
       " '0001982483',\n",
       " '0001521400',\n",
       " '0001521400',\n",
       " '0002254896',\n",
       " '0002254896',\n",
       " '0002254895',\n",
       " '0002254895',\n",
       " '0000025733',\n",
       " '0000025733',\n",
       " '0002254894',\n",
       " '0002254894',\n",
       " '0006051055',\n",
       " '0006051055',\n",
       " '0004825617',\n",
       " '0004825617',\n",
       " '0003012666',\n",
       " '0000671455',\n",
       " '0000671455',\n",
       " '0011144359',\n",
       " '0011144359',\n",
       " '0004690079',\n",
       " '0004690079',\n",
       " '0011144358',\n",
       " '0011144358',\n",
       " '0011144357',\n",
       " '0011144357',\n",
       " '0002123392',\n",
       " '0002123392',\n",
       " '0004954589',\n",
       " '0004954589',\n",
       " '0000038857',\n",
       " '0000038857',\n",
       " '0002254891',\n",
       " '0002254891',\n",
       " '0003190063',\n",
       " '0004690050',\n",
       " '0004737353',\n",
       " '0013136326',\n",
       " '0005199448',\n",
       " '0004737350',\n",
       " '0000025728',\n",
       " '0005079430',\n",
       " '0004046289',\n",
       " '0003012656',\n",
       " '0005199607',\n",
       " '0005199600',\n",
       " '0013136018',\n",
       " '0000283463',\n",
       " '0000225920']"
      ]
     },
     "execution_count": 272,
     "metadata": {},
     "output_type": "execute_result"
    }
   ],
   "source": [
    "p = \"([0-9]+)\\?sid\" # + 가 있어야 숫자 여러개 다 뽑음\n",
    "pattern = re.compile(p)\n",
    "pattern.findall(r.text)"
   ]
  },
  {
   "cell_type": "code",
   "execution_count": null,
   "id": "c2198bee",
   "metadata": {},
   "outputs": [],
   "source": []
  }
 ],
 "metadata": {
  "kernelspec": {
   "display_name": "Python 3 (ipykernel)",
   "language": "python",
   "name": "python3"
  },
  "language_info": {
   "codemirror_mode": {
    "name": "ipython",
    "version": 3
   },
   "file_extension": ".py",
   "mimetype": "text/x-python",
   "name": "python",
   "nbconvert_exporter": "python",
   "pygments_lexer": "ipython3",
   "version": "3.9.7"
  }
 },
 "nbformat": 4,
 "nbformat_minor": 5
}
