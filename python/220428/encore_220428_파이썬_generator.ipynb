{
 "cells": [
  {
   "cell_type": "markdown",
   "id": "89cad531",
   "metadata": {},
   "source": [
    "## 피보나치"
   ]
  },
  {
   "cell_type": "code",
   "execution_count": null,
   "id": "a376ffb0",
   "metadata": {},
   "outputs": [],
   "source": [
    "def fib(n):\n",
    "    a, b = 0, 1\n",
    "    for x in range(n):\n",
    "        a, b = b, a + b\n",
    "    return a"
   ]
  },
  {
   "cell_type": "code",
   "execution_count": 1,
   "id": "9c95a037-7b6b-4f57-89a0-12295004fbba",
   "metadata": {},
   "outputs": [],
   "source": [
    "num_list = {0:1, 1:1}\n",
    "\n",
    "def fib(n):\n",
    "    if n in num_list:\n",
    "        return num_list[n]\n",
    "    else:\n",
    "        result = fib(n-1) + fib(n-2)\n",
    "        num_list[n] = result\n",
    "        return result\n"
   ]
  },
  {
   "cell_type": "code",
   "execution_count": 3,
   "id": "f9c1aebd-29eb-4e0f-a6df-ca17930c9d37",
   "metadata": {},
   "outputs": [
    {
     "name": "stdout",
     "output_type": "stream",
     "text": [
      "Wall time: 0 ns\n"
     ]
    },
    {
     "data": {
      "text/plain": [
       "21926181917556241406686103706309915958486962357677823319609567683411737103996154706784970805215687688521901419825115263702442945271943536926661440182594140777502197056285887176431805932352996517081429110551249721527408760372455849356040271478780238165116043293748873801451260758422788414440690362014196035679949001"
      ]
     },
     "execution_count": 3,
     "metadata": {},
     "output_type": "execute_result"
    }
   ],
   "source": [
    "%%time\n",
    "fib(1500)"
   ]
  },
  {
   "cell_type": "code",
   "execution_count": 4,
   "id": "5b2b124c-ed17-44bd-9a36-cd0a740b0536",
   "metadata": {},
   "outputs": [],
   "source": [
    "def find_fibonacci_seq_rec(n):\n",
    "    if n < 2 : return n\n",
    "    return find_fibonacci_seq_rec(n - 1) + find_fibonacci_seq_rec(n - 2) "
   ]
  },
  {
   "cell_type": "code",
   "execution_count": null,
   "id": "b8539c40-3519-441d-9788-d415de53924c",
   "metadata": {},
   "outputs": [],
   "source": [
    "find_fibonacci_seq_rec(100)"
   ]
  },
  {
   "cell_type": "code",
   "execution_count": 9,
   "id": "e23755f4-83be-4479-b217-2a789e3f569d",
   "metadata": {},
   "outputs": [],
   "source": [
    "def find_fibonacci_seq_iter(n):\n",
    "    if n < 2 : return n\n",
    "    a, b = 0, 1 \n",
    "    for i in range(n):\n",
    "        a, b = b , a + b\n",
    "    return a "
   ]
  },
  {
   "cell_type": "code",
   "execution_count": 18,
   "id": "0c2078eb-1643-4f83-9de1-5bed6c223281",
   "metadata": {
    "scrolled": true,
    "tags": []
   },
   "outputs": [
    {
     "name": "stdout",
     "output_type": "stream",
     "text": [
      "Wall time: 23.1 s\n"
     ]
    }
   ],
   "source": [
    "%%time\n",
    "rt = find_fibonacci_seq_iter(1500000)"
   ]
  },
  {
   "cell_type": "code",
   "execution_count": 15,
   "id": "b820dc3d-3915-4368-9d6e-d7ae290372f3",
   "metadata": {},
   "outputs": [],
   "source": [
    "def fib_generator():\n",
    "    a, b = 0, 1\n",
    "    while True:\n",
    "        yield b\n",
    "        a, b = b, a + b"
   ]
  },
  {
   "cell_type": "code",
   "execution_count": null,
   "id": "c35a8ecf-f3f9-428f-80eb-2d030a7eb17b",
   "metadata": {},
   "outputs": [],
   "source": [
    "%%time\n",
    "fib = fib_generator()\n",
    "for x in range(1500000):\n",
    "    rt2 = next(fib)"
   ]
  },
  {
   "cell_type": "markdown",
   "id": "8249b98b-b01a-4575-8ead-5ba62aab0797",
   "metadata": {
    "tags": []
   },
   "source": [
    "# 제네레이터 함수와 제네레이터 수식"
   ]
  },
  {
   "cell_type": "markdown",
   "id": "dbe32a26-ef0d-468a-8f30-5af33d3f2b01",
   "metadata": {},
   "source": [
    "* 제네레이터 함수는 일반 함수와 같은 구조를 가지고 있지만 return을 사용하지 않고 yield문을 사용하여 반복자(iterator)를 생성하여 중간 결과값을 전달\n",
    "* 그 지점에서 정지하였다가 호출 함수에서 다시 next() 함수 또는 send() 함수를 사용하여 제네레이터의 반복자가 제개되며, yield 문까지 실행이 진행 "
   ]
  },
  {
   "cell_type": "code",
   "execution_count": 23,
   "id": "fa73f930-bf66-4385-b633-96212240c680",
   "metadata": {},
   "outputs": [],
   "source": [
    "def myRange(n):\n",
    "    i = 0\n",
    "    while i < n:\n",
    "        yield i\n",
    "        i += 1"
   ]
  },
  {
   "cell_type": "code",
   "execution_count": 22,
   "id": "b5436501-f424-4a2c-9564-4a489118b001",
   "metadata": {
    "scrolled": true,
    "tags": []
   },
   "outputs": [
    {
     "name": "stdout",
     "output_type": "stream",
     "text": [
      "0\n",
      "1\n",
      "2\n",
      "3\n",
      "4\n",
      "5\n",
      "6\n",
      "7\n",
      "8\n",
      "9\n",
      "10\n",
      "11\n",
      "12\n",
      "13\n",
      "14\n",
      "15\n",
      "16\n",
      "17\n",
      "18\n",
      "19\n"
     ]
    }
   ],
   "source": [
    "for x in myRange(20):\n",
    "    print(x)"
   ]
  },
  {
   "cell_type": "code",
   "execution_count": 48,
   "id": "ff5c1895-c180-4b02-b039-952c39019964",
   "metadata": {},
   "outputs": [],
   "source": [
    "a = myRange(5)"
   ]
  },
  {
   "cell_type": "code",
   "execution_count": 47,
   "id": "07c828ac-f4df-4c3c-aff5-85069b4f9af0",
   "metadata": {},
   "outputs": [],
   "source": [
    "## next()와 __next__() 동일 \n",
    "# next(a)"
   ]
  },
  {
   "cell_type": "code",
   "execution_count": 46,
   "id": "e7cede18-cb2e-497d-b439-d3e179b89f47",
   "metadata": {},
   "outputs": [
    {
     "ename": "StopIteration",
     "evalue": "",
     "output_type": "error",
     "traceback": [
      "\u001b[1;31m---------------------------------------------------------------------------\u001b[0m",
      "\u001b[1;31mStopIteration\u001b[0m                             Traceback (most recent call last)",
      "\u001b[1;32m~\\AppData\\Local\\Temp/ipykernel_13180/1464353201.py\u001b[0m in \u001b[0;36m<module>\u001b[1;34m\u001b[0m\n\u001b[1;32m----> 1\u001b[1;33m \u001b[0ma\u001b[0m\u001b[1;33m.\u001b[0m\u001b[0m__next__\u001b[0m\u001b[1;33m(\u001b[0m\u001b[1;33m)\u001b[0m\u001b[1;33m\u001b[0m\u001b[1;33m\u001b[0m\u001b[0m\n\u001b[0m",
      "\u001b[1;31mStopIteration\u001b[0m: "
     ]
    }
   ],
   "source": [
    "a.__next__()"
   ]
  },
  {
   "cell_type": "code",
   "execution_count": null,
   "id": "c34278ef-7b2c-45cd-8652-c3e82b0be121",
   "metadata": {},
   "outputs": [],
   "source": []
  },
  {
   "cell_type": "code",
   "execution_count": null,
   "id": "bed0149c-ed05-4456-badd-8d9307e28f71",
   "metadata": {},
   "outputs": [],
   "source": []
  },
  {
   "cell_type": "code",
   "execution_count": null,
   "id": "d73c8ca9-8860-4b18-ba10-f3f44f37256b",
   "metadata": {},
   "outputs": [],
   "source": []
  },
  {
   "cell_type": "code",
   "execution_count": null,
   "id": "fe0f7aab-570a-43ff-b02c-c2df022e0636",
   "metadata": {},
   "outputs": [],
   "source": []
  },
  {
   "cell_type": "code",
   "execution_count": null,
   "id": "cc859c74-1a5c-4807-9f7b-1cfda40cc046",
   "metadata": {},
   "outputs": [],
   "source": []
  },
  {
   "cell_type": "code",
   "execution_count": null,
   "id": "d51f1d90-c465-404c-8002-52edecc62bef",
   "metadata": {},
   "outputs": [],
   "source": []
  },
  {
   "cell_type": "code",
   "execution_count": null,
   "id": "b9e2e8e0-3121-4f22-af1f-b86bd5f08554",
   "metadata": {},
   "outputs": [],
   "source": []
  },
  {
   "cell_type": "code",
   "execution_count": null,
   "id": "4ed9696e-db0a-4548-b15a-cd7e611f22a2",
   "metadata": {},
   "outputs": [],
   "source": []
  },
  {
   "cell_type": "code",
   "execution_count": null,
   "id": "22b4b020-ee60-4e22-ab42-37a8d2de5545",
   "metadata": {},
   "outputs": [],
   "source": []
  },
  {
   "cell_type": "code",
   "execution_count": null,
   "id": "405e458d-7c45-4b4c-8871-713260ef8b09",
   "metadata": {},
   "outputs": [],
   "source": []
  },
  {
   "cell_type": "code",
   "execution_count": null,
   "id": "79c4eb2a-d4de-45e1-8750-1508b3408ff3",
   "metadata": {},
   "outputs": [],
   "source": []
  },
  {
   "cell_type": "code",
   "execution_count": null,
   "id": "ac6529ed-5f4f-4d28-bf17-c16a366b2c07",
   "metadata": {},
   "outputs": [],
   "source": [
    "def fib_generator():\n",
    "    a, b = 0, 1\n",
    "    while True:\n",
    "        yield b\n",
    "        a, b = b, a + b"
   ]
  },
  {
   "cell_type": "code",
   "execution_count": null,
   "id": "0189602f-c490-494d-aba8-55753bb87b11",
   "metadata": {
    "scrolled": true,
    "tags": []
   },
   "outputs": [],
   "source": [
    "%%time\n",
    "fib = fib_generator()\n",
    "for x in range(15000000):\n",
    "    # print ( f\"{x+1}번째 : {next(fib)}\"  )\n",
    "    pass"
   ]
  },
  {
   "cell_type": "code",
   "execution_count": null,
   "id": "5d1946cd-e50c-4cc1-bbc1-bd092e58f73c",
   "metadata": {},
   "outputs": [],
   "source": [
    "def find_fibonacci_seq_iter(n):\n",
    "    if n < 2 : return n\n",
    "    a, b = 0, 1 \n",
    "    for i in range(n):\n",
    "        a, b = b , a + b\n",
    "    return a "
   ]
  },
  {
   "cell_type": "code",
   "execution_count": null,
   "id": "0336c7e1-9d96-4ce0-b4c9-7b07145e7cde",
   "metadata": {
    "scrolled": true,
    "tags": []
   },
   "outputs": [],
   "source": [
    "%%time\n",
    "find_fibonacci_seq_iter(15000000)"
   ]
  },
  {
   "cell_type": "code",
   "execution_count": null,
   "id": "867babe2-de48-4654-9242-f81aa9da9bea",
   "metadata": {},
   "outputs": [],
   "source": [
    "def find_fibonacci_seq_rec(n):\n",
    "    if n < 2 : return n\n",
    "    return find_fibonacci_seq_rec(n - 1) + find_fibonacci_seq_rec(n - 2) "
   ]
  },
  {
   "cell_type": "code",
   "execution_count": null,
   "id": "ca2724d9-01cb-4224-977a-0eabdefc99f8",
   "metadata": {},
   "outputs": [],
   "source": [
    "find_fibonacci_seq_rec(150)"
   ]
  },
  {
   "cell_type": "code",
   "execution_count": null,
   "id": "387a0411-7261-4d56-8100-7691cc2195f2",
   "metadata": {},
   "outputs": [],
   "source": []
  }
 ],
 "metadata": {
  "kernelspec": {
   "display_name": "Python 3 (ipykernel)",
   "language": "python",
   "name": "python3"
  },
  "language_info": {
   "codemirror_mode": {
    "name": "ipython",
    "version": 3
   },
   "file_extension": ".py",
   "mimetype": "text/x-python",
   "name": "python",
   "nbconvert_exporter": "python",
   "pygments_lexer": "ipython3",
   "version": "3.9.7"
  }
 },
 "nbformat": 4,
 "nbformat_minor": 5
}
